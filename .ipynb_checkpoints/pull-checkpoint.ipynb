{
 "cells": [
  {
   "cell_type": "code",
   "execution_count": null,
   "metadata": {},
   "outputs": [],
   "source": [
    "from textblob import TextBlob\n",
    "import collections\n",
    "from collections import Counter\n",
    "import pickle \n",
    "import string\n",
    "import pandas as pd\n",
    "from textblob import TextBlob\n",
    "import matplotlib.pyplot as plt\n",
    "#from nltk.corpus import stopwords \n",
    "#from nltk.tokenize import word_tokenize \n",
    "from math import ceil\n",
    "import tweepy\n",
    "import active\n",
    "import numpy as np\n",
    "import psycopg2\n",
    "from googletrans import Translator\n",
    "#creating a separate folder for  each tweet\n",
    "\n",
    "translator = Translator()\n",
    "consumer_key='rNrnFupaEqKt0eb7hjbdHKdWg'\n",
    "consumer_secret= 'DTTMoQOrCBmngaXmOnFhrBjdjwtT54x0AbGvNwwuqyYNWwEvc7'\n",
    "access_token='1002268050513575936-gGrQUmDiMyCxO2Y88lc3ojqNzbtLGm'\n",
    "access_token_secret='G572YTe2S5TQTTaXhFvl1WyNopa8ilrkgWSlCXBZQwU4C'\n",
    "auth = tweepy.OAuthHandler(consumer_key, consumer_secret)\n",
    "auth.set_access_token(access_token, access_token_secret)\n",
    "api = tweepy.API(auth,wait_on_rate_limit=True)\n",
    "\n",
    "\n",
    "tweet=api.search('Modi',lang='en',count=150)\n",
    "\n",
    "\n",
    "for i in tweet:\n",
    "    try:\n",
    "        name1=active.deEmojify(i.user.name)\n",
    "        name=active.clean_tweet(name1)\n",
    "        name_trans=translator.translate(name)\n",
    "        loc1 = active.deEmojify(i.user.location)     \n",
    "        loco=active.clean_tweet(loc1)\n",
    "        tra=translator.translate(i.user.location)\n",
    "        print(\"Original name: \",i.user.name)\n",
    "        print(\"Cleaned name: \",name)\n",
    "        print(\"Translated name: \",name_trans)\n",
    "        print(\"Original Location: \",i.user.location)\n",
    "        print(\"Cleaned Location: \",loco)\n",
    "        print(\"Translated Location: \",tra)\n",
    "        \n",
    "\n",
    "    except:\n",
    "        continue\n"
   ]
  },
  {
   "cell_type": "code",
   "execution_count": null,
   "metadata": {},
   "outputs": [],
   "source": []
  },
  {
   "cell_type": "code",
   "execution_count": null,
   "metadata": {},
   "outputs": [],
   "source": []
  }
 ],
 "metadata": {
  "kernelspec": {
   "display_name": "Python 3",
   "language": "python",
   "name": "python3"
  },
  "language_info": {
   "codemirror_mode": {
    "name": "ipython",
    "version": 3
   },
   "file_extension": ".py",
   "mimetype": "text/x-python",
   "name": "python",
   "nbconvert_exporter": "python",
   "pygments_lexer": "ipython3",
   "version": "3.7.3"
  }
 },
 "nbformat": 4,
 "nbformat_minor": 2
}
