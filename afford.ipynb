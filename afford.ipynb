{
  "nbformat": 4,
  "nbformat_minor": 0,
  "metadata": {
    "colab": {
      "name": "afford.ipynb",
      "provenance": [],
      "collapsed_sections": []
    },
    "kernelspec": {
      "name": "python3",
      "display_name": "Python 3"
    },
    "accelerator": "TPU"
  },
  "cells": [
    {
      "cell_type": "code",
      "metadata": {
        "id": "wt7TgZ-phyA2",
        "colab_type": "code",
        "outputId": "61d13d67-cd85-4da7-bd33-8d62ae571e4d",
        "colab": {
          "base_uri": "https://localhost:8080/",
          "height": 203
        }
      },
      "source": [
        "!pip install GetOldTweets3"
      ],
      "execution_count": 1,
      "outputs": [
        {
          "output_type": "stream",
          "text": [
            "Collecting GetOldTweets3\n",
            "  Downloading https://files.pythonhosted.org/packages/ed/f4/a00c2a7c90801abc875325bb5416ce9090ac86d06a00cc887131bd73ba45/GetOldTweets3-0.0.11-py3-none-any.whl\n",
            "Collecting pyquery>=1.2.10\n",
            "  Downloading https://files.pythonhosted.org/packages/78/43/95d42e386c61cb639d1a0b94f0c0b9f0b7d6b981ad3c043a836c8b5bc68b/pyquery-1.4.1-py2.py3-none-any.whl\n",
            "Requirement already satisfied: lxml>=3.5.0 in /usr/local/lib/python3.6/dist-packages (from GetOldTweets3) (4.2.6)\n",
            "Collecting cssselect>0.7.9\n",
            "  Downloading https://files.pythonhosted.org/packages/3b/d4/3b5c17f00cce85b9a1e6f91096e1cc8e8ede2e1be8e96b87ce1ed09e92c5/cssselect-1.1.0-py2.py3-none-any.whl\n",
            "Installing collected packages: cssselect, pyquery, GetOldTweets3\n",
            "Successfully installed GetOldTweets3-0.0.11 cssselect-1.1.0 pyquery-1.4.1\n"
          ],
          "name": "stdout"
        }
      ]
    },
    {
      "cell_type": "code",
      "metadata": {
        "id": "-gd7tuBL3XIC",
        "colab_type": "code",
        "outputId": "a91976a3-477a-4ded-e651-53c2a51be211",
        "colab": {
          "base_uri": "https://localhost:8080/",
          "height": 54
        }
      },
      "source": [
        "from google.colab import drive\n",
        "import pickle\n",
        "import GetOldTweets3 as got\n",
        "drive.mount('/content/drive')\n",
        "DATA_PATH = \"/content/drive/My Drive/Colab Notebooks/Internship/Usernames/Mumbai\"\n",
        "users4=open(DATA_PATH+'/slot3.pickle','rb')\n",
        "real_tweets3=pickle.load(users4)\n",
        "users4.close()\n",
        "\n",
        "print(len(real_tweets3))"
      ],
      "execution_count": 4,
      "outputs": [
        {
          "output_type": "stream",
          "text": [
            "Drive already mounted at /content/drive; to attempt to forcibly remount, call drive.mount(\"/content/drive\", force_remount=True).\n",
            "672\n"
          ],
          "name": "stdout"
        }
      ]
    },
    {
      "cell_type": "code",
      "metadata": {
        "id": "CdrAZ2Y0zIxR",
        "colab_type": "code",
        "outputId": "c3ba0068-badf-4db7-cb9e-e3abb7088b1d",
        "colab": {
          "base_uri": "https://localhost:8080/",
          "height": 35
        }
      },
      "source": [
        "import multiprocessing \n",
        "crawled=set()\n",
        "m = multiprocessing.Manager()\n",
        "q = m.Queue()\n",
        "for i in real_tweets3:      \n",
        "    q.put(i)\n",
        "print(q.qsize())\n",
        "li=list()\n",
        "def check_if_rich(q):  \n",
        "  keywords=['singapore','america','spain','germany','france','paris','berlin','europe','bali','indonesia','switzerland','australia','malaysia','united kingdom','london','mauritius','maldives','thailand','dubai','netherland','tokyo','japan','canada','new york','california','fransisco','angeles','vegas','miami','florida','usa','bermuda','iceland','denmark','luxembourg','kuwait','hong kong','greece','mercedes','bmw','lexus','jaguar','royce','fortuner','audi','bentley','porsche','ferrari','volvo','triumph','enfield','interceptor','rover','cadillac','maserati','lamborghini','hilfiger','rolex','rado','tissot','giordano','diesel','fossil','guess','kors','calvin klein','heuer','armani','adidas','nike','piguet','blanc','hublot','patek', 'bandra', 'khar', 'mahalaxmi', 'south bombay', 'worli', 'vashi', 'colaba','dadar','malabar','lokhandwala','andheri','powai','juhu','peddar','altamount','parel', 'trident','marriot','itc','oberoi','taj','hyatt','lalit','sahara','four seasons','westin','orchid','kohinoor','fariyas','marine plaza','meluha','rodas','radisson','shalimar','waterstones','ambassador','ramada','mirage']\n",
        "  while(q.empty()!=True):\n",
        "    uname=q.get()\n",
        "    print(uname)\n",
        "    if uname not in crawled:\n",
        "        crawled.add(uname)\n",
        "        tweetCriteria = got.manager.TweetCriteria().setUsername(uname).setSince(\"2019-01-01\").setUntil(\"2019-12-31\")\n",
        "        tweets = got.manager.TweetManager.getTweets(tweetCriteria)\n",
        "        print(\"Crawling User: \",uname)      \n",
        "        for j in tweets:\n",
        "            if any(word in ((j.text).lower()).split() for word in keywords):\n",
        "                li.append(uname)\n",
        "                print(li)\n",
        "                print(j.text)\n",
        "                break\n",
        "        print(\"Going for next user.\")\n",
        "  return li\n",
        "\n",
        "\n"
      ],
      "execution_count": 19,
      "outputs": [
        {
          "output_type": "stream",
          "text": [
            "85\n"
          ],
          "name": "stdout"
        }
      ]
    },
    {
      "cell_type": "code",
      "metadata": {
        "id": "tvXeT-wVrDR8",
        "colab_type": "code",
        "colab": {}
      },
      "source": [
        "from concurrent.futures import ProcessPoolExecutor\n",
        "import time\n",
        "start_time = time.time()\n",
        "\n",
        "# with concurrent.futures.ProcessPoolExecutor(7) as executor:\n",
        "#     future = executor.submit(check_if_rich, q)\n",
        "#     return_value = future.result()\n",
        "\n",
        "\n",
        "\n",
        "pool = ProcessPoolExecutor(4)\n",
        " \n",
        "future = pool.submit(check_if_rich, q)\n",
        "result=future.result()\n",
        "\n",
        "print(\"--- %s seconds ---\" % (time.time() - start_time))\n",
        "\n"
      ],
      "execution_count": 0,
      "outputs": []
    },
    {
      "cell_type": "code",
      "metadata": {
        "id": "xEE_5BwFh9vs",
        "colab_type": "code",
        "outputId": "dabc467c-5c11-46dd-f24d-1d61bc8e234d",
        "colab": {
          "base_uri": "https://localhost:8080/",
          "height": 35
        }
      },
      "source": [
        "print(result[0])"
      ],
      "execution_count": 21,
      "outputs": [
        {
          "output_type": "stream",
          "text": [
            "rohitg1181\n"
          ],
          "name": "stdout"
        }
      ]
    },
    {
      "cell_type": "code",
      "metadata": {
        "id": "vpaY0MsLKDdA",
        "colab_type": "code",
        "colab": {
          "base_uri": "https://localhost:8080/",
          "height": 55
        },
        "outputId": "0ba73883-97d5-400a-baf6-2f63d53a2d56"
      },
      "source": [
        "import tweepy\n",
        "\n",
        "consumer_key='rNrnFupaEqKt0eb7hjbdHKdWg'\n",
        "consumer_secret= 'DTTMoQOrCBmngaXmOnFhrBjdjwtT54x0AbGvNwwuqyYNWwEvc7'\n",
        "access_token='1002268050513575936-gGrQUmDiMyCxO2Y88lc3ojqNzbtLGm'\n",
        "access_token_secret='G572YTe2S5TQTTaXhFvl1WyNopa8ilrkgWSlCXBZQwU4C'\n",
        "auth = tweepy.OAuthHandler(consumer_key, consumer_secret)\n",
        "auth.set_access_token(access_token, access_token_secret)\n",
        "api = tweepy.API(auth,wait_on_rate_limit=True)\n",
        "\n",
        "pname=list()\n",
        "for i in result:\n",
        "    u=api.get_user(i)\n",
        "    pname.append(u.name)\n",
        "\n",
        "print(pname)"
      ],
      "execution_count": 22,
      "outputs": [
        {
          "output_type": "stream",
          "text": [
            "['राही', 'ashuleo', 'Shree Mangal Murti', 'Jackal - T Ventures', 'Neelesh Korade', 'Amit Chawla', 'ameya kadam', 'KreateCube', '🌟 Faith', 'Nil Frando', 'Thane Economou', 'merry james', 'Adv.Vivekanand Gupta 🇮🇳', 'KRD Pravin', 'SUNDIP SAXENA', 'Shiksha Jagrit Abhiyaan Foundation', '🏴\\u200d☠️🐵🏴\\u200d☠️', 'ASHISH SHAH', 'charlotte louise', 'Prthamesh', 'D. V. Bhanushali Real Estate', 'JAGAHA', 'Devendra Date', 'Milind Goraksha', 'Priyankk', 'INFRATECH OFFICIAL', 'Zachy WestSide', 'Bhabtosh', 'LeJagah com - more than a place...', 'DikshaBhoomi Enterprises', 'BTVI Live', 'Runwal Group', 'Rocketsoup', 'Sunil Ramachandani', 'Sonia Kapoor', 'aditya thakur', 'Pritam Biswas', 'Aarefa Johari', 'Varun Bansal', 'Ambi Parameswaran', 'Kapil Yash', 'Ordinary Being', 'QUIDTASK', 'LivNest Real Estate Advisory', 'amit jain', 'Mamura.co', 'Eline Maria', 'Ramesh Ramachandran', '20int 2lugg0']\n"
          ],
          "name": "stdout"
        }
      ]
    },
    {
      "cell_type": "code",
      "metadata": {
        "id": "sK2s96yYKDl3",
        "colab_type": "code",
        "colab": {
          "base_uri": "https://localhost:8080/",
          "height": 55
        },
        "outputId": "869314ae-49bc-4948-ac97-e400c24779f2"
      },
      "source": [
        "import string\n",
        "import re\n",
        "def clean_tweet(tweet): \n",
        "    ''' \n",
        "    Use sumple regex statemnents to clean tweet text by removing links and special characters\n",
        "    '''\n",
        "    return ' '.join(re.sub(\"(@[A-Za-z0-9]+)|([^0-9A-Za-z \\t]) \\\n",
        "                                |(\\w+:\\/\\/\\S+)\", \" \", tweet).split()) \n",
        "def deEmojify(text):\n",
        "    '''\n",
        "    Strip all non-ASCII characters to remove emoji characters\n",
        "    '''\n",
        "    if text:\n",
        "        return text.encode('ascii', 'ignore').decode('ascii')\n",
        "    else:\n",
        "        return None\n",
        "\n",
        "clean=list()\n",
        "\n",
        "mail=['gmail','yahoo','hotmail','rediff']\n",
        "\n",
        "for i in pname:\n",
        "  if (any(word in i.lower() for word in mail))==True:  \n",
        "      clean.append(i.lower())    \n",
        "  else:\n",
        "      demo=deEmojify(i)\n",
        "      cle=clean_tweet(demo)\n",
        "      cleaned=cle.translate(str.maketrans(string.punctuation, ' '*len(string.punctuation)))\n",
        "      clean.append(cleaned)\n",
        "\n",
        "print(clean)"
      ],
      "execution_count": 25,
      "outputs": [
        {
          "output_type": "stream",
          "text": [
            "['', 'ashuleo', 'Shree Mangal Murti', 'Jackal   T Ventures', 'Neelesh Korade', 'Amit Chawla', 'ameya kadam', 'KreateCube', 'Faith', 'Nil Frando', 'Thane Economou', 'merry james', 'Adv Vivekanand Gupta', 'KRD Pravin', 'SUNDIP SAXENA', 'Shiksha Jagrit Abhiyaan Foundation', '', 'ASHISH SHAH', 'charlotte louise', 'Prthamesh', 'D  V  Bhanushali Real Estate', 'JAGAHA', 'Devendra Date', 'Milind Goraksha', 'Priyankk', 'INFRATECH OFFICIAL', 'Zachy WestSide', 'Bhabtosh', 'LeJagah com   more than a place   ', 'DikshaBhoomi Enterprises', 'BTVI Live', 'Runwal Group', 'Rocketsoup', 'Sunil Ramachandani', 'Sonia Kapoor', 'aditya thakur', 'Pritam Biswas', 'Aarefa Johari', 'Varun Bansal', 'Ambi Parameswaran', 'Kapil Yash', 'Ordinary Being', 'QUIDTASK', 'LivNest Real Estate Advisory', 'amit jain', 'Mamura co', 'Eline Maria', 'Ramesh Ramachandran', '20int 2lugg0']\n"
          ],
          "name": "stdout"
        }
      ]
    },
    {
      "cell_type": "code",
      "metadata": {
        "id": "kkNcSgd4KHVT",
        "colab_type": "code",
        "colab": {
          "base_uri": "https://localhost:8080/",
          "height": 55
        },
        "outputId": "7175e5ef-10b0-4047-decc-5040377c495d"
      },
      "source": [
        "no=['decor','realt','digi','acre','resid','stock','group','article','project','commerc','brick','india','guru','new','market', \\\n",
        "    'enterp','vastu','astro','estate','mall','hous','mumbai','sky','room','home','flat','design','interior','furniture','trend', \\\n",
        "    'pack','build','work','propert','vastu','gym','loan','luxury','bloomberg','business','direct','time',\\\n",
        "    'revenue','day','bank','agen','job','minis','corpo','tech', \\\n",
        "    'boss','nation','associat','developer','broth','invest','people','dna','media','break','bombay','lodha','hiranandani']\n",
        "finalset=set()\n",
        "for i in clean:\n",
        "    if any(word in i.lower() for word in no):\n",
        "        finalset.add(i)\n",
        "\n",
        "users=set(clean)\n",
        "h=users-finalset\n",
        "print(h)\n"
      ],
      "execution_count": 26,
      "outputs": [
        {
          "output_type": "stream",
          "text": [
            "{'', 'Bhabtosh', 'BTVI Live', 'Thane Economou', 'Jackal   T Ventures', 'Sonia Kapoor', 'Mamura co', 'Zachy WestSide', 'ameya kadam', 'SUNDIP SAXENA', 'Kapil Yash', 'Prthamesh', 'Adv Vivekanand Gupta', 'Rocketsoup', 'Sunil Ramachandani', 'LeJagah com   more than a place   ', 'Faith', 'KreateCube', 'Priyankk', 'Devendra Date', 'KRD Pravin', 'QUIDTASK', 'Neelesh Korade', 'charlotte louise', 'Varun Bansal', 'Eline Maria', 'ashuleo', 'Aarefa Johari', 'Ambi Parameswaran', 'Shiksha Jagrit Abhiyaan Foundation', 'Amit Chawla', 'Shree Mangal Murti', '20int 2lugg0', 'merry james', 'ASHISH SHAH', 'Ramesh Ramachandran', 'Ordinary Being', 'Pritam Biswas', 'Milind Goraksha', 'JAGAHA', 'Nil Frando', 'amit jain', 'aditya thakur'}\n"
          ],
          "name": "stdout"
        }
      ]
    },
    {
      "cell_type": "code",
      "metadata": {
        "id": "c_1fyfXDMplN",
        "colab_type": "code",
        "colab": {
          "base_uri": "https://localhost:8080/",
          "height": 35
        },
        "outputId": "ec6f07ac-ac7b-429c-8ebf-5213c017cc79"
      },
      "source": [
        "for i in users:\n",
        "  if 'amit' in i:\n",
        "    print(i)"
      ],
      "execution_count": 47,
      "outputs": [
        {
          "output_type": "stream",
          "text": [
            "amit jain\n"
          ],
          "name": "stdout"
        }
      ]
    },
    {
      "cell_type": "code",
      "metadata": {
        "id": "jvaWgd35KJjA",
        "colab_type": "code",
        "colab": {}
      },
      "source": [
        "import string\n",
        "import time\n",
        "import threading\n",
        "import urllib\n",
        "import re\n",
        "import io\n",
        "import sys\n",
        "from time import sleep\n",
        "import pickle\n",
        "import pandas as pd\n",
        "\n",
        "\n",
        "def formats(first, middle, last, domain):\n",
        "    \"\"\"\n",
        "    Create a list of 30 possible email formats combining:\n",
        "    - First name:          [empty] | Full | Initial |\n",
        "    - Delimitator:         [empty] |   .  |    _    |    -\n",
        "    - Last name:           [empty] | Full | Initial |\n",
        "    \"\"\"\n",
        "    list = []\n",
        "    emails=['gmail','yahoo','rediff','hotmail']\n",
        "\n",
        "    if any(word in first for word in emails):\n",
        "        list.append(first)\n",
        "\n",
        "    elif any(word in middle for word in emails):\n",
        "        list.append(middle)\n",
        "\n",
        "    elif any(word in last for word in emails):\n",
        "        list.append(last)\n",
        "\n",
        "\n",
        "    elif len(last)==0:\n",
        "        list.append(first + '@' + domain)                    # first@example.com\n",
        "\n",
        "\n",
        "    else:\n",
        "        list.append(first[0] + last + '@' + domain)          # flast@example.com\n",
        "        list.append(first[0] + '.' + last + '@' + domain)    # f.last@example.com\n",
        "        list.append(first[0] + '_' + last + '@' + domain)    # f_last@example.com\n",
        "        list.append(first + '@' + domain)                    # first@example.com\n",
        "        list.append(first + last + '@' + domain)             # firstlast@example.com\n",
        "        list.append(first + '.' + last + '@' + domain)       # first.last@example.com\n",
        "        list.append(first + '_' + last + '@' + domain)       # first_last@example.com\n",
        "        list.append(first + '-' + last + '@' + domain)       # first-last@example.com\n",
        "\n",
        "        list.append(first + last[0] + '@' + domain)          # fistl@example.com\n",
        "        list.append(first + '.' + last[0] + '@' + domain)    # first.l@example.com\n",
        "        list.append(first + '_' + last[0] + '@' + domain)    # fist_l@example.com\n",
        "        \n",
        "        list.append(first[0] + middle + last + '@' + domain)          # fmiddlelast@example.com\n",
        "        list.append(first[0] + '.' + middle + last + '@' + domain)    # f.middlelast@example.com\n",
        "        list.append(first[0] + middle + '.' + last + '@' + domain)    # fmiddle.last@example.com\n",
        "        list.append(first[0] + '_' + middle+ last + '@' + domain)    # f_middlelast@example.com\n",
        "        list.append(first[0] + middle +'_' + last + '@' + domain)    # fmiddle_last@example.com\n",
        "        list.append(first + middle+ last + '@' + domain)             # firstmiddlelast@example.com\n",
        "        list.append(first + middle + '.' + last + '@' + domain)       # firstmiddle.last@example.com\n",
        "        list.append(first + '.' + middle + last + '@' + domain)       # first.middlelast@example.com\n",
        "        list.append(first + '_' + middle + last + '@' + domain)       # first_last@example.com\n",
        "        list.append(first + middle + '_' + last + '@' + domain)       # first_last@example.com\n",
        "        list.append(first + middle+ last[0] + '@' + domain)          # firstmiddlel@example.com\n",
        "        list.append(first + '.' + middle +last[0] + '@' + domain)    # first.middlel@example.com\n",
        "        list.append(first + middle + '.' +last[0] + '@' + domain)    # firstmiddle.l@example.com\n",
        "        list.append(first + '_' + middle +last[0] + '@' + domain)    # first_middlel@example.com\n",
        "        list.append(first + middle +'_' + last[0] + '@' + domain)    # firstmiddle_l@example.com        \n",
        "        \n",
        "        list.append(last + '@' + domain)                     # last@example.com\n",
        "        list.append(last + first+ '@' + domain)              # lastfirst@example.com\n",
        "        list.append(last + '.' + first + '@' + domain)       # last.first@example.com\n",
        "        list.append(last + '_' + first + '@' + domain)       # last_first@example.com\n",
        "        list.append(last[0] + '.' + first + '@' + domain)    # l.first@example.com    \n",
        "        list.append(last[0] + first + '@' + domain)          # lfirst@example.com\n",
        "        list.append(last + first[0] + '@' + domain)          # lastf@example.com\n",
        "        list.append(last + '.' + first[0] + '@' + domain)    # last.f@example.com\n",
        "        list.append(last + '_' + first[0] + '@' + domain)    # last_f@example.com\n",
        "       \n",
        "    return(list)\n"
      ],
      "execution_count": 0,
      "outputs": []
    },
    {
      "cell_type": "code",
      "metadata": {
        "id": "jUvES89tKNgR",
        "colab_type": "code",
        "colab": {
          "base_uri": "https://localhost:8080/",
          "height": 35
        },
        "outputId": "5407f41d-ce94-49bf-e08e-ebdccf7848c2"
      },
      "source": [
        "len2=list()\n",
        "l1=list()\n",
        "l3=list()\n",
        "ln=list()\n",
        "\n",
        "email_list=list()\n",
        "\n",
        "for i in h:\n",
        "    try:\n",
        "        i=i.lower()\n",
        "        s=i.split()\n",
        "\n",
        "        if len(s)==2:\n",
        "            email_list.extend(formats(s[0],'',s[1],'hotmail.com'))\n",
        "            len2.append(i)\n",
        "        elif len(s)==1:\n",
        "            email_list.extend(formats(s[0],'','','hotmail.com'))        \n",
        "            l1.append(i)\n",
        "        elif len(s)==3:\n",
        "            email_list.extend(formats(s[0],s[1],s[2],'hotmail.com'))    \n",
        "            l3.append(i)\n",
        "        elif len(s)>3:\n",
        "            ln.append(i)\n",
        "            continue    \n",
        "    except:\n",
        "        continue        \n",
        "print(len(email_list))"
      ],
      "execution_count": 40,
      "outputs": [
        {
          "output_type": "stream",
          "text": [
            "1094\n"
          ],
          "name": "stdout"
        }
      ]
    },
    {
      "cell_type": "code",
      "metadata": {
        "id": "jmEPlAkc4N6f",
        "colab_type": "code",
        "colab": {}
      },
      "source": [
        "nino=list()\n"
      ],
      "execution_count": 0,
      "outputs": []
    },
    {
      "cell_type": "code",
      "metadata": {
        "id": "Q_ygQgmJ4QMy",
        "colab_type": "code",
        "outputId": "b3e150ce-0a52-448c-9bc2-e91f913faf8e",
        "colab": {
          "base_uri": "https://localhost:8080/",
          "height": 35
        }
      },
      "source": [
        "nino.extend(email_list)\n",
        "\n",
        "print(len(nino))\n",
        "\n"
      ],
      "execution_count": 41,
      "outputs": [
        {
          "output_type": "stream",
          "text": [
            "6564\n"
          ],
          "name": "stdout"
        }
      ]
    },
    {
      "cell_type": "code",
      "metadata": {
        "id": "QIFfittGMCAu",
        "colab_type": "code",
        "colab": {
          "base_uri": "https://localhost:8080/",
          "height": 128
        },
        "outputId": "299c07dc-279e-44cb-f7aa-40af1ed830d5"
      },
      "source": [
        "emails1=set(nino)\n",
        "print(len(emails1))\n"
      ],
      "execution_count": 52,
      "outputs": [
        {
          "output_type": "stream",
          "text": [
            "3365\n",
            "amit.chawla@hotmail.com\n",
            "amit.chawla@gmail.com\n",
            "amit.chawla@rediff.com\n",
            "amit.chawla@yahoo.co.in\n",
            "amit.chawla@yahoo.com\n"
          ],
          "name": "stdout"
        }
      ]
    },
    {
      "cell_type": "code",
      "metadata": {
        "id": "h3qHhzNRNWJm",
        "colab_type": "code",
        "colab": {}
      },
      "source": [
        "import pandas as pd\n",
        "\n",
        "ninoo=list(emails1)\n",
        "nino1=pd.Series(ninoo)"
      ],
      "execution_count": 0,
      "outputs": []
    },
    {
      "cell_type": "code",
      "metadata": {
        "id": "VRroUYAj4i3b",
        "colab_type": "code",
        "colab": {
          "base_uri": "https://localhost:8080/",
          "height": 74
        },
        "outputId": "5fd80071-ea17-4002-e69a-4157744e711b"
      },
      "source": [
        "# DATA_PATH = \"/content/drive/My Drive/Colab Notebooks/Internship/Usernames/Thane\"\n",
        "nino1.to_csv(\"/content/drive/My Drive/Colab Notebooks/Internship/Usernames/Thane/slot1.csv\",index=False,encoding='UTF-8')\n",
        "\n"
      ],
      "execution_count": 56,
      "outputs": [
        {
          "output_type": "stream",
          "text": [
            "/usr/local/lib/python3.6/dist-packages/ipykernel_launcher.py:1: FutureWarning: The signature of `Series.to_csv` was aligned to that of `DataFrame.to_csv`, and argument 'header' will change its default value from False to True: please pass an explicit value to suppress this warning.\n",
            "  \"\"\"Entry point for launching an IPython kernel.\n"
          ],
          "name": "stderr"
        }
      ]
    },
    {
      "cell_type": "code",
      "metadata": {
        "id": "YCFKdWXFOuIM",
        "colab_type": "code",
        "colab": {}
      },
      "source": [
        ""
      ],
      "execution_count": 0,
      "outputs": []
    },
    {
      "cell_type": "code",
      "metadata": {
        "id": "FR_bYVmQxlRM",
        "colab_type": "code",
        "colab": {}
      },
      "source": [
        ""
      ],
      "execution_count": 0,
      "outputs": []
    }
  ]
}