{
  "nbformat": 4,
  "nbformat_minor": 0,
  "metadata": {
    "colab": {
      "name": "afford_2.ipynb",
      "provenance": [],
      "collapsed_sections": []
    },
    "kernelspec": {
      "name": "python3",
      "display_name": "Python 3"
    },
    "accelerator": "TPU"
  },
  "cells": [
    {
      "cell_type": "code",
      "metadata": {
        "id": "hTX4YsRi8DiS",
        "colab_type": "code",
        "colab": {
          "base_uri": "https://localhost:8080/",
          "height": 168
        },
        "outputId": "bc400e31-7d4e-423f-8d83-b3d4d0e00c85"
      },
      "source": [
        "!pip install GetOldTweets3\n"
      ],
      "execution_count": 1,
      "outputs": [
        {
          "output_type": "stream",
          "text": [
            "Collecting GetOldTweets3\n",
            "  Downloading https://files.pythonhosted.org/packages/ed/f4/a00c2a7c90801abc875325bb5416ce9090ac86d06a00cc887131bd73ba45/GetOldTweets3-0.0.11-py3-none-any.whl\n",
            "Collecting pyquery>=1.2.10\n",
            "  Downloading https://files.pythonhosted.org/packages/78/43/95d42e386c61cb639d1a0b94f0c0b9f0b7d6b981ad3c043a836c8b5bc68b/pyquery-1.4.1-py2.py3-none-any.whl\n",
            "Requirement already satisfied: lxml>=3.5.0 in /usr/local/lib/python3.6/dist-packages (from GetOldTweets3) (4.2.6)\n",
            "Collecting cssselect>0.7.9\n",
            "  Downloading https://files.pythonhosted.org/packages/3b/d4/3b5c17f00cce85b9a1e6f91096e1cc8e8ede2e1be8e96b87ce1ed09e92c5/cssselect-1.1.0-py2.py3-none-any.whl\n",
            "Installing collected packages: cssselect, pyquery, GetOldTweets3\n",
            "Successfully installed GetOldTweets3-0.0.11 cssselect-1.1.0 pyquery-1.4.1\n"
          ],
          "name": "stdout"
        }
      ]
    },
    {
      "cell_type": "code",
      "metadata": {
        "id": "FCyAXs7WthZI",
        "colab_type": "code",
        "colab": {}
      },
      "source": [
        "li1=list()"
      ],
      "execution_count": 0,
      "outputs": []
    },
    {
      "cell_type": "code",
      "metadata": {
        "id": "SiLPQ1-W8Jbe",
        "colab_type": "code",
        "colab": {
          "base_uri": "https://localhost:8080/",
          "height": 50
        },
        "outputId": "42fdfabd-01bd-42b2-c517-4af9df3f76d6"
      },
      "source": [
        "from google.colab import drive\n",
        "import pickle\n",
        "import GetOldTweets3 as got\n",
        "drive.mount('/content/drive')\n",
        "DATA_PATH = \"/content/drive/My Drive/Colab\"\n",
        "users4=open(DATA_PATH+'/slot2.pickle','rb')\n",
        "real_tweets3=pickle.load(users4)\n",
        "users4.close()\n",
        "\n",
        "print(len(real_tweets3))"
      ],
      "execution_count": 1,
      "outputs": [
        {
          "output_type": "stream",
          "text": [
            "Drive already mounted at /content/drive; to attempt to forcibly remount, call drive.mount(\"/content/drive\", force_remount=True).\n",
            "178\n"
          ],
          "name": "stdout"
        }
      ]
    },
    {
      "cell_type": "code",
      "metadata": {
        "id": "g-Wyi4fU-iMQ",
        "colab_type": "code",
        "colab": {
          "base_uri": "https://localhost:8080/",
          "height": 50
        },
        "outputId": "3dc32b36-4d25-41d5-fd56-a51f9ed5ad58"
      },
      "source": [
        "from google.colab import drive\n",
        "import pickle\n",
        "import GetOldTweets3 as got\n",
        "drive.mount('/content/drive')\n",
        "DATA_PATH = \"/content/drive/My Drive/Colab\"\n",
        "users4=open(DATA_PATH+'/allcommon.pickle','rb')\n",
        "existing=pickle.load(users4)\n",
        "users4.close()\n",
        "\n",
        "print(len(existing))"
      ],
      "execution_count": 2,
      "outputs": [
        {
          "output_type": "stream",
          "text": [
            "Drive already mounted at /content/drive; to attempt to forcibly remount, call drive.mount(\"/content/drive\", force_remount=True).\n",
            "133\n"
          ],
          "name": "stdout"
        }
      ]
    },
    {
      "cell_type": "code",
      "metadata": {
        "id": "98uhdAdo8LM1",
        "colab_type": "code",
        "colab": {
          "base_uri": "https://localhost:8080/",
          "height": 1000
        },
        "outputId": "1f8378dc-70fa-4b3f-e26f-0000dcbccd38"
      },
      "source": [
        "\n",
        "li=list()\n",
        "keywords=['singapore','america','spain','germany','france','paris','berlin','europe','bali','indonesia','switzerland','australia','malaysia','united kingdom','london','mauritius','maldives','thailand','dubai','netherland','tokyo','japan','canada','new york','california','fransisco','angeles','vegas','miami','florida','usa','bermuda','iceland','denmark','luxembourg','kuwait','hong kong','greece','mercedes','bmw','lexus','jaguar','royce','fortuner','audi','bentley','porsche','ferrari','volvo','triumph','enfield','interceptor','rover','cadillac','maserati','lamborghini','hilfiger','rolex','rado','tissot','giordano','diesel','fossil','guess','kors','calvin klein','heuer','armani','adidas','nike','piguet','blanc','hublot','patek', 'bandra', 'khar', 'mahalaxmi', 'south bombay', 'worli', 'vashi', 'colaba','dadar','malabar','lokhandwala','andheri','powai','juhu','peddar','altamount','parel', 'trident','marriot','itc','oberoi','taj','hyatt','lalit','sahara','four seasons','westin','orchid','kohinoor','fariyas','marine plaza','meluha','rodas','radisson','shalimar','waterstones','ambassador','ramada','mirage']\n",
        "for i in real_tweets3:\n",
        "    if i not in existing:\n",
        "        tweetCriteria = got.manager.TweetCriteria().setUsername(i).setSince(\"2019-01-01\").setUntil(\"2019-12-31\")\n",
        "        tweets = got.manager.TweetManager.getTweets(tweetCriteria)\n",
        "        print(\"Crawling User: \",i)    \n",
        "        for j in tweets:\n",
        "            if any(word in ((j.text).lower()).split() for word in keywords):\n",
        "                li.append(i)\n",
        "                print(li)\n",
        "                print(j.text)\n",
        "                break\n",
        "        print(\"Going for next user.\")\n",
        "\n",
        "\n",
        "\n",
        "\n"
      ],
      "execution_count": 4,
      "outputs": [
        {
          "output_type": "stream",
          "text": [
            "Crawling User:  Sidhart04707742\n",
            "Going for next user.\n",
            "Crawling User:  aksarode\n",
            "['aksarode']\n",
            "@nitin_gadkari Dear Sir please see the video of Vashi Mankhurd bridge. Still you think you want to extract money from common man when the roads are worst and maintenance pending from 1 month.\n",
            "Going for next user.\n",
            "Crawling User:  rkdreams01\n",
            "['aksarode', 'rkdreams01']\n",
            "Restaurant Location for Shooting in Andheri West, Mumbai Contact Now RK Dreams 7710896666 https://filmshootinglocations.com/restaurant-location-for-shooting-in-andheri-west-mumbai/\n",
            "Going for next user.\n",
            "Crawling User:  Balan_salem\n",
            "['aksarode', 'rkdreams01', 'Balan_salem']\n",
            "It was a pleasure watching Charles won 2 races after summer break, I am sure Mercedes and Lewis Hamilton will fight back \n",
            "Going for next user.\n",
            "Crawling User:  WandererSarang\n",
            "Going for next user.\n",
            "Crawling User:  Mustafa87883197\n",
            "Going for next user.\n",
            "Crawling User:  raj_ind76\n",
            "['aksarode', 'rkdreams01', 'Balan_salem', 'raj_ind76']\n",
            "In Dubai the Judiciary ordered a man who raped a 5 year old girl to be shot dead by the cops within 15 mins of the (rape) incident. MANY FEEL IT'S CRUEL BUT SHORTEST WAY OF PUNISHMENT.\n",
            "Going for next user.\n",
            "Crawling User:  DeepakM25756944\n",
            "Going for next user.\n",
            "Crawling User:  politicalnaveen\n",
            "['aksarode', 'rkdreams01', 'Balan_salem', 'raj_ind76', 'politicalnaveen']\n",
            "#Chennai #Banglore #Mumbai #bhopal #indore #nagpur #Sales #NaviMumbai #patna #thane #Hyderabad #kolkata #Surat #NewDelhi #Lucknow #Patna #Nashik #Bhopal #Ahemdabad #women #FashionWeek #men #WATCH #fossil Fossil Jacqueline Analog Rose Gold Dial https://amzn.to/2mybXCo\n",
            "Going for next user.\n",
            "Crawling User:  _raja\n",
            "['aksarode', 'rkdreams01', 'Balan_salem', 'raj_ind76', 'politicalnaveen', '_raja']\n",
            "“City of stars, are you shining just for me?” From La la land - Singapore #rajaramanphotography https://ift.tt/2MI6SkL\n",
            "Going for next user.\n",
            "Crawling User:  SpacesJvm\n",
            "Going for next user.\n",
            "Crawling User:  Inkfacefahz\n",
            "['aksarode', 'rkdreams01', 'Balan_salem', 'raj_ind76', 'politicalnaveen', '_raja', 'Inkfacefahz']\n",
            "So lesson is you cant go to canada\n",
            "Going for next user.\n",
            "Crawling User:  Navin_Shastry\n",
            "Going for next user.\n",
            "Crawling User:  ashuleo3\n",
            "['aksarode', 'rkdreams01', 'Balan_salem', 'raj_ind76', 'politicalnaveen', '_raja', 'Inkfacefahz', 'ashuleo3']\n",
            "Saraahna ....NOT SAHAARNA...I GUESS I m having this compulsive urge to correct your mistakes n u give it to me on platter:)))\n",
            "Going for next user.\n",
            "Crawling User:  rahulrzen\n",
            "['aksarode', 'rkdreams01', 'Balan_salem', 'raj_ind76', 'politicalnaveen', '_raja', 'Inkfacefahz', 'ashuleo3', 'rahulrzen']\n",
            "I have two project reports ready, one for Okinawa type aquarium and one for Singapore type aquarium with underwater glass-enclosed classrooms, conference rooms, restaurants, and the works. Key features in both cases are a secret. But I won’t share the plans with Uddhav’s govt.\n",
            "Going for next user.\n",
            "Crawling User:  Sneh4pals\n",
            "['aksarode', 'rkdreams01', 'Balan_salem', 'raj_ind76', 'politicalnaveen', '_raja', 'Inkfacefahz', 'ashuleo3', 'rahulrzen', 'Sneh4pals']\n",
            "@PMOIndia @narendramodi @Dassault_OnAir Mirage Miniture as a rememberance of Wg. Cdr. Abhinandan's heroic efforts and returns.. Handmade by Shreyas Malvankar\n",
            "Going for next user.\n",
            "Crawling User:  aniljayapujita\n",
            "['aksarode', 'rkdreams01', 'Balan_salem', 'raj_ind76', 'politicalnaveen', '_raja', 'Inkfacefahz', 'ashuleo3', 'rahulrzen', 'Sneh4pals', 'aniljayapujita']\n",
            "@AAI_Official @sureshpprabhu @myogiadityanath Dear Sir, could u pls let knw when the direct flight between prayagraj Bamrauli airport &amp; Mumbai will start. My relatives are planning to come ftom USA to visit kumbh and we are waiting for the start of direct flight b/w BOM and IXD\n",
            "Going for next user.\n",
            "Crawling User:  sarathi1627\n",
            "Going for next user.\n",
            "Crawling User:  SushilJ69116654\n",
            "['aksarode', 'rkdreams01', 'Balan_salem', 'raj_ind76', 'politicalnaveen', '_raja', 'Inkfacefahz', 'ashuleo3', 'rahulrzen', 'Sneh4pals', 'aniljayapujita', 'SushilJ69116654']\n",
            "Hiranandani Powai Launching 1 BHK at 1.26 Cr* Exclusive 20:80 @1.4 Cr* WhatsApp - https://bit.ly/2Mh1gwX Reg- http://regenthills-powai.co.in P51800018620 A51200006182\n",
            "Going for next user.\n",
            "Crawling User:  RupaliS56622876\n",
            "['aksarode', 'rkdreams01', 'Balan_salem', 'raj_ind76', 'politicalnaveen', '_raja', 'Inkfacefahz', 'ashuleo3', 'rahulrzen', 'Sneh4pals', 'aniljayapujita', 'SushilJ69116654', 'RupaliS56622876']\n",
            "Product demo video Video production company Los Angeles helps in producing product demo video which will help in reducing your costs and time. #corporatevideoproduction #crowdfundedvideoproduction #productvideo #videoproductionrates http://bit.ly/2Dasulf\n",
            "Going for next user.\n",
            "Crawling User:  SatyamCards\n",
            "['aksarode', 'rkdreams01', 'Balan_salem', 'raj_ind76', 'politicalnaveen', '_raja', 'Inkfacefahz', 'ashuleo3', 'rahulrzen', 'Sneh4pals', 'aniljayapujita', 'SushilJ69116654', 'RupaliS56622876', 'SatyamCards']\n",
            "On this special day, As we celebrate the triumph of good over evil. Celebrate this auspicious occasion of Dusshera with God Ram, Laxman, Sita, Hanuman idols and decorative items from Satyam Collection. Satyam Collection Wishes You Happy Dusshera #specialday #satyamcollection\n",
            "Going for next user.\n",
            "Crawling User:  HandleOfVikrant\n",
            "['aksarode', 'rkdreams01', 'Balan_salem', 'raj_ind76', 'politicalnaveen', '_raja', 'Inkfacefahz', 'ashuleo3', 'rahulrzen', 'Sneh4pals', 'aniljayapujita', 'SushilJ69116654', 'RupaliS56622876', 'SatyamCards', 'HandleOfVikrant']\n",
            "Damn once my nose was running for 2 days and my MBBS friend concluded that I have sinusitis. I guess he should work for webmd\n",
            "Going for next user.\n",
            "Crawling User:  GirirajHolistic\n",
            "Going for next user.\n",
            "Crawling User:  KriniLtd\n",
            "Going for next user.\n",
            "Crawling User:  murlipillai\n",
            "Going for next user.\n",
            "Crawling User:  GrabYourSpoon\n",
            "['aksarode', 'rkdreams01', 'Balan_salem', 'raj_ind76', 'politicalnaveen', '_raja', 'Inkfacefahz', 'ashuleo3', 'rahulrzen', 'Sneh4pals', 'aniljayapujita', 'SushilJ69116654', 'RupaliS56622876', 'SatyamCards', 'HandleOfVikrant', 'GrabYourSpoon']\n",
            "1. Cafe Berlin 2. Teardrop Explodes (this is dating me) 3. Tony Snell (Snelly) 4. Port of Liverpool Building 5. Luv 6. Any Beatles related thing (not ever happening either)\n",
            "Going for next user.\n",
            "Crawling User:  mehtavinay31\n",
            "Going for next user.\n",
            "Crawling User:  ganeshadhar\n",
            "Going for next user.\n",
            "Crawling User:  gharcool\n",
            "['aksarode', 'rkdreams01', 'Balan_salem', 'raj_ind76', 'politicalnaveen', '_raja', 'Inkfacefahz', 'ashuleo3', 'rahulrzen', 'Sneh4pals', 'aniljayapujita', 'SushilJ69116654', 'RupaliS56622876', 'SatyamCards', 'HandleOfVikrant', 'GrabYourSpoon', 'gharcool']\n",
            "2 BHK with Balcony available for sale at Project Rumah Bali by Puranik on Ghodbunder road, Thane… https://www.instagram.com/p/B0OMFioFZKr/?igshid=8p852w1u53aq\n",
            "Going for next user.\n",
            "Crawling User:  pooja_singh_seo\n",
            "Going for next user.\n",
            "Crawling User:  hthmthane\n",
            "Going for next user.\n",
            "Crawling User:  JioInstitutes\n",
            "['aksarode', 'rkdreams01', 'Balan_salem', 'raj_ind76', 'politicalnaveen', '_raja', 'Inkfacefahz', 'ashuleo3', 'rahulrzen', 'Sneh4pals', 'aniljayapujita', 'SushilJ69116654', 'RupaliS56622876', 'SatyamCards', 'HandleOfVikrant', 'GrabYourSpoon', 'gharcool', 'JioInstitutes']\n",
            "From where selective target started? Politicians Party Karyakartas Or Common Man. Earlier we never got into such things. I guess we (common man) are more busy today to secure our own future.\n",
            "Going for next user.\n",
            "Crawling User:  sagarsawant1985\n",
            "Going for next user.\n",
            "Crawling User:  ChinmayPatnaik\n",
            "['aksarode', 'rkdreams01', 'Balan_salem', 'raj_ind76', 'politicalnaveen', '_raja', 'Inkfacefahz', 'ashuleo3', 'rahulrzen', 'Sneh4pals', 'aniljayapujita', 'SushilJ69116654', 'RupaliS56622876', 'SatyamCards', 'HandleOfVikrant', 'GrabYourSpoon', 'gharcool', 'JioInstitutes', 'ChinmayPatnaik']\n",
            "After sending a dm as requested the issue is still unresolved. I guess govt @HMOIndia @PMOIndia @UIDAI doesn't want people to update their address even if they try to give the correct data to government. How pathetic.\n",
            "Going for next user.\n",
            "An error occured during an HTTP request: IncompleteRead(211424 bytes read, 21494 more expected)\n",
            "Try to open in browser: https://twitter.com/search?q=%20from%3Acrweworld%20since%3A2019-01-01%20until%3A2019-12-31&src=typd\n"
          ],
          "name": "stdout"
        },
        {
          "output_type": "error",
          "ename": "SystemExit",
          "evalue": "ignored",
          "traceback": [
            "An exception has occurred, use %tb to see the full traceback.\n",
            "\u001b[0;31mSystemExit\u001b[0m\n"
          ]
        },
        {
          "output_type": "stream",
          "text": [
            "/usr/local/lib/python3.6/dist-packages/IPython/core/interactiveshell.py:2890: UserWarning: To exit: use 'exit', 'quit', or Ctrl-D.\n",
            "  warn(\"To exit: use 'exit', 'quit', or Ctrl-D.\", stacklevel=1)\n"
          ],
          "name": "stderr"
        }
      ]
    },
    {
      "cell_type": "code",
      "metadata": {
        "id": "45dIT-YqA7wX",
        "colab_type": "code",
        "colab": {
          "base_uri": "https://localhost:8080/",
          "height": 54
        },
        "outputId": "e8f40b2d-7a11-4066-b4cb-ba7b977e011d"
      },
      "source": [
        "\n",
        "import tweepy\n",
        "\n",
        "consumer_key='rNrnFupaEqKt0eb7hjbdHKdWg'\n",
        "consumer_secret= 'DTTMoQOrCBmngaXmOnFhrBjdjwtT54x0AbGvNwwuqyYNWwEvc7'\n",
        "access_token='1002268050513575936-gGrQUmDiMyCxO2Y88lc3ojqNzbtLGm'\n",
        "access_token_secret='G572YTe2S5TQTTaXhFvl1WyNopa8ilrkgWSlCXBZQwU4C'\n",
        "auth = tweepy.OAuthHandler(consumer_key, consumer_secret)\n",
        "auth.set_access_token(access_token, access_token_secret)\n",
        "api = tweepy.API(auth,wait_on_rate_limit=True)\n",
        "\n",
        "pname=list()\n",
        "for i in li:\n",
        "    u=api.get_user(i)\n",
        "    pname.append(u.name)\n",
        "\n",
        "print(pname)\n"
      ],
      "execution_count": 43,
      "outputs": [
        {
          "output_type": "stream",
          "text": [
            "['mayur satale', 'Qualcon Dreams', 'Subhajeet Das', 'Vishwa Green Realtor', 'Hiten Sethi Architects', 'Mukesh Goswami', 'Ankush Dey', 'Konark Solitaire', 'Nil Frando', 'Aristo Real Estate', 'Vishal Waghmode', 'Outlook Money', 'am.curious.sometimes', 'SAFFRON PHOENIX']\n"
          ],
          "name": "stdout"
        }
      ]
    },
    {
      "cell_type": "code",
      "metadata": {
        "id": "oeJ5Vo46N3ep",
        "colab_type": "code",
        "colab": {
          "base_uri": "https://localhost:8080/",
          "height": 54
        },
        "outputId": "8b2534e3-e796-4bdb-bf61-8e676ec2214d"
      },
      "source": [
        "import re\n",
        "import string\n",
        "def clean_tweet(tweet): \n",
        "    ''' \n",
        "    Use sumple regex statemnents to clean tweet text by removing links and special characters\n",
        "    '''\n",
        "    return ' '.join(re.sub(\"(@[A-Za-z0-9]+)|([^0-9A-Za-z \\t]) \\\n",
        "                                |(\\w+:\\/\\/\\S+)\", \" \", tweet).split()) \n",
        "def deEmojify(text):\n",
        "    '''\n",
        "    Strip all non-ASCII characters to remove emoji characters\n",
        "    '''\n",
        "    if text:\n",
        "        return text.encode('ascii', 'ignore').decode('ascii')\n",
        "    else:\n",
        "        return None\n",
        "\n",
        "clean=list()\n",
        "\n",
        "mail=['gmail','yahoo','hotmail','rediff']\n",
        "\n",
        "for i in pname:\n",
        "  if (any(word in i.lower() for word in mail))==True:  \n",
        "      clean.append(i.lower())    \n",
        "  else:\n",
        "      demo=deEmojify(i)\n",
        "      cle=clean_tweet(demo)\n",
        "      cleaned=i.translate(str.maketrans(string.punctuation, ' '*len(string.punctuation)))\n",
        "      clean.append(cleaned)\n",
        "\n",
        "print(clean)"
      ],
      "execution_count": 44,
      "outputs": [
        {
          "output_type": "stream",
          "text": [
            "['mayur satale', 'Qualcon Dreams', 'Subhajeet Das', 'Vishwa Green Realtor', 'Hiten Sethi Architects', 'Mukesh Goswami', 'Ankush Dey', 'Konark Solitaire', 'Nil Frando', 'Aristo Real Estate', 'Vishal Waghmode', 'Outlook Money', 'am curious sometimes', 'SAFFRON PHOENIX']\n"
          ],
          "name": "stdout"
        }
      ]
    },
    {
      "cell_type": "code",
      "metadata": {
        "id": "VjGtD9RaRyHc",
        "colab_type": "code",
        "colab": {
          "base_uri": "https://localhost:8080/",
          "height": 34
        },
        "outputId": "208a8eb4-c480-4875-e77d-781125b1c559"
      },
      "source": [
        "no=['decor','realt','digi','acre','resid','stock','group','article','project','commerc','brick','india','guru','new','market', \\\n",
        "    'enterp','vastu','astro','estate','mall','hous','mumbai','sky','room','home','flat','design','interior','furniture','trend', \\\n",
        "    'pack','build','work','propert','vastu','gym','loan','luxury','bloomberg','business','direct','time',\\\n",
        "    'revenue','day','bank','agen','job','minis','corpo','tech', \\\n",
        "    'boss','nation','associat','developer','broth','invest','people','dna','media','break','bombay','lodha','hiranandani']\n",
        "finalset=set()\n",
        "for i in clean:\n",
        "    if any(word in i.lower() for word in no):\n",
        "        finalset.add(i)\n",
        "\n",
        "users=set(uname)\n",
        "h=users-finalset\n",
        "print(h)"
      ],
      "execution_count": 45,
      "outputs": [
        {
          "output_type": "stream",
          "text": [
            "{'Vishal Waghmode', 'Qualcon Dreams', 'Ankush Dey', 'mayur satale', 'Mukesh Goswami', 'Subhajeet Das', 'SAFFRON PHOENIX', 'Nil Frando'}\n"
          ],
          "name": "stdout"
        }
      ]
    },
    {
      "cell_type": "code",
      "metadata": {
        "id": "sLWIwt-IiLV8",
        "colab_type": "code",
        "colab": {}
      },
      "source": [
        ""
      ],
      "execution_count": 0,
      "outputs": []
    },
    {
      "cell_type": "code",
      "metadata": {
        "id": "5GOVM8JdBz23",
        "colab_type": "code",
        "colab": {}
      },
      "source": [
        "import string\n",
        "import time\n",
        "import threading\n",
        "import urllib\n",
        "import re\n",
        "import io\n",
        "import sys\n",
        "from time import sleep\n",
        "import pickle\n",
        "import pandas as pd\n",
        "\n",
        "\n",
        "def formats(first, middle, last, domain):\n",
        "    \"\"\"\n",
        "    Create a list of 30 possible email formats combining:\n",
        "    - First name:          [empty] | Full | Initial |\n",
        "    - Delimitator:         [empty] |   .  |    _    |    -\n",
        "    - Last name:           [empty] | Full | Initial |\n",
        "    \"\"\"\n",
        "    list = []\n",
        "\n",
        "    if len(last)==0:\n",
        "        list.append(first + '@' + domain)                    # first@example.com\n",
        "\n",
        "\n",
        "    else:\n",
        "        list.append(first[0] + last + '@' + domain)          # flast@example.com\n",
        "        list.append(first[0] + '.' + last + '@' + domain)    # f.last@example.com\n",
        "        list.append(first[0] + '_' + last + '@' + domain)    # f_last@example.com\n",
        "        list.append(first + '@' + domain)                    # first@example.com\n",
        "        list.append(first + last + '@' + domain)             # firstlast@example.com\n",
        "        list.append(first + '.' + last + '@' + domain)       # first.last@example.com\n",
        "        list.append(first + '_' + last + '@' + domain)       # first_last@example.com\n",
        "        list.append(first + '-' + last + '@' + domain)       # first-last@example.com\n",
        "\n",
        "        list.append(first + last[0] + '@' + domain)          # fistl@example.com\n",
        "        list.append(first + '.' + last[0] + '@' + domain)    # first.l@example.com\n",
        "        list.append(first + '_' + last[0] + '@' + domain)    # fist_l@example.com\n",
        "        \n",
        "        list.append(first[0] + middle + last + '@' + domain)          # fmiddlelast@example.com\n",
        "        list.append(first[0] + '.' + middle + last + '@' + domain)    # f.middlelast@example.com\n",
        "        list.append(first[0] + middle + '.' + last + '@' + domain)    # fmiddle.last@example.com\n",
        "        list.append(first[0] + '_' + middle+ last + '@' + domain)    # f_middlelast@example.com\n",
        "        list.append(first[0] + middle +'_' + last + '@' + domain)    # fmiddle_last@example.com\n",
        "        list.append(first + middle+ last + '@' + domain)             # firstmiddlelast@example.com\n",
        "        list.append(first + middle + '.' + last + '@' + domain)       # firstmiddle.last@example.com\n",
        "        list.append(first + '.' + middle + last + '@' + domain)       # first.middlelast@example.com\n",
        "        list.append(first + '_' + middle + last + '@' + domain)       # first_last@example.com\n",
        "        list.append(first + middle + '_' + last + '@' + domain)       # first_last@example.com\n",
        "        list.append(first + middle+ last[0] + '@' + domain)          # firstmiddlel@example.com\n",
        "        list.append(first + '.' + middle +last[0] + '@' + domain)    # first.middlel@example.com\n",
        "        list.append(first + middle + '.' +last[0] + '@' + domain)    # firstmiddle.l@example.com\n",
        "        list.append(first + '_' + middle +last[0] + '@' + domain)    # first_middlel@example.com\n",
        "        list.append(first + middle +'_' + last[0] + '@' + domain)    # firstmiddle_l@example.com        \n",
        "        \n",
        "        list.append(last + '@' + domain)                     # last@example.com\n",
        "        list.append(last + first+ '@' + domain)              # lastfirst@example.com\n",
        "        list.append(last + '.' + first + '@' + domain)       # last.first@example.com\n",
        "        list.append(last + '_' + first + '@' + domain)       # last_first@example.com\n",
        "        list.append(last[0] + '.' + first + '@' + domain)    # l.first@example.com    \n",
        "        list.append(last[0] + first + '@' + domain)          # lfirst@example.com\n",
        "        list.append(last + first[0] + '@' + domain)          # lastf@example.com\n",
        "        list.append(last + '.' + first[0] + '@' + domain)    # last.f@example.com\n",
        "        list.append(last + '_' + first[0] + '@' + domain)    # last_f@example.com\n",
        "       \n",
        "    return(list)\n"
      ],
      "execution_count": 0,
      "outputs": []
    },
    {
      "cell_type": "code",
      "metadata": {
        "id": "vFk7s9P_ik_6",
        "colab_type": "code",
        "colab": {
          "base_uri": "https://localhost:8080/",
          "height": 34
        },
        "outputId": "6c953d86-07e1-43e5-e8f8-94586438384a"
      },
      "source": [
        "len2=list()\n",
        "lone=list()\n",
        "l3=list()\n",
        "ln=list()\n",
        "\n",
        "email_list=list()\n",
        "\n",
        "for i in h:\n",
        "    try:\n",
        "        i=i.lower()\n",
        "        s=i.split()\n",
        "\n",
        "        if len(s)==2:\n",
        "            email_list.extend(formats(s[0],'',s[1],'hotmail.com'))\n",
        "            len2.append(i)\n",
        "        elif len(s)==1:\n",
        "            email_list.extend(formats(s[0],'','','hotmail.com'))        \n",
        "            lone.append(i)\n",
        "        elif len(s)==3:\n",
        "            email_list.extend(formats(s[0],s[1],s[2],'hotmail.com'))    \n",
        "            l3.append(i)\n",
        "        elif len(s)>3:\n",
        "            ln.append(i)\n",
        "            continue    \n",
        "    except:\n",
        "        continue        \n",
        "print(len(email_list))"
      ],
      "execution_count": 56,
      "outputs": [
        {
          "output_type": "stream",
          "text": [
            "280\n"
          ],
          "name": "stdout"
        }
      ]
    },
    {
      "cell_type": "code",
      "metadata": {
        "id": "4Tl10MY51Ov3",
        "colab_type": "code",
        "colab": {
          "base_uri": "https://localhost:8080/",
          "height": 34
        },
        "outputId": "67f757a9-1a36-455c-f39c-22d0773e55e6"
      },
      "source": [
        "\n",
        "li1.extend(email_list)\n",
        "print(len(li1))"
      ],
      "execution_count": 57,
      "outputs": [
        {
          "output_type": "stream",
          "text": [
            "1400\n"
          ],
          "name": "stdout"
        }
      ]
    },
    {
      "cell_type": "code",
      "metadata": {
        "id": "Bjb18nGaixaM",
        "colab_type": "code",
        "colab": {}
      },
      "source": [
        "import pandas as pd\n",
        "emails=pd.Series(li1)\n",
        "finaldata=pd.DataFrame(emails)\n",
        "finaldata.to_csv(\"/content/drive/My Drive/Colab/slot3.csv\",index=False,encoding='UTF-8')\n"
      ],
      "execution_count": 0,
      "outputs": []
    }
  ]
}