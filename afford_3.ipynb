{
  "nbformat": 4,
  "nbformat_minor": 0,
  "metadata": {
    "colab": {
      "name": "afford_3.ipynb",
      "provenance": [],
      "collapsed_sections": []
    },
    "kernelspec": {
      "name": "python3",
      "display_name": "Python 3"
    },
    "accelerator": "TPU"
  },
  "cells": [
    {
      "cell_type": "code",
      "metadata": {
        "id": "WfYlqwnz9p5f",
        "colab_type": "code",
        "colab": {
          "base_uri": "https://localhost:8080/",
          "height": 168
        },
        "outputId": "c2d7e95d-f5a2-4b6e-d45b-76e884534b9d"
      },
      "source": [
        "!pip install GetOldTweets3\n"
      ],
      "execution_count": 1,
      "outputs": [
        {
          "output_type": "stream",
          "text": [
            "Collecting GetOldTweets3\n",
            "  Downloading https://files.pythonhosted.org/packages/ed/f4/a00c2a7c90801abc875325bb5416ce9090ac86d06a00cc887131bd73ba45/GetOldTweets3-0.0.11-py3-none-any.whl\n",
            "Requirement already satisfied: lxml>=3.5.0 in /usr/local/lib/python3.6/dist-packages (from GetOldTweets3) (4.2.6)\n",
            "Collecting pyquery>=1.2.10\n",
            "  Downloading https://files.pythonhosted.org/packages/78/43/95d42e386c61cb639d1a0b94f0c0b9f0b7d6b981ad3c043a836c8b5bc68b/pyquery-1.4.1-py2.py3-none-any.whl\n",
            "Collecting cssselect>0.7.9\n",
            "  Downloading https://files.pythonhosted.org/packages/3b/d4/3b5c17f00cce85b9a1e6f91096e1cc8e8ede2e1be8e96b87ce1ed09e92c5/cssselect-1.1.0-py2.py3-none-any.whl\n",
            "Installing collected packages: cssselect, pyquery, GetOldTweets3\n",
            "Successfully installed GetOldTweets3-0.0.11 cssselect-1.1.0 pyquery-1.4.1\n"
          ],
          "name": "stdout"
        }
      ]
    },
    {
      "cell_type": "code",
      "metadata": {
        "id": "Fu7PZOtCs36T",
        "colab_type": "code",
        "colab": {}
      },
      "source": [
        "linini=list()"
      ],
      "execution_count": 0,
      "outputs": []
    },
    {
      "cell_type": "code",
      "metadata": {
        "id": "pLqP9tqH90IG",
        "colab_type": "code",
        "colab": {
          "base_uri": "https://localhost:8080/",
          "height": 50
        },
        "outputId": "2d261c18-2911-43c7-f22a-d6c5277e9140"
      },
      "source": [
        "from google.colab import drive\n",
        "import pickle\n",
        "import GetOldTweets3 as got\n",
        "drive.mount('/content/drive')\n",
        "DATA_PATH = \"/content/drive/My Drive/Colab\"\n",
        "users4=open(DATA_PATH+'/slot3.pickle','rb')\n",
        "real_tweets3=pickle.load(users4)\n",
        "users4.close()\n",
        "\n",
        "print(len(real_tweets3))"
      ],
      "execution_count": 56,
      "outputs": [
        {
          "output_type": "stream",
          "text": [
            "Drive already mounted at /content/drive; to attempt to forcibly remount, call drive.mount(\"/content/drive\", force_remount=True).\n",
            "51\n"
          ],
          "name": "stdout"
        }
      ]
    },
    {
      "cell_type": "code",
      "metadata": {
        "id": "BXUldcQ3-JVO",
        "colab_type": "code",
        "colab": {
          "base_uri": "https://localhost:8080/",
          "height": 50
        },
        "outputId": "4e53ada0-c897-40e4-eb14-1cd425b43a42"
      },
      "source": [
        "from google.colab import drive\n",
        "import pickle\n",
        "import GetOldTweets3 as got\n",
        "drive.mount('/content/drive')\n",
        "DATA_PATH = \"/content/drive/My Drive/Colab\"\n",
        "users4=open(DATA_PATH+'/allcommon.pickle','rb')\n",
        "existing=pickle.load(users4)\n",
        "users4.close()\n",
        "\n",
        "print(len(existing))"
      ],
      "execution_count": 57,
      "outputs": [
        {
          "output_type": "stream",
          "text": [
            "Drive already mounted at /content/drive; to attempt to forcibly remount, call drive.mount(\"/content/drive\", force_remount=True).\n",
            "133\n"
          ],
          "name": "stdout"
        }
      ]
    },
    {
      "cell_type": "code",
      "metadata": {
        "id": "bMEeH6_l91dF",
        "colab_type": "code",
        "colab": {
          "base_uri": "https://localhost:8080/",
          "height": 1000
        },
        "outputId": "9476afa1-aa60-45f8-8019-9cb676edf6e3"
      },
      "source": [
        "\n",
        "li=list()\n",
        "keywords=['singapore','america','spain','germany','france','paris','berlin','europe','bali','indonesia','switzerland','australia','malaysia','united kingdom','london','mauritius','maldives','thailand','dubai','netherland','tokyo','japan','canada','new york','california','fransisco','angeles','vegas','miami','florida','usa','bermuda','iceland','denmark','luxembourg','kuwait','hong kong','greece','mercedes','bmw','lexus','jaguar','royce','fortuner','audi','bentley','porsche','ferrari','volvo','triumph','enfield','interceptor','rover','cadillac','maserati','lamborghini','hilfiger','rolex','rado','tissot','giordano','diesel','fossil','guess','kors','calvin klein','heuer','armani','adidas','nike','piguet','blanc','hublot','patek', 'bandra', 'khar', 'mahalaxmi', 'south bombay', 'worli', 'vashi', 'colaba','dadar','malabar','lokhandwala','andheri','powai','juhu','peddar','altamount','parel', 'trident','marriot','itc','oberoi','taj','hyatt','lalit','sahara','four seasons','westin','orchid','kohinoor','fariyas','marine plaza','meluha','rodas','radisson','shalimar','waterstones','ambassador','ramada','mirage']\n",
        "for i in real_tweets3:\n",
        "    if i not in existing:\n",
        "        tweetCriteria = got.manager.TweetCriteria().setUsername(i).setSince(\"2019-01-01\").setUntil(\"2019-12-31\")\n",
        "        tweets = got.manager.TweetManager.getTweets(tweetCriteria)\n",
        "        print(\"Crawling User: \",i)    \n",
        "        for j in tweets:\n",
        "            if any(word in ((j.text).lower()).split() for word in keywords):\n",
        "                li.append(i)\n",
        "                print(li)\n",
        "                print(j.text)\n",
        "                break\n",
        "        print(\"Going for next user.\")\n",
        "\n",
        "\n",
        "\n",
        "\n"
      ],
      "execution_count": 58,
      "outputs": [
        {
          "output_type": "stream",
          "text": [
            "Crawling User:  shreemhyundai\n",
            "['shreemhyundai']\n",
            "#Repost hyundaiindia • • • • • • #Repost @parulgulati • • • • • • Guess who's kick-starting #TheUdaipurSaga with Hyundai's Grand i10 NIOS. Don't think there was a better way to experience the City of Lakes than… https://www.instagram.com/p/B2vppzlpdKz/?igshid=davsu0axiemw\n",
            "Going for next user.\n",
            "Crawling User:  RegalSquare\n",
            "Going for next user.\n",
            "Crawling User:  Arunrythmdivine\n",
            "['shreemhyundai', 'Arunrythmdivine']\n",
            "As long as roads are made and it's maintained well people wont even bother in who's name it is. Bandra Worli sea link is still that same hv rarely seen people call it Rajiv Gandhi sea link same goes for Mumbai Pune Express way. Same goes for airports too.\n",
            "Going for next user.\n",
            "Crawling User:  NehaSin49196696\n",
            "['shreemhyundai', 'Arunrythmdivine', 'NehaSin49196696']\n",
            "Luxury Singapore Lifestyle 3Bedroom Homes at Azea Botanica For more details call: 9810327855 Type: 3BHK+Store Size: 1655 SqFt Price: 71 Lacs Onwards Booking: 5 Lacs Semi-Furnished Total Floor: 15 Possession: Ready to move Location: Sector 11, Vrindavan Yojna Lucknow\n",
            "Going for next user.\n",
            "Crawling User:  Mac_Max_25\n",
            "['shreemhyundai', 'Arunrythmdivine', 'NehaSin49196696', 'Mac_Max_25']\n",
            "There were criminal cases going ...i guess u understand the gravity of criminal law and civil law\n",
            "Going for next user.\n",
            "Crawling User:  wolfmomz\n",
            "['shreemhyundai', 'Arunrythmdivine', 'NehaSin49196696', 'Mac_Max_25', 'wolfmomz']\n",
            "Guess the show...\n",
            "Going for next user.\n",
            "Crawling User:  76DdaIr4A0nt4yv\n",
            "Going for next user.\n",
            "Crawling User:  ketaneel\n",
            "Going for next user.\n",
            "Crawling User:  GodrejN\n",
            "Going for next user.\n",
            "Crawling User:  propinn\n",
            "['shreemhyundai', 'Arunrythmdivine', 'NehaSin49196696', 'Mac_Max_25', 'wolfmomz', 'propinn']\n",
            "At VTP Bel Air, embrace your life at the river-front towers inspired by Bel Air, Los Angeles at our Township Code Name Blue Waters. Welcome to #VTPBelAir #Township #BlueWaters #VTPRealty 2 &amp; 2.5 BHK Homes, Price Starts @49L* Know More, Call : 8308 444 333 #pune #puneproperty\n",
            "Going for next user.\n",
            "Crawling User:  jackaltventures\n",
            "['shreemhyundai', 'Arunrythmdivine', 'NehaSin49196696', 'Mac_Max_25', 'wolfmomz', 'propinn', 'jackaltventures']\n",
            "ACKAL-T Super SALE offer! Location: Bandra W Superbly Furnished Flat Ideal for Film Industry, Celebrities, Sports persons, Rich Guys and all those who are crazy about BANDRA! Ctc Shriram Iyer on +91-9820618306 for site visit and other critical details. #jacklt #jackltventures\n",
            "Going for next user.\n",
            "Crawling User:  KamlakarKetan\n",
            "Going for next user.\n",
            "Crawling User:  m_sherkar\n",
            "Going for next user.\n",
            "Crawling User:  GharJunction\n",
            "['shreemhyundai', 'Arunrythmdivine', 'NehaSin49196696', 'Mac_Max_25', 'wolfmomz', 'propinn', 'jackaltventures', 'GharJunction']\n",
            "Vicinia is located at Chandivali which boasts abundant greenery and open spaces, lower property rates as compared to Powai offering 2, 3 and 3.5 BHK luxury apartments starting at 1.75 Cr. VIsit: https://gharjunction.com/Vicinia/ Call: 9372881103/9323241069 #ShapoorjiPallonjiVIcinia #Powai\n",
            "Going for next user.\n",
            "Crawling User:  LivNest\n",
            "['shreemhyundai', 'Arunrythmdivine', 'NehaSin49196696', 'Mac_Max_25', 'wolfmomz', 'propinn', 'jackaltventures', 'GharJunction', 'LivNest']\n",
            "However, business epicenter has now shifted from main city to neighborhood...from Bandra to Navi Mumbai and suburbs ...which accounts for genesis of new interests in MMR among investors. #realestatenews #HousingForAll #trendandeconomics #marketslowdown\n",
            "Going for next user.\n",
            "Crawling User:  ashaicon\n",
            "Going for next user.\n",
            "Crawling User:  anoop82215147\n",
            "Going for next user.\n",
            "Crawling User:  RustomjeeSpaces\n",
            "['shreemhyundai', 'Arunrythmdivine', 'NehaSin49196696', 'Mac_Max_25', 'wolfmomz', 'propinn', 'jackaltventures', 'GharJunction', 'LivNest', 'RustomjeeSpaces']\n",
            "Rustomjee Group bagged the following set of awards at 11th REALTY+ EXCELLENCE AWARDS 2019 – WEST held yesterday at Taj Lands End,Bandra. 1.Integrated Township Project of the Year – Rustomjee Urbania 2.Ultra Luxury-Lifestyle Project of the Year – Rustomjee Seasons @e4mtweets\n",
            "Going for next user.\n",
            "Crawling User:  MurtiShree\n",
            "['shreemhyundai', 'Arunrythmdivine', 'NehaSin49196696', 'Mac_Max_25', 'wolfmomz', 'propinn', 'jackaltventures', 'GharJunction', 'LivNest', 'RustomjeeSpaces', 'MurtiShree']\n",
            "Chase the vision, not the money; the money will end up following you. Hurry Up Bookings Open for A New Family Residence, Captures The Most Stunning Views With Our New Launch Project Mahalaxmi Ashish.#dombivlikar #dombivli #flatforsale #1bhk #2bhk #houseforsale #propertyforsale\n",
            "Going for next user.\n",
            "Crawling User:  JahnviPanchal\n",
            "['shreemhyundai', 'Arunrythmdivine', 'NehaSin49196696', 'Mac_Max_25', 'wolfmomz', 'propinn', 'jackaltventures', 'GharJunction', 'LivNest', 'RustomjeeSpaces', 'MurtiShree', 'JahnviPanchal']\n",
            "The My Space Pavilion at Rustomjee Paramount was the venue for Khar Gymkhana Night.The event was a not just a celebration of music but also a further validation of the My Space concept which encourages residents to pursue their long forgotten interests. #Bandra #Khar #Palihill\n",
            "Going for next user.\n",
            "Crawling User:  Pravinkumar78\n",
            "Going for next user.\n",
            "Crawling User:  spenta_corp\n",
            "['shreemhyundai', 'Arunrythmdivine', 'NehaSin49196696', 'Mac_Max_25', 'wolfmomz', 'propinn', 'jackaltventures', 'GharJunction', 'LivNest', 'RustomjeeSpaces', 'MurtiShree', 'JahnviPanchal', 'spenta_corp']\n",
            "The Adidas ARENA forms a distinctive landmark on the Adidas world of sports campus in Herzogenaurach. It has a floor area which provides 2000 employees with modern and sustainable workspaces, organized on organic principles. Read more about it in our #BrickBulletin! #Spenta\n",
            "Going for next user.\n",
            "Crawling User:  CraftLuso\n",
            "Going for next user.\n",
            "Crawling User:  ElevatorWorld\n",
            "['shreemhyundai', 'Arunrythmdivine', 'NehaSin49196696', 'Mac_Max_25', 'wolfmomz', 'propinn', 'jackaltventures', 'GharJunction', 'LivNest', 'RustomjeeSpaces', 'MurtiShree', 'JahnviPanchal', 'spenta_corp', 'ElevatorWorld']\n",
            "In today's #podcast, #KONE will equip a new #London tower, #Amazon OK #HQ2 plans, #NYC's VSA selects first intern from prestigious high school, new #VT is planned in #India, #escaleftor ads spark outrage in #DC, and two London towers are approved.http://bit.ly/2Q006HO\n",
            "Going for next user.\n",
            "Crawling User:  bapatvaibhav\n",
            "Going for next user.\n",
            "Crawling User:  shubhpravesh01\n",
            "Going for next user.\n",
            "Crawling User:  Online5Pinky\n",
            "['shreemhyundai', 'Arunrythmdivine', 'NehaSin49196696', 'Mac_Max_25', 'wolfmomz', 'propinn', 'jackaltventures', 'GharJunction', 'LivNest', 'RustomjeeSpaces', 'MurtiShree', 'JahnviPanchal', 'spenta_corp', 'ElevatorWorld', 'Online5Pinky']\n",
            "HP Laptop Service India - Paris VA 20130 | 837-505-1311 https://www.merchantcircle.com/hp-laptop-service-india-paris-va via @MerchantCircle\n",
            "Going for next user.\n",
            "Crawling User:  ronny_williams\n",
            "['shreemhyundai', 'Arunrythmdivine', 'NehaSin49196696', 'Mac_Max_25', 'wolfmomz', 'propinn', 'jackaltventures', 'GharJunction', 'LivNest', 'RustomjeeSpaces', 'MurtiShree', 'JahnviPanchal', 'spenta_corp', 'ElevatorWorld', 'Online5Pinky', 'ronny_williams']\n",
            "Iconic neo-classical global utopia of Mumbai, Hiranandani Gardens, Powai transforms into a twinkling street embellished with glowing lights, as thousands of celebrators gather for an early celebration of New Year.\n",
            "Going for next user.\n",
            "Crawling User:  manishk9910\n",
            "Going for next user.\n",
            "Crawling User:  Mauble1\n",
            "Going for next user.\n",
            "Crawling User:  vijayrnair\n",
            "['shreemhyundai', 'Arunrythmdivine', 'NehaSin49196696', 'Mac_Max_25', 'wolfmomz', 'propinn', 'jackaltventures', 'GharJunction', 'LivNest', 'RustomjeeSpaces', 'MurtiShree', 'JahnviPanchal', 'spenta_corp', 'ElevatorWorld', 'Online5Pinky', 'ronny_williams', 'vijayrnair']\n",
            "Guess she is arrested, never release her ever, poor kids\n",
            "Going for next user.\n",
            "Crawling User:  Sammypedia\n",
            "['shreemhyundai', 'Arunrythmdivine', 'NehaSin49196696', 'Mac_Max_25', 'wolfmomz', 'propinn', 'jackaltventures', 'GharJunction', 'LivNest', 'RustomjeeSpaces', 'MurtiShree', 'JahnviPanchal', 'spenta_corp', 'ElevatorWorld', 'Online5Pinky', 'ronny_williams', 'vijayrnair', 'Sammypedia']\n",
            "An empenada is simply a Karanji which went to Spain because Zindagi Na Milegi Dobara.\n",
            "Going for next user.\n",
            "Crawling User:  rameezshaikh9\n",
            "['shreemhyundai', 'Arunrythmdivine', 'NehaSin49196696', 'Mac_Max_25', 'wolfmomz', 'propinn', 'jackaltventures', 'GharJunction', 'LivNest', 'RustomjeeSpaces', 'MurtiShree', 'JahnviPanchal', 'spenta_corp', 'ElevatorWorld', 'Online5Pinky', 'ronny_williams', 'vijayrnair', 'Sammypedia', 'rameezshaikh9']\n",
            "News was surfaced last year that speed of Harbour section between Vashi and Panvel will be increased upto 105 km/hr from current 80 very soon. What happened to that? Is plan shelved or postponed to 2050? @Central_Railway @GM_CRly @drmmumbaicr @RailMinIndia @PiyushGoyal\n",
            "Going for next user.\n",
            "Crawling User:  shapoorjipallo4\n",
            "Going for next user.\n",
            "Crawling User:  ssachinparhad\n",
            "Going for next user.\n",
            "Crawling User:  MayurNaharOffcl\n",
            "['shreemhyundai', 'Arunrythmdivine', 'NehaSin49196696', 'Mac_Max_25', 'wolfmomz', 'propinn', 'jackaltventures', 'GharJunction', 'LivNest', 'RustomjeeSpaces', 'MurtiShree', 'JahnviPanchal', 'spenta_corp', 'ElevatorWorld', 'Online5Pinky', 'ronny_williams', 'vijayrnair', 'Sammypedia', 'rameezshaikh9', 'MayurNaharOffcl']\n",
            "A Moment of Pride & Honor for Me to be Awarded as The Rising Star Award 2018-19 by Raghuvendra Rao Sir (Zonal Manager) and Ramakant Sir (Agency Head) from Future Generali for Excellence in Performance at The Crown Hotel, Dubai Heartily Thanks to My Parent…\n",
            "Going for next user.\n",
            "Crawling User:  SureshG82953106\n",
            "Going for next user.\n",
            "Crawling User:  AzzianoUrbania\n",
            "Going for next user.\n",
            "Crawling User:  PatilOmi27\n",
            "Going for next user.\n",
            "Crawling User:  ashson09\n",
            "['shreemhyundai', 'Arunrythmdivine', 'NehaSin49196696', 'Mac_Max_25', 'wolfmomz', 'propinn', 'jackaltventures', 'GharJunction', 'LivNest', 'RustomjeeSpaces', 'MurtiShree', 'JahnviPanchal', 'spenta_corp', 'ElevatorWorld', 'Online5Pinky', 'ronny_williams', 'vijayrnair', 'Sammypedia', 'rameezshaikh9', 'MayurNaharOffcl', 'ashson09']\n",
            "Madam, we pay taxes....would love to see designer roads but how about filling the craters on the road before that! Misplaced! Try travelling by road andheri to kurla - try once!!\n",
            "Going for next user.\n",
            "Crawling User:  damjishamjishah\n",
            "Going for next user.\n",
            "Crawling User:  Raju12781594\n",
            "Going for next user.\n",
            "Crawling User:  KaithwasRitesh\n",
            "Going for next user.\n",
            "Crawling User:  careacter\n",
            "['shreemhyundai', 'Arunrythmdivine', 'NehaSin49196696', 'Mac_Max_25', 'wolfmomz', 'propinn', 'jackaltventures', 'GharJunction', 'LivNest', 'RustomjeeSpaces', 'MurtiShree', 'JahnviPanchal', 'spenta_corp', 'ElevatorWorld', 'Online5Pinky', 'ronny_williams', 'vijayrnair', 'Sammypedia', 'rameezshaikh9', 'MayurNaharOffcl', 'ashson09', 'careacter']\n",
            "\"We have to dig deep into ourselves and how we are experiencing and affecting the students that we're reaching in our classroom.\" - Chief Equity Officer, Carla London https://buff.ly/32Sh13u\n",
            "Going for next user.\n",
            "Crawling User:  ArunThakkar7\n",
            "Going for next user.\n",
            "Crawling User:  RunwalDev\n",
            "['shreemhyundai', 'Arunrythmdivine', 'NehaSin49196696', 'Mac_Max_25', 'wolfmomz', 'propinn', 'jackaltventures', 'GharJunction', 'LivNest', 'RustomjeeSpaces', 'MurtiShree', 'JahnviPanchal', 'spenta_corp', 'ElevatorWorld', 'Online5Pinky', 'ronny_williams', 'vijayrnair', 'Sammypedia', 'rameezshaikh9', 'MayurNaharOffcl', 'ashson09', 'careacter', 'RunwalDev']\n",
            "Here’s a glimpse of the exclusive lifestyle that awaits you at Runwal Elegante. Your luxurious abode in the swish locality of Andheri Lokhandwala! Explore 3 & 4 BHK luxury residences at Runwal Elegante:http://runwalelegante.co.in #RunwalDevelopers #Elegante #Mumbai #RTMI\n",
            "Going for next user.\n"
          ],
          "name": "stdout"
        }
      ]
    },
    {
      "cell_type": "code",
      "metadata": {
        "id": "mqLsMuSclvMF",
        "colab_type": "code",
        "colab": {
          "base_uri": "https://localhost:8080/",
          "height": 54
        },
        "outputId": "74bc2bd4-864c-4410-9b30-d6d4b3252ba3"
      },
      "source": [
        "\n",
        "import tweepy\n",
        "\n",
        "consumer_key='rNrnFupaEqKt0eb7hjbdHKdWg'\n",
        "consumer_secret= 'DTTMoQOrCBmngaXmOnFhrBjdjwtT54x0AbGvNwwuqyYNWwEvc7'\n",
        "access_token='1002268050513575936-gGrQUmDiMyCxO2Y88lc3ojqNzbtLGm'\n",
        "access_token_secret='G572YTe2S5TQTTaXhFvl1WyNopa8ilrkgWSlCXBZQwU4C'\n",
        "auth = tweepy.OAuthHandler(consumer_key, consumer_secret)\n",
        "auth.set_access_token(access_token, access_token_secret)\n",
        "api = tweepy.API(auth,wait_on_rate_limit=True)\n",
        "\n",
        "pname=list()\n",
        "for i in li:\n",
        "    u=api.get_user(i)\n",
        "    pname.append(u.name)\n",
        "\n",
        "print(pname)\n"
      ],
      "execution_count": 59,
      "outputs": [
        {
          "output_type": "stream",
          "text": [
            "['Shreem Hyundai', 'Arun', 'Neha Singh', 'प्राणशक्ति', 'Deshbhakt WolfMomma 🇮🇳', 'Propinn', 'Jackal - T Ventures', 'Ghar Junction', 'LivNest Real Estate Advisory', 'Rustomjee Spaces', 'Shree Mangal Murti', 'Trends', 'Spenta Corporation', 'Elevator World, Inc.', 'Sangeeta Vishwakarma', 'ronny a williams', 'वि j य', 'Sameer More', 'Rameez Shaikh', 'MAYUR K. NAHAR', 'AS', 'CharacterStrong', 'Runwal Developers']\n"
          ],
          "name": "stdout"
        }
      ]
    },
    {
      "cell_type": "code",
      "metadata": {
        "id": "f2o18mapnCyk",
        "colab_type": "code",
        "colab": {
          "base_uri": "https://localhost:8080/",
          "height": 54
        },
        "outputId": "934050d9-7eea-4883-af23-e76a1ac5d540"
      },
      "source": [
        "import re\n",
        "def clean_tweet(tweet): \n",
        "    ''' \n",
        "    Use sumple regex statemnents to clean tweet text by removing links and special characters\n",
        "    '''\n",
        "    return ' '.join(re.sub(\"(@[A-Za-z0-9]+)|([^0-9A-Za-z \\t]) \\\n",
        "                                |(\\w+:\\/\\/\\S+)\", \" \", tweet).split()) \n",
        "def deEmojify(text):\n",
        "    '''\n",
        "    Strip all non-ASCII characters to remove emoji characters\n",
        "    '''\n",
        "    if text:\n",
        "        return text.encode('ascii', 'ignore').decode('ascii')\n",
        "    else:\n",
        "        return None\n",
        "\n",
        "clean=list()\n",
        "\n",
        "mail=['gmail','yahoo','hotmail','rediff']\n",
        "\n",
        "for i in pname:\n",
        "  if (any(word in i.lower() for word in mail))==True:  \n",
        "      clean.append(i.lower())    \n",
        "  else:\n",
        "      demo=deEmojify(i)\n",
        "      cle=clean_tweet(demo)\n",
        "      cleaned=i.translate(str.maketrans(string.punctuation, ' '*len(string.punctuation)))\n",
        "      clean.append(cleaned)\n",
        "\n",
        "print(clean)"
      ],
      "execution_count": 60,
      "outputs": [
        {
          "output_type": "stream",
          "text": [
            "['Shreem Hyundai', 'Arun', 'Neha Singh', 'प्राणशक्ति', 'Deshbhakt WolfMomma 🇮🇳', 'Propinn', 'Jackal   T Ventures', 'Ghar Junction', 'LivNest Real Estate Advisory', 'Rustomjee Spaces', 'Shree Mangal Murti', 'Trends', 'Spenta Corporation', 'Elevator World  Inc ', 'Sangeeta Vishwakarma', 'ronny a williams', 'वि j य', 'Sameer More', 'Rameez Shaikh', 'MAYUR K  NAHAR', 'AS', 'CharacterStrong', 'Runwal Developers']\n"
          ],
          "name": "stdout"
        }
      ]
    },
    {
      "cell_type": "code",
      "metadata": {
        "id": "DZ61s1uZqKKa",
        "colab_type": "code",
        "colab": {
          "base_uri": "https://localhost:8080/",
          "height": 54
        },
        "outputId": "0efd7525-e0a1-4c98-91f7-2428277185f3"
      },
      "source": [
        "no=['decor','realt','digi','acre','resid','stock','group','article','project','commerc','brick','india','guru','new','market', \\\n",
        "    'enterp','vastu','astro','estate','mall','hous','mumbai','sky','room','home','flat','design','interior','furniture','trend', \\\n",
        "    'pack','build','work','propert','vastu','gym','loan','luxury','bloomberg','business','direct','time',\\\n",
        "    'revenue','day','bank','agen','job','minis','corpo','tech', \\\n",
        "    'boss','nation','associat','developer','broth','invest','people','dna','media','break','bombay','lodha','hiranandani']\n",
        "finalset=set()\n",
        "for i in clean:\n",
        "    if any(word in i.lower() for word in no):\n",
        "        finalset.add(i)\n",
        "\n",
        "users=set(clean)\n",
        "h=users-finalset\n",
        "print(h)"
      ],
      "execution_count": 61,
      "outputs": [
        {
          "output_type": "stream",
          "text": [
            "{'Arun', 'Rameez Shaikh', 'वि j य', 'Ghar Junction', 'Shreem Hyundai', 'Neha Singh', 'Propinn', 'Deshbhakt WolfMomma 🇮🇳', 'Jackal   T Ventures', 'प्राणशक्ति', 'Elevator World  Inc ', 'Sameer More', 'MAYUR K  NAHAR', 'Rustomjee Spaces', 'AS', 'Sangeeta Vishwakarma', 'Shree Mangal Murti', 'CharacterStrong', 'ronny a williams'}\n"
          ],
          "name": "stdout"
        }
      ]
    },
    {
      "cell_type": "code",
      "metadata": {
        "id": "hfGNnRJNEN86",
        "colab_type": "code",
        "colab": {}
      },
      "source": [
        ""
      ],
      "execution_count": 0,
      "outputs": []
    },
    {
      "cell_type": "code",
      "metadata": {
        "id": "vwRpd5A7qnNB",
        "colab_type": "code",
        "colab": {
          "base_uri": "https://localhost:8080/",
          "height": 54
        },
        "outputId": "61ddda5c-5680-4cc0-eece-443fcfc14c8b"
      },
      "source": [
        "a=['dr','ca','er']            \n",
        "\n",
        "notdrca=list()\n",
        "for i in h:\n",
        "    if any(x in i.lower() for x in a):\n",
        "        continue\n",
        "    else:\n",
        "        notdrca.append(i)        \n",
        "print(notdrca)"
      ],
      "execution_count": 20,
      "outputs": [
        {
          "output_type": "stream",
          "text": [
            "['askwebm', 'Amit S Kumar', 'Aiswarya Thampy', 'rohit', 'MultiplyMyLeads', 'Anurag Sharma', 'Manish Chaturvedi', 'Ameya', 'KreateCube', 'rajan sen', 'editorji', 'Paarth', 'धरापुत्र  Son of Soil ', 'Anjali', 'ravi rawat', 'Ulhas Nalavade', 'Renu subramaniam', 'Click in Classifieds', 'Harshal Gaikwad', 'rohit ladda', 'Suhani', 'bharat1983', 'namanas', 'faizrashid1995@gmail.com', 'Anurag Jagia', 'Nil Frando', 'Bathmavathi Hari Ram', 'Ashawadi Prakashan', 'mindfeild', 'Pramod Kumar', 'Raulf', 'TheMaddy', 'Divya Kandukuri', '🇮🇳 Kidambi GP🇮🇳', 'anil', 'Samirr Sirr']\n"
          ],
          "name": "stdout"
        }
      ]
    },
    {
      "cell_type": "code",
      "metadata": {
        "id": "S2AtROwLqt5S",
        "colab_type": "code",
        "colab": {}
      },
      "source": [
        "import string\n",
        "import time\n",
        "import threading\n",
        "import urllib\n",
        "import re\n",
        "import io\n",
        "import sys\n",
        "from time import sleep\n",
        "import pickle\n",
        "import pandas as pd\n",
        "\n",
        "\n",
        "def formats(first, middle, last, domain):\n",
        "    \"\"\"\n",
        "    Create a list of 30 possible email formats combining:\n",
        "    - First name:          [empty] | Full | Initial |\n",
        "    - Delimitator:         [empty] |   .  |    _    |    -\n",
        "    - Last name:           [empty] | Full | Initial |\n",
        "    \"\"\"\n",
        "    list = []\n",
        "    emails=['gmail','yahoo','rediff','hotmail']\n",
        "\n",
        "    if any(word in first for word in emails):\n",
        "        list.append(first)\n",
        "\n",
        "    elif any(word in middle for word in emails):\n",
        "        list.append(middle)\n",
        "\n",
        "    elif any(word in last for word in emails):\n",
        "        list.append(last)\n",
        "\n",
        "\n",
        "    elif len(last)==0:\n",
        "        list.append(first + '@' + domain)                    # first@example.com\n",
        "\n",
        "\n",
        "    else:\n",
        "        list.append(first[0] + last + '@' + domain)          # flast@example.com\n",
        "        list.append(first[0] + '.' + last + '@' + domain)    # f.last@example.com\n",
        "        list.append(first[0] + '_' + last + '@' + domain)    # f_last@example.com\n",
        "        list.append(first + '@' + domain)                    # first@example.com\n",
        "        list.append(first + last + '@' + domain)             # firstlast@example.com\n",
        "        list.append(first + '.' + last + '@' + domain)       # first.last@example.com\n",
        "        list.append(first + '_' + last + '@' + domain)       # first_last@example.com\n",
        "        list.append(first + '-' + last + '@' + domain)       # first-last@example.com\n",
        "\n",
        "        list.append(first + last[0] + '@' + domain)          # fistl@example.com\n",
        "        list.append(first + '.' + last[0] + '@' + domain)    # first.l@example.com\n",
        "        list.append(first + '_' + last[0] + '@' + domain)    # fist_l@example.com\n",
        "        \n",
        "        list.append(first[0] + middle + last + '@' + domain)          # fmiddlelast@example.com\n",
        "        list.append(first[0] + '.' + middle + last + '@' + domain)    # f.middlelast@example.com\n",
        "        list.append(first[0] + middle + '.' + last + '@' + domain)    # fmiddle.last@example.com\n",
        "        list.append(first[0] + '_' + middle+ last + '@' + domain)    # f_middlelast@example.com\n",
        "        list.append(first[0] + middle +'_' + last + '@' + domain)    # fmiddle_last@example.com\n",
        "        list.append(first + middle+ last + '@' + domain)             # firstmiddlelast@example.com\n",
        "        list.append(first + middle + '.' + last + '@' + domain)       # firstmiddle.last@example.com\n",
        "        list.append(first + '.' + middle + last + '@' + domain)       # first.middlelast@example.com\n",
        "        list.append(first + '_' + middle + last + '@' + domain)       # first_last@example.com\n",
        "        list.append(first + middle + '_' + last + '@' + domain)       # first_last@example.com\n",
        "        list.append(first + middle+ last[0] + '@' + domain)          # firstmiddlel@example.com\n",
        "        list.append(first + '.' + middle +last[0] + '@' + domain)    # first.middlel@example.com\n",
        "        list.append(first + middle + '.' +last[0] + '@' + domain)    # firstmiddle.l@example.com\n",
        "        list.append(first + '_' + middle +last[0] + '@' + domain)    # first_middlel@example.com\n",
        "        list.append(first + middle +'_' + last[0] + '@' + domain)    # firstmiddle_l@example.com        \n",
        "        \n",
        "        list.append(last + '@' + domain)                     # last@example.com\n",
        "        list.append(last + first+ '@' + domain)              # lastfirst@example.com\n",
        "        list.append(last + '.' + first + '@' + domain)       # last.first@example.com\n",
        "        list.append(last + '_' + first + '@' + domain)       # last_first@example.com\n",
        "        list.append(last[0] + '.' + first + '@' + domain)    # l.first@example.com    \n",
        "        list.append(last[0] + first + '@' + domain)          # lfirst@example.com\n",
        "        list.append(last + first[0] + '@' + domain)          # lastf@example.com\n",
        "        list.append(last + '.' + first[0] + '@' + domain)    # last.f@example.com\n",
        "        list.append(last + '_' + first[0] + '@' + domain)    # last_f@example.com\n",
        "       \n",
        "    return(list)\n"
      ],
      "execution_count": 0,
      "outputs": []
    },
    {
      "cell_type": "code",
      "metadata": {
        "id": "mAa6ThE5quhh",
        "colab_type": "code",
        "colab": {}
      },
      "source": [
        "len2=list()\n",
        "l1=list()\n",
        "l3=list()\n",
        "ln=list()\n",
        "\n",
        "email_list=list()\n",
        "\n",
        "for i in notdrca:\n",
        "    try:\n",
        "        i=i.lower()\n",
        "        s=i.split()\n",
        "\n",
        "        if len(s)==2:\n",
        "            email_list.extend(formats(s[0],'',s[1],'yahoo.co.in'))\n",
        "            len2.append(i)\n",
        "        elif len(s)==1:\n",
        "            email_list.extend(formats(s[0],'','','yahoo.co.in'))        \n",
        "            l1.append(i)\n",
        "        elif len(s)==3:\n",
        "            email_list.extend(formats(s[0],s[1],s[2],'yahoo.co.in'))    \n",
        "            l3.append(i)\n",
        "        elif len(s)>3:\n",
        "            ln.append(i)\n",
        "            continue    \n",
        "    except:\n",
        "        continue        \n"
      ],
      "execution_count": 0,
      "outputs": []
    },
    {
      "cell_type": "code",
      "metadata": {
        "id": "oB-CHfcKsLsn",
        "colab_type": "code",
        "colab": {
          "base_uri": "https://localhost:8080/",
          "height": 34
        },
        "outputId": "796e3c7b-4975-42a4-8ca5-838ffb94c686"
      },
      "source": [
        "\n",
        "linini.extend(email_list)\n",
        "print(len(linini))"
      ],
      "execution_count": 72,
      "outputs": [
        {
          "output_type": "stream",
          "text": [
            "2724\n"
          ],
          "name": "stdout"
        }
      ]
    },
    {
      "cell_type": "code",
      "metadata": {
        "id": "rQCoQf93uIS9",
        "colab_type": "code",
        "colab": {}
      },
      "source": [
        "\n",
        "li1.extend(email_list)\n",
        "print(len(li))"
      ],
      "execution_count": 0,
      "outputs": []
    },
    {
      "cell_type": "code",
      "metadata": {
        "id": "guLxfcUdqv7m",
        "colab_type": "code",
        "colab": {}
      },
      "source": [
        "import pandas as pd\n",
        "emails=pd.Series(linini)\n",
        "finaldata=pd.DataFrame(emails)\n",
        "finaldata.to_csv(\"/content/drive/My Drive/Colab/slot3.csv\",index=False,encoding='UTF-8')\n"
      ],
      "execution_count": 0,
      "outputs": []
    }
  ]
}