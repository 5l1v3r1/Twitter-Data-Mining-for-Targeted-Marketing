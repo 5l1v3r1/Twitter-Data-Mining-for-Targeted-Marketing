{
  "nbformat": 4,
  "nbformat_minor": 0,
  "metadata": {
    "colab": {
      "name": "afford_p.ipynb",
      "provenance": [],
      "collapsed_sections": []
    },
    "kernelspec": {
      "name": "python3",
      "display_name": "Python 3"
    },
    "accelerator": "TPU"
  },
  "cells": [
    {
      "cell_type": "code",
      "metadata": {
        "id": "gNhgcUB01Kwq",
        "colab_type": "code",
        "colab": {
          "base_uri": "https://localhost:8080/",
          "height": 203
        },
        "outputId": "70c39dee-2831-4e2b-9486-f3ea9a6046d1"
      },
      "source": [
        "!pip install GetOldTweets3\n"
      ],
      "execution_count": 3,
      "outputs": [
        {
          "output_type": "stream",
          "text": [
            "Collecting GetOldTweets3\n",
            "  Downloading https://files.pythonhosted.org/packages/ed/f4/a00c2a7c90801abc875325bb5416ce9090ac86d06a00cc887131bd73ba45/GetOldTweets3-0.0.11-py3-none-any.whl\n",
            "Collecting pyquery>=1.2.10\n",
            "  Downloading https://files.pythonhosted.org/packages/78/43/95d42e386c61cb639d1a0b94f0c0b9f0b7d6b981ad3c043a836c8b5bc68b/pyquery-1.4.1-py2.py3-none-any.whl\n",
            "Requirement already satisfied: lxml>=3.5.0 in /usr/local/lib/python3.6/dist-packages (from GetOldTweets3) (4.2.6)\n",
            "Collecting cssselect>0.7.9\n",
            "  Downloading https://files.pythonhosted.org/packages/3b/d4/3b5c17f00cce85b9a1e6f91096e1cc8e8ede2e1be8e96b87ce1ed09e92c5/cssselect-1.1.0-py2.py3-none-any.whl\n",
            "Installing collected packages: cssselect, pyquery, GetOldTweets3\n",
            "Successfully installed GetOldTweets3-0.0.11 cssselect-1.1.0 pyquery-1.4.1\n"
          ],
          "name": "stdout"
        }
      ]
    },
    {
      "cell_type": "code",
      "metadata": {
        "id": "8NRMWvy75sL8",
        "colab_type": "code",
        "colab": {
          "base_uri": "https://localhost:8080/",
          "height": 54
        },
        "outputId": "ecfcd7ee-9caa-40f2-bb6a-e75d9a4f2d72"
      },
      "source": [
        "from google.colab import drive\n",
        "import pickle\n",
        "import GetOldTweets3 as got\n",
        "drive.mount('/content/drive')\n",
        "DATA_PATH = \"/content/drive/My Drive/Colab Notebooks/Internship/Usernames/Thane\"\n",
        "users4=open(DATA_PATH+'/slot1.pickle','rb')\n",
        "real_tweets3=pickle.load(users4)\n",
        "users4.close()\n",
        "\n",
        "print(len(real_tweets3))"
      ],
      "execution_count": 29,
      "outputs": [
        {
          "output_type": "stream",
          "text": [
            "Drive already mounted at /content/drive; to attempt to forcibly remount, call drive.mount(\"/content/drive\", force_remount=True).\n",
            "85\n"
          ],
          "name": "stdout"
        }
      ]
    },
    {
      "cell_type": "code",
      "metadata": {
        "id": "qJV-oQ7U93xH",
        "colab_type": "code",
        "colab": {
          "base_uri": "https://localhost:8080/",
          "height": 54
        },
        "outputId": "40c6466a-1513-4d36-8a94-95b0ff8db896"
      },
      "source": [
        "from google.colab import drive\n",
        "import pickle\n",
        "import GetOldTweets3 as got\n",
        "drive.mount('/content/drive')\n",
        "DATA_PATH = \"/content/drive/My Drive/Colab Notebooks/Internship/Usernames/Navi Mumbai\"\n",
        "users4=open(DATA_PATH+'/allcommon.pickle','rb')\n",
        "existing=pickle.load(users4)\n",
        "users4.close()\n",
        "\n",
        "print(len(existing))"
      ],
      "execution_count": 28,
      "outputs": [
        {
          "output_type": "stream",
          "text": [
            "Drive already mounted at /content/drive; to attempt to forcibly remount, call drive.mount(\"/content/drive\", force_remount=True).\n",
            "133\n"
          ],
          "name": "stdout"
        }
      ]
    },
    {
      "cell_type": "code",
      "metadata": {
        "id": "DmZn1J855oGw",
        "colab_type": "code",
        "colab": {
          "base_uri": "https://localhost:8080/",
          "height": 1000
        },
        "outputId": "d802e12d-a790-4971-ea20-515a90c605ed"
      },
      "source": [
        "\n",
        "li=list()\n",
        "keywords=['singapore','america','spain','germany','france','paris','berlin','europe','bali','indonesia','switzerland','australia','malaysia','united kingdom','london','mauritius','maldives','thailand','dubai','netherland','tokyo','japan','canada','new york','california','fransisco','angeles','vegas','miami','florida','usa','bermuda','iceland','denmark','luxembourg','kuwait','hong kong','greece','mercedes','bmw','lexus','jaguar','royce','fortuner','audi','bentley','porsche','ferrari','volvo','triumph','enfield','interceptor','rover','cadillac','maserati','lamborghini','hilfiger','rolex','rado','tissot','giordano','diesel','fossil','guess','kors','calvin klein','heuer','armani','adidas','nike','piguet','blanc','hublot','patek', 'bandra', 'khar', 'mahalaxmi', 'south bombay', 'worli', 'vashi', 'colaba','dadar','malabar','lokhandwala','andheri','powai','juhu','peddar','altamount','parel', 'trident','marriot','itc','oberoi','taj','hyatt','lalit','sahara','four seasons','westin','orchid','kohinoor','fariyas','marine plaza','meluha','rodas','radisson','shalimar','waterstones','ambassador','ramada','mirage']\n",
        "for i in real_tweets3:    \n",
        "    if i not in existing:\n",
        "        try:\n",
        "            tweetCriteria = got.manager.TweetCriteria().setUsername(i).setSince(\"2019-01-01\").setUntil(\"2019-12-31\")\n",
        "            tweets = got.manager.TweetManager.getTweets(tweetCriteria)\n",
        "            print(\"Crawling User: \",i)    \n",
        "            for j in tweets:\n",
        "                if any(word in ((j.text).lower()).split() for word in keywords):\n",
        "                    li.append(i)\n",
        "                    print(li)\n",
        "                    print(j.text)\n",
        "                    break\n",
        "            print(\"Going for next user.\")\n",
        "\n",
        "        except:\n",
        "          continue\n",
        "\n",
        "\n"
      ],
      "execution_count": 30,
      "outputs": [
        {
          "output_type": "stream",
          "text": [
            "Crawling User:  quidtask\n",
            "['quidtask']\n",
            "California Pools - swimming pool builder https://californiapools.com/\n",
            "Going for next user.\n",
            "Crawling User:  vivekanandg\n",
            "['quidtask', 'vivekanandg']\n",
            "- Bangladesh already has NRIC; - Pakistan already has NADRA - Malaysia already has NRD But India cannot have #NRC India Dharamshala hai. आओ जाओ घर तुम्हारा, न रोक न टोक, #CAA_NRC_NPR #CAA_NRC_support\n",
            "Going for next user.\n",
            "Crawling User:  SaintSluggo\n",
            "['quidtask', 'vivekanandg', 'SaintSluggo']\n",
            "“Who are we to second guess the founding fathers?” Oh, I don’t know, just the product of centruries worth of social evolution, scientific development, and greater understanding and wisdom I’D FUCKING HOPE.\n",
            "Going for next user.\n",
            "Crawling User:  RegalSquare\n",
            "Going for next user.\n",
            "Crawling User:  ImGirishRoy\n",
            "Going for next user.\n",
            "Crawling User:  SameerShergil\n",
            "Going for next user.\n",
            "Crawling User:  NayyarSanjeev\n",
            "['quidtask', 'vivekanandg', 'SaintSluggo', 'NayyarSanjeev']\n",
            "Shinde Sahib what is happening to Coastal Road ie Shiv Sena project. Complete Worli section fast so Udhav Saheb can reach home faster. Aabhar aani Shubhechcha.\n",
            "Going for next user.\n",
            "Crawling User:  JagritShiksha\n",
            "['quidtask', 'vivekanandg', 'SaintSluggo', 'NayyarSanjeev', 'JagritShiksha']\n",
            "congratulations आपको बहुत बहूत बधाई हो sunil devadia जी shiksha jagrit abhiyaan foundation के सदश्य बनने के लिए Andheri East मे काम करने की चाह रखने के लिए ओर बहुत बहुत धन्यवाद !! Shiksha jagrit abhiyaan foundation भाविष्य तुम्हारा लक्ष्य हमारा\n",
            "Going for next user.\n",
            "Crawling User:  prat0s\n",
            "['quidtask', 'vivekanandg', 'SaintSluggo', 'NayyarSanjeev', 'JagritShiksha', 'prat0s']\n",
            "I guess so?\n",
            "Going for next user.\n",
            "Crawling User:  cadivyesh11\n",
            "Going for next user.\n",
            "Crawling User:  VISHALN01362084\n",
            "Going for next user.\n",
            "Crawling User:  jacksonmaria297\n",
            "Going for next user.\n",
            "Crawling User:  SushilO94700046\n",
            "Going for next user.\n",
            "Crawling User:  MurtiShree\n",
            "['quidtask', 'vivekanandg', 'SaintSluggo', 'NayyarSanjeev', 'JagritShiksha', 'prat0s', 'MurtiShree']\n",
            "Chase the vision, not the money; the money will end up following you. Hurry Up Bookings Open for A New Family Residence, Captures The Most Stunning Views With Our New Launch Project Mahalaxmi Ashish.#dombivlikar #dombivli #flatforsale #1bhk #2bhk #houseforsale #propertyforsale\n",
            "Going for next user.\n",
            "Crawling User:  GeneralZPatton\n",
            "['quidtask', 'vivekanandg', 'SaintSluggo', 'NayyarSanjeev', 'JagritShiksha', 'prat0s', 'MurtiShree', 'GeneralZPatton']\n",
            "colts are really about to lose to miami this is a sick joke\n",
            "Going for next user.\n",
            "Crawling User:  KadamAmeya\n",
            "['quidtask', 'vivekanandg', 'SaintSluggo', 'NayyarSanjeev', 'JagritShiksha', 'prat0s', 'MurtiShree', 'GeneralZPatton', 'KadamAmeya']\n",
            "Thailand is a wholesome experience as a traveller. The culture is quite exciting. There are many different things to do. Plane Tickets are also quite cheap. http://bit.ly/2ndyHrQ #GoAir #cheapflighttickets #THAILAND\n",
            "Going for next user.\n",
            "Crawling User:  6amitjain\n",
            "['quidtask', 'vivekanandg', 'SaintSluggo', 'NayyarSanjeev', 'JagritShiksha', 'prat0s', 'MurtiShree', 'GeneralZPatton', 'KadamAmeya', '6amitjain']\n",
            "#Bali #hotel #guide. #Club #Mahindra hotels in Bali https://www.expedia.co.in/Bali-Hotels-Club-Mahindra.0-0-d6271832--bClubMahindra.Travel-Guide-Filter-Hotels\n",
            "Going for next user.\n",
            "Crawling User:  ieMilind\n",
            "['quidtask', 'vivekanandg', 'SaintSluggo', 'NayyarSanjeev', 'JagritShiksha', 'prat0s', 'MurtiShree', 'GeneralZPatton', 'KadamAmeya', '6amitjain', 'ieMilind']\n",
            "An aged man got into 1st class Dadar @Central_Railway and as he saw the TC, tried to get down from moving train, but the TC prevented him and allowed to alight at Kurla. Keep up good deeds @RailwaySeva. God speed recovery to the TCS. Merry Christmas @PiyushGoyal @mumbairailusers\n",
            "Going for next user.\n",
            "Crawling User:  FGSRAFAT\n",
            "Going for next user.\n",
            "Crawling User:  PeppiWomaniYo\n",
            "['quidtask', 'vivekanandg', 'SaintSluggo', 'NayyarSanjeev', 'JagritShiksha', 'prat0s', 'MurtiShree', 'GeneralZPatton', 'KadamAmeya', '6amitjain', 'ieMilind', 'PeppiWomaniYo']\n",
            "I guess Auri we have ascended to understanding that everyone is equal. Ufff so much has changed in last 2 years.\n",
            "Going for next user.\n",
            "Crawling User:  RuchitThakkar1\n",
            "Going for next user.\n",
            "Crawling User:  BTVI\n",
            "['quidtask', 'vivekanandg', 'SaintSluggo', 'NayyarSanjeev', 'JagritShiksha', 'prat0s', 'MurtiShree', 'GeneralZPatton', 'KadamAmeya', '6amitjain', 'ieMilind', 'PeppiWomaniYo', 'BTVI']\n",
            ".@PiyushGoyal at the #KashmironomicsConclave2019 – at The Lalit Hotel\n",
            "Going for next user.\n",
            "Crawling User:  SudhirNarkhede\n",
            "Going for next user.\n",
            "Crawling User:  WeFool1\n",
            "Going for next user.\n",
            "Crawling User:  Temporal_thane\n",
            "Going for next user.\n",
            "Crawling User:  Ashish_shah72\n",
            "['quidtask', 'vivekanandg', 'SaintSluggo', 'NayyarSanjeev', 'JagritShiksha', 'prat0s', 'MurtiShree', 'GeneralZPatton', 'KadamAmeya', '6amitjain', 'ieMilind', 'PeppiWomaniYo', 'BTVI', 'Ashish_shah72']\n",
            "AGMs Golden Tobacco, IL&FS Engineering, Manpasand Beverages, Orchid Pharma, Supreme Infrastructure, Videocon Industries\n",
            "Going for next user.\n",
            "Crawling User:  hellohealthplus\n",
            "Going for next user.\n",
            "Crawling User:  additya20\n",
            "['quidtask', 'vivekanandg', 'SaintSluggo', 'NayyarSanjeev', 'JagritShiksha', 'prat0s', 'MurtiShree', 'GeneralZPatton', 'KadamAmeya', '6amitjain', 'ieMilind', 'PeppiWomaniYo', 'BTVI', 'Ashish_shah72', 'additya20']\n",
            "Aagla Station... — traveling to Singapore from Mactan Cebu Airport https://www.facebook.com/786111788/posts/10158048617761789/\n",
            "Going for next user.\n",
            "Crawling User:  tamu20\n",
            "['quidtask', 'vivekanandg', 'SaintSluggo', 'NayyarSanjeev', 'JagritShiksha', 'prat0s', 'MurtiShree', 'GeneralZPatton', 'KadamAmeya', '6amitjain', 'ieMilind', 'PeppiWomaniYo', 'BTVI', 'Ashish_shah72', 'additya20', 'tamu20']\n",
            "@UberINSupport Booked a pool from Thane to Powai right now. I understand if the other traveller has to get down on the way. But what made u club me with a traveller going to Kalwa? It's on the opposite direction. Unnecessary wastage of approx 20-25 mins. #pathetic\n",
            "Going for next user.\n",
            "Crawling User:  rajukmourya\n",
            "Going for next user.\n",
            "Crawling User:  merryja30401892\n",
            "['quidtask', 'vivekanandg', 'SaintSluggo', 'NayyarSanjeev', 'JagritShiksha', 'prat0s', 'MurtiShree', 'GeneralZPatton', 'KadamAmeya', '6amitjain', 'ieMilind', 'PeppiWomaniYo', 'BTVI', 'Ashish_shah72', 'additya20', 'tamu20', 'merryja30401892']\n",
            "Looking for new construction in Parel – one of the best real estate locations in Mumbai.Know more about Dosti Realty , CLICK HERE >> https://apartmentinmumbai.wordpress.com/2019/08/28/looking-for-new-construction-in-parel-one-of-the-best-real-estate-locations-in-mumbai/ #newprojectsinthaneghodbunderroad #residentialprojectsinthane #2bhkflatinthanewest #1bhkflatinthanewest\n",
            "Going for next user.\n",
            "Crawling User:  SoniaKapoor25\n",
            "['quidtask', 'vivekanandg', 'SaintSluggo', 'NayyarSanjeev', 'JagritShiksha', 'prat0s', 'MurtiShree', 'GeneralZPatton', 'KadamAmeya', '6amitjain', 'ieMilind', 'PeppiWomaniYo', 'BTVI', 'Ashish_shah72', 'additya20', 'tamu20', 'merryja30401892', 'SoniaKapoor25']\n",
            "Checkout this very informative article to know more about Worli & its upcoming projects. #commercialprojects #upcomingprojects #seaface #sealink #mumbai #residentialprojects #luxuryresidentialprojects #worli #worlisealink @SanghviRealty @lodhagroup01\n",
            "Going for next user.\n",
            "Crawling User:  Bhabtosh2\n",
            "['quidtask', 'vivekanandg', 'SaintSluggo', 'NayyarSanjeev', 'JagritShiksha', 'prat0s', 'MurtiShree', 'GeneralZPatton', 'KadamAmeya', '6amitjain', 'ieMilind', 'PeppiWomaniYo', 'BTVI', 'Ashish_shah72', 'additya20', 'tamu20', 'merryja30401892', 'SoniaKapoor25', 'Bhabtosh2']\n",
            "Your call to intervene by UN in India's internal matter is very sad, US is making wall to stop Mexico, Germany has stopped all their seals, But India is opened to all Terrorist links from out siders, Good Your being a CM, you owe responsibilities towards your country\n",
            "Going for next user.\n",
            "Crawling User:  ashaicon\n",
            "Going for next user.\n",
            "Crawling User:  DikshaBhoomi\n",
            "['quidtask', 'vivekanandg', 'SaintSluggo', 'NayyarSanjeev', 'JagritShiksha', 'prat0s', 'MurtiShree', 'GeneralZPatton', 'KadamAmeya', '6amitjain', 'ieMilind', 'PeppiWomaniYo', 'BTVI', 'Ashish_shah72', 'additya20', 'tamu20', 'merryja30401892', 'SoniaKapoor25', 'Bhabtosh2', 'DikshaBhoomi']\n",
            "Plan For Buying / Investment In Real Estate #BestDeals #BestOffer With Trust and Support.... #Wadhwa Panvel #Birla Banglore #Godrej -Thane #Mahindra Andheri #Godrej Kandivali #Godrej Okhla New Delhi #Adhiraj Kharghar #Godrej Pune Contact Now : 91 9833618085\n",
            "Going for next user.\n",
            "Crawling User:  AarefaJohari\n",
            "['quidtask', 'vivekanandg', 'SaintSluggo', 'NayyarSanjeev', 'JagritShiksha', 'prat0s', 'MurtiShree', 'GeneralZPatton', 'KadamAmeya', '6amitjain', 'ieMilind', 'PeppiWomaniYo', 'BTVI', 'Ashish_shah72', 'additya20', 'tamu20', 'merryja30401892', 'SoniaKapoor25', 'Bhabtosh2', 'DikshaBhoomi', 'AarefaJohari']\n",
            "So happy to see my amazing teacher getting the recognition she deserves! Thanks for the great interview, @genesiaalves! (Our orchestra performs on Sept 1 at 6.30 pm, Sophia Bhabha Audi in Mumbai - don't miss it!)\n",
            "Going for next user.\n",
            "Crawling User:  BharatJ74318165\n",
            "Going for next user.\n",
            "Crawling User:  LivNest\n",
            "['quidtask', 'vivekanandg', 'SaintSluggo', 'NayyarSanjeev', 'JagritShiksha', 'prat0s', 'MurtiShree', 'GeneralZPatton', 'KadamAmeya', '6amitjain', 'ieMilind', 'PeppiWomaniYo', 'BTVI', 'Ashish_shah72', 'additya20', 'tamu20', 'merryja30401892', 'SoniaKapoor25', 'Bhabtosh2', 'DikshaBhoomi', 'AarefaJohari', 'LivNest']\n",
            "However, business epicenter has now shifted from main city to neighborhood...from Bandra to Navi Mumbai and suburbs ...which accounts for genesis of new interests in MMR among investors. #realestatenews #HousingForAll #trendandeconomics #marketslowdown\n",
            "Going for next user.\n",
            "Crawling User:  NoronhaRohan\n",
            "Going for next user.\n",
            "Crawling User:  ambimgp\n",
            "['quidtask', 'vivekanandg', 'SaintSluggo', 'NayyarSanjeev', 'JagritShiksha', 'prat0s', 'MurtiShree', 'GeneralZPatton', 'KadamAmeya', '6amitjain', 'ieMilind', 'PeppiWomaniYo', 'BTVI', 'Ashish_shah72', 'additya20', 'tamu20', 'merryja30401892', 'SoniaKapoor25', 'Bhabtosh2', 'DikshaBhoomi', 'AarefaJohari', 'LivNest', 'ambimgp']\n",
            "Four Seasons Singapore did something similar for our tangled up chargers. Nice touch this.\n",
            "Going for next user.\n",
            "Crawling User:  Simia_Pugno\n",
            "['quidtask', 'vivekanandg', 'SaintSluggo', 'NayyarSanjeev', 'JagritShiksha', 'prat0s', 'MurtiShree', 'GeneralZPatton', 'KadamAmeya', '6amitjain', 'ieMilind', 'PeppiWomaniYo', 'BTVI', 'Ashish_shah72', 'additya20', 'tamu20', 'merryja30401892', 'SoniaKapoor25', 'Bhabtosh2', 'DikshaBhoomi', 'AarefaJohari', 'LivNest', 'ambimgp', 'Simia_Pugno']\n",
            "boss gave everyone a $25 gift card for christmas useable anywhere that accepts american express. can you guess who's downloading Yakuza 0 ???\n",
            "Going for next user.\n",
            "Crawling User:  _INFRATECH\n",
            "['quidtask', 'vivekanandg', 'SaintSluggo', 'NayyarSanjeev', 'JagritShiksha', 'prat0s', 'MurtiShree', 'GeneralZPatton', 'KadamAmeya', '6amitjain', 'ieMilind', 'PeppiWomaniYo', 'BTVI', 'Ashish_shah72', 'additya20', 'tamu20', 'merryja30401892', 'SoniaKapoor25', 'Bhabtosh2', 'DikshaBhoomi', 'AarefaJohari', 'LivNest', 'ambimgp', 'Simia_Pugno', '_INFRATECH']\n",
            "NEW OFFER #1000 SQFT PER #GUNTHA . #PLOT IN JUST #1LAKH. HURRY UP We have plt near by #international #Airport CBD- 8767133133 / VASHI- 7666200800 / DADAR - 7666500800/ VIDYAVIHAR - 8055200800 / ANDHERI- 9022200300 /THANE - 9595916686 #AFFORDABLELAND #affordablehousing #FLAT\n",
            "Going for next user.\n",
            "Crawling User:  AmitCha05013405\n",
            "['quidtask', 'vivekanandg', 'SaintSluggo', 'NayyarSanjeev', 'JagritShiksha', 'prat0s', 'MurtiShree', 'GeneralZPatton', 'KadamAmeya', '6amitjain', 'ieMilind', 'PeppiWomaniYo', 'BTVI', 'Ashish_shah72', 'additya20', 'tamu20', 'merryja30401892', 'SoniaKapoor25', 'Bhabtosh2', 'DikshaBhoomi', 'AarefaJohari', 'LivNest', 'ambimgp', 'Simia_Pugno', '_INFRATECH', 'AmitCha05013405']\n",
            "@CPMumbaiPolice I asked from Ravi that if you have any contacts in USA please ask somebody to bring one mobile for me he said Yes one of my friend is working there and he is going to come India in next couple of Months I said Okay fine. Ravi called me up on 1st Mar (3/4)\n",
            "Going for next user.\n",
            "An error occured during an HTTP request: HTTP Error 503: Service Temporarily Unavailable\n",
            "Try to open in browser: https://twitter.com/search?q=%20from%3Arohitg1181%20since%3A2019-01-01%20until%3A2019-12-31&src=typd\n"
          ],
          "name": "stdout"
        },
        {
          "output_type": "error",
          "ename": "SystemExit",
          "evalue": "ignored",
          "traceback": [
            "An exception has occurred, use %tb to see the full traceback.\n",
            "\u001b[0;31mSystemExit\u001b[0m\n"
          ]
        },
        {
          "output_type": "stream",
          "text": [
            "/usr/local/lib/python3.6/dist-packages/IPython/core/interactiveshell.py:2890: UserWarning: To exit: use 'exit', 'quit', or Ctrl-D.\n",
            "  warn(\"To exit: use 'exit', 'quit', or Ctrl-D.\", stacklevel=1)\n"
          ],
          "name": "stderr"
        }
      ]
    },
    {
      "cell_type": "code",
      "metadata": {
        "id": "cfaKY3m9Skcv",
        "colab_type": "code",
        "colab": {
          "base_uri": "https://localhost:8080/",
          "height": 55
        },
        "outputId": "6840b7d0-cc7a-43d6-8f25-359b0b99eb20"
      },
      "source": [
        "import tweepy\n",
        "\n",
        "consumer_key='rNrnFupaEqKt0eb7hjbdHKdWg'\n",
        "consumer_secret= 'DTTMoQOrCBmngaXmOnFhrBjdjwtT54x0AbGvNwwuqyYNWwEvc7'\n",
        "access_token='1002268050513575936-gGrQUmDiMyCxO2Y88lc3ojqNzbtLGm'\n",
        "access_token_secret='G572YTe2S5TQTTaXhFvl1WyNopa8ilrkgWSlCXBZQwU4C'\n",
        "auth = tweepy.OAuthHandler(consumer_key, consumer_secret)\n",
        "auth.set_access_token(access_token, access_token_secret)\n",
        "api = tweepy.API(auth,wait_on_rate_limit=True)\n",
        "\n",
        "pname=list()\n",
        "for i in li:\n",
        "    u=api.get_user(i)\n",
        "    pname.append(u.name)\n",
        "\n",
        "print(pname)"
      ],
      "execution_count": 7,
      "outputs": [
        {
          "output_type": "stream",
          "text": [
            "['Sadaf', 'The Corporate Desk', 'فیضان خان FaizanKhan', 'HIGH FIVE MUSKETEERS', 'Nirmala Patekar', 'Pulika Nath', 'jolly speed cargo', 'Amit Byron', 'rohit', 'Rajesh Garg', 'KreateCube', 'anil', 'saurabh pande', 'Rahul singh', 'Nil Frando', 'simi barua', 'Sharad Dubey', 'Sanjay Nayak', 'खऱी - खोटी™', 'Jitendra Soni', 'Keyur Shah', 'Ambareesh Baliga', 'MANGESH KASHIRAM MORE', 'renu', 'Tabrez I Padvekar', 'Nevermind 🇮🇳', 'VKR', 'Shubh Jangam', 'NMH@navimumbaihouses', 'Samirr Sirr']\n"
          ],
          "name": "stdout"
        }
      ]
    },
    {
      "cell_type": "code",
      "metadata": {
        "id": "O4_Vcbx9tvqn",
        "colab_type": "code",
        "colab": {
          "base_uri": "https://localhost:8080/",
          "height": 55
        },
        "outputId": "b1349686-5946-4cfb-cf1c-b712ffd1e879"
      },
      "source": [
        "import string\n",
        "import re\n",
        "def clean_tweet(tweet): \n",
        "    ''' \n",
        "    Use sumple regex statemnents to clean tweet text by removing links and special characters\n",
        "    '''\n",
        "    return ' '.join(re.sub(\"(@[A-Za-z0-9]+)|([^0-9A-Za-z \\t]) \\\n",
        "                                |(\\w+:\\/\\/\\S+)\", \" \", tweet).split()) \n",
        "def deEmojify(text):\n",
        "    '''\n",
        "    Strip all non-ASCII characters to remove emoji characters\n",
        "    '''\n",
        "    if text:\n",
        "        return text.encode('ascii', 'ignore').decode('ascii')\n",
        "    else:\n",
        "        return None\n",
        "\n",
        "clean=list()\n",
        "\n",
        "mail=['gmail','yahoo','hotmail','rediff']\n",
        "\n",
        "for i in pname:\n",
        "  if (any(word in i.lower() for word in mail))==True:  \n",
        "      clean.append(i.lower())    \n",
        "  else:\n",
        "      demo=deEmojify(i)\n",
        "      cle=clean_tweet(demo)\n",
        "      cleaned=i.translate(str.maketrans(string.punctuation, ' '*len(string.punctuation)))\n",
        "      clean.append(cleaned)\n",
        "\n",
        "print(clean)"
      ],
      "execution_count": 9,
      "outputs": [
        {
          "output_type": "stream",
          "text": [
            "['Sadaf', 'The Corporate Desk', 'فیضان خان FaizanKhan', 'HIGH FIVE MUSKETEERS', 'Nirmala Patekar', 'Pulika Nath', 'jolly speed cargo', 'Amit Byron', 'rohit', 'Rajesh Garg', 'KreateCube', 'anil', 'saurabh pande', 'Rahul singh', 'Nil Frando', 'simi barua', 'Sharad Dubey', 'Sanjay Nayak', 'खऱी   खोटी™', 'Jitendra Soni', 'Keyur Shah', 'Ambareesh Baliga', 'MANGESH KASHIRAM MORE', 'renu', 'Tabrez I Padvekar', 'Nevermind 🇮🇳', 'VKR', 'Shubh Jangam', 'NMH navimumbaihouses', 'Samirr Sirr']\n"
          ],
          "name": "stdout"
        }
      ]
    },
    {
      "cell_type": "code",
      "metadata": {
        "id": "Zq7dUGaYtv-6",
        "colab_type": "code",
        "colab": {
          "base_uri": "https://localhost:8080/",
          "height": 55
        },
        "outputId": "00abf37e-0d6f-41ab-b41b-70a650b62b91"
      },
      "source": [
        "no=['decor','realt','digi','acre','resid','stock','group','article','project','commerc','brick','india','guru','new','market', \\\n",
        "    'enterp','vastu','astro','estate','mall','hous','mumbai','sky','room','home','flat','design','interior','furniture','trend', \\\n",
        "    'pack','build','work','propert','vastu','gym','loan','luxury','bloomberg','business','direct','time',\\\n",
        "    'revenue','day','bank','agen','job','minis','corpo','tech', \\\n",
        "    'boss','nation','associat','developer','broth','invest','people','dna','media','break','bombay','lodha','hiranandani']\n",
        "finalset=set()\n",
        "for i in clean:\n",
        "    if any(word in i.lower() for word in no):\n",
        "        finalset.add(i)\n",
        "\n",
        "users=set(clean)\n",
        "h=users-finalset\n",
        "print(h)\n"
      ],
      "execution_count": 11,
      "outputs": [
        {
          "output_type": "stream",
          "text": [
            "{'Amit Byron', 'Jitendra Soni', 'Ambareesh Baliga', 'saurabh pande', 'Nil Frando', 'Nirmala Patekar', 'Samirr Sirr', 'Keyur Shah', 'فیضان خان FaizanKhan', 'Shubh Jangam', 'Rahul singh', 'Sanjay Nayak', 'Tabrez I Padvekar', 'VKR', 'jolly speed cargo', 'Nevermind 🇮🇳', 'simi barua', 'KreateCube', 'Pulika Nath', 'Sadaf', 'renu', 'HIGH FIVE MUSKETEERS', 'Rajesh Garg', 'MANGESH KASHIRAM MORE', 'rohit', 'Sharad Dubey', 'anil', 'खऱी   खोटी™'}\n"
          ],
          "name": "stdout"
        }
      ]
    },
    {
      "cell_type": "code",
      "metadata": {
        "id": "dY0CnQOntwLw",
        "colab_type": "code",
        "colab": {}
      },
      "source": [
        "import string\n",
        "import time\n",
        "import threading\n",
        "import urllib\n",
        "import re\n",
        "import io\n",
        "import sys\n",
        "from time import sleep\n",
        "import pickle\n",
        "import pandas as pd\n",
        "\n",
        "\n",
        "def formats(first, middle, last, domain):\n",
        "    \"\"\"\n",
        "    Create a list of 30 possible email formats combining:\n",
        "    - First name:          [empty] | Full | Initial |\n",
        "    - Delimitator:         [empty] |   .  |    _    |    -\n",
        "    - Last name:           [empty] | Full | Initial |\n",
        "    \"\"\"\n",
        "    list = []\n",
        "    emails=['gmail','yahoo','rediff','hotmail']\n",
        "\n",
        "    if any(word in first for word in emails):\n",
        "        list.append(first)\n",
        "\n",
        "    elif any(word in middle for word in emails):\n",
        "        list.append(middle)\n",
        "\n",
        "    elif any(word in last for word in emails):\n",
        "        list.append(last)\n",
        "\n",
        "\n",
        "    elif len(last)==0:\n",
        "        list.append(first + '@' + domain)                    # first@example.com\n",
        "\n",
        "\n",
        "    else:\n",
        "        list.append(first[0] + last + '@' + domain)          # flast@example.com\n",
        "        list.append(first[0] + '.' + last + '@' + domain)    # f.last@example.com\n",
        "        list.append(first[0] + '_' + last + '@' + domain)    # f_last@example.com\n",
        "        list.append(first + '@' + domain)                    # first@example.com\n",
        "        list.append(first + last + '@' + domain)             # firstlast@example.com\n",
        "        list.append(first + '.' + last + '@' + domain)       # first.last@example.com\n",
        "        list.append(first + '_' + last + '@' + domain)       # first_last@example.com\n",
        "        list.append(first + '-' + last + '@' + domain)       # first-last@example.com\n",
        "\n",
        "        list.append(first + last[0] + '@' + domain)          # fistl@example.com\n",
        "        list.append(first + '.' + last[0] + '@' + domain)    # first.l@example.com\n",
        "        list.append(first + '_' + last[0] + '@' + domain)    # fist_l@example.com\n",
        "        \n",
        "        list.append(first[0] + middle + last + '@' + domain)          # fmiddlelast@example.com\n",
        "        list.append(first[0] + '.' + middle + last + '@' + domain)    # f.middlelast@example.com\n",
        "        list.append(first[0] + middle + '.' + last + '@' + domain)    # fmiddle.last@example.com\n",
        "        list.append(first[0] + '_' + middle+ last + '@' + domain)    # f_middlelast@example.com\n",
        "        list.append(first[0] + middle +'_' + last + '@' + domain)    # fmiddle_last@example.com\n",
        "        list.append(first + middle+ last + '@' + domain)             # firstmiddlelast@example.com\n",
        "        list.append(first + middle + '.' + last + '@' + domain)       # firstmiddle.last@example.com\n",
        "        list.append(first + '.' + middle + last + '@' + domain)       # first.middlelast@example.com\n",
        "        list.append(first + '_' + middle + last + '@' + domain)       # first_last@example.com\n",
        "        list.append(first + middle + '_' + last + '@' + domain)       # first_last@example.com\n",
        "        list.append(first + middle+ last[0] + '@' + domain)          # firstmiddlel@example.com\n",
        "        list.append(first + '.' + middle +last[0] + '@' + domain)    # first.middlel@example.com\n",
        "        list.append(first + middle + '.' +last[0] + '@' + domain)    # firstmiddle.l@example.com\n",
        "        list.append(first + '_' + middle +last[0] + '@' + domain)    # first_middlel@example.com\n",
        "        list.append(first + middle +'_' + last[0] + '@' + domain)    # firstmiddle_l@example.com        \n",
        "        \n",
        "        list.append(last + '@' + domain)                     # last@example.com\n",
        "        list.append(last + first+ '@' + domain)              # lastfirst@example.com\n",
        "        list.append(last + '.' + first + '@' + domain)       # last.first@example.com\n",
        "        list.append(last + '_' + first + '@' + domain)       # last_first@example.com\n",
        "        list.append(last[0] + '.' + first + '@' + domain)    # l.first@example.com    \n",
        "        list.append(last[0] + first + '@' + domain)          # lfirst@example.com\n",
        "        list.append(last + first[0] + '@' + domain)          # lastf@example.com\n",
        "        list.append(last + '.' + first[0] + '@' + domain)    # last.f@example.com\n",
        "        list.append(last + '_' + first[0] + '@' + domain)    # last_f@example.com\n",
        "       \n",
        "    return(list)\n"
      ],
      "execution_count": 0,
      "outputs": []
    },
    {
      "cell_type": "code",
      "metadata": {
        "id": "lj_vKJuNuFDc",
        "colab_type": "code",
        "colab": {}
      },
      "source": [
        "len2=list()\n",
        "l1=list()\n",
        "l3=list()\n",
        "ln=list()\n",
        "\n",
        "email_list=list()\n",
        "\n",
        "for i in h:\n",
        "    try:\n",
        "        i=i.lower()\n",
        "        s=i.split()\n",
        "\n",
        "        if len(s)==2:\n",
        "            email_list.extend(formats(s[0],'',s[1],'yahoo.co.in'))\n",
        "            len2.append(i)\n",
        "        elif len(s)==1:\n",
        "            email_list.extend(formats(s[0],'','','yahoo.co.in'))        \n",
        "            l1.append(i)\n",
        "        elif len(s)==3:\n",
        "            email_list.extend(formats(s[0],s[1],s[2],'yahoo.co.in'))    \n",
        "            l3.append(i)\n",
        "        elif len(s)>3:\n",
        "            ln.append(i)\n",
        "            continue    \n",
        "    except:\n",
        "        continue        \n"
      ],
      "execution_count": 0,
      "outputs": []
    },
    {
      "cell_type": "code",
      "metadata": {
        "id": "bGxbLoLbuG5R",
        "colab_type": "code",
        "colab": {}
      },
      "source": [
        "lisi=list()"
      ],
      "execution_count": 0,
      "outputs": []
    },
    {
      "cell_type": "code",
      "metadata": {
        "id": "x1TxTPMXulp4",
        "colab_type": "code",
        "colab": {
          "base_uri": "https://localhost:8080/",
          "height": 35
        },
        "outputId": "6ed5ad6b-57a5-4ff6-e8b2-0eb87c60cf9d"
      },
      "source": [
        "\n",
        "lisi.extend(email_list)\n",
        "print(len(lisi))"
      ],
      "execution_count": 21,
      "outputs": [
        {
          "output_type": "stream",
          "text": [
            "3104\n"
          ],
          "name": "stdout"
        }
      ]
    },
    {
      "cell_type": "code",
      "metadata": {
        "id": "OUAN7hV9uy9T",
        "colab_type": "code",
        "colab": {}
      },
      "source": [
        "import pandas as pd\n",
        "emails=pd.Series(li)\n",
        "finaldata=pd.DataFrame(lisi)\n",
        "finaldata.to_csv(\"/content/drive/My Drive/Colab Notebooks/Internship/Usernames/Navi Mumbai/slot1.csv\",index=False,encoding='UTF-8')\n"
      ],
      "execution_count": 0,
      "outputs": []
    }
  ]
}