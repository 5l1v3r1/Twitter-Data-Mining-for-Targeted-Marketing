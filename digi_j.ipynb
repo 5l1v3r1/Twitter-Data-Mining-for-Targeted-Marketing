{
  "nbformat": 4,
  "nbformat_minor": 0,
  "metadata": {
    "colab": {
      "name": "digi_j.ipynb",
      "provenance": [],
      "collapsed_sections": []
    },
    "kernelspec": {
      "name": "python3",
      "display_name": "Python 3"
    },
    "accelerator": "TPU"
  },
  "cells": [
    {
      "cell_type": "code",
      "metadata": {
        "id": "4_DAdXYFsbme",
        "colab_type": "code",
        "outputId": "189505a9-d123-496a-f087-d351322ddd5b",
        "colab": {
          "base_uri": "https://localhost:8080/",
          "height": 91
        }
      },
      "source": [
        "!pip install GetOldTweets3"
      ],
      "execution_count": 44,
      "outputs": [
        {
          "output_type": "stream",
          "text": [
            "Requirement already satisfied: GetOldTweets3 in /usr/local/lib/python3.6/dist-packages (0.0.11)\n",
            "Requirement already satisfied: lxml>=3.5.0 in /usr/local/lib/python3.6/dist-packages (from GetOldTweets3) (4.2.6)\n",
            "Requirement already satisfied: pyquery>=1.2.10 in /usr/local/lib/python3.6/dist-packages (from GetOldTweets3) (1.4.1)\n",
            "Requirement already satisfied: cssselect>0.7.9 in /usr/local/lib/python3.6/dist-packages (from pyquery>=1.2.10->GetOldTweets3) (1.1.0)\n"
          ],
          "name": "stdout"
        }
      ]
    },
    {
      "cell_type": "code",
      "metadata": {
        "id": "6ds9YW6-44B8",
        "colab_type": "code",
        "outputId": "fa00f02f-4358-4126-d20f-4b76e8c6d92b",
        "colab": {
          "base_uri": "https://localhost:8080/",
          "height": 35
        }
      },
      "source": [
        "import GetOldTweets3 as got\n",
        "tweetCriteria = got.manager.TweetCriteria().setQuerySearch('(luxury homes mumbai) OR (modern homes mumbai) OR  (spacious homes mumbai) OR (clubhouse facilit mumbai) OR (gym facilit mumbai) OR  (township buidler mumbai) OR (premium builders in mumbai) OR (latest constructions mumbai) OR  (latest development mumbai) OR (fast construction mumbai) OR (quality builder mumbai) ').setSince(\"2019-01-01\").setUntil(\"2019-12-31\")\n",
        "\n",
        "tweets = got.manager.TweetManager.getTweets(tweetCriteria)\n",
        "print(len(tweets))\n"
      ],
      "execution_count": 104,
      "outputs": [
        {
          "output_type": "stream",
          "text": [
            "1296\n"
          ],
          "name": "stdout"
        }
      ]
    },
    {
      "cell_type": "code",
      "metadata": {
        "id": "vsl1ymJv13EO",
        "colab_type": "code",
        "outputId": "e4b97c13-9e12-438d-e2cf-89ba4d1e903e",
        "colab": {
          "base_uri": "https://localhost:8080/",
          "height": 35
        }
      },
      "source": [
        "from google.colab import drive\n",
        "import pickle\n",
        "drive.mount('/content/drive')\n",
        "DATA_PATH = \"/content/drive/My Drive/Colab Notebooks/Internship/Tweet Data/Mumbai/iters\"\n",
        "real_tweets2=open(DATA_PATH+'/iter2.pickle','wb')\n",
        "real_tweets3=pickle.dump(tweets,real_tweets2)\n",
        "real_tweets2.close()\n"
      ],
      "execution_count": 105,
      "outputs": [
        {
          "output_type": "stream",
          "text": [
            "Drive already mounted at /content/drive; to attempt to forcibly remount, call drive.mount(\"/content/drive\", force_remount=True).\n"
          ],
          "name": "stdout"
        }
      ]
    },
    {
      "cell_type": "code",
      "metadata": {
        "id": "UnkjoX6541rD",
        "colab_type": "code",
        "colab": {}
      },
      "source": [
        "#############################################################################################"
      ],
      "execution_count": 0,
      "outputs": []
    },
    {
      "cell_type": "code",
      "metadata": {
        "id": "0V1KPk3N5SqX",
        "colab_type": "code",
        "outputId": "0bd985ad-ab36-431c-a55f-622b09feb00e",
        "colab": {
          "base_uri": "https://localhost:8080/",
          "height": 54
        }
      },
      "source": [
        "from google.colab import drive\n",
        "import pickle\n",
        "drive.mount('/content/drive')\n",
        "DATA_PATH = \"/content/drive/My Drive/Colab Notebooks/Internship/Tweet Data/Thane\"\n",
        "real_tweets4=open(DATA_PATH+'/slot3.pickle','rb')\n",
        "real_tweets5=pickle.load(real_tweets4)\n",
        "print(len(real_tweets5))"
      ],
      "execution_count": 209,
      "outputs": [
        {
          "output_type": "stream",
          "text": [
            "Drive already mounted at /content/drive; to attempt to forcibly remount, call drive.mount(\"/content/drive\", force_remount=True).\n",
            "187\n"
          ],
          "name": "stdout"
        }
      ]
    },
    {
      "cell_type": "code",
      "metadata": {
        "id": "gRXRGnDWdrEW",
        "colab_type": "code",
        "colab": {
          "base_uri": "https://localhost:8080/",
          "height": 54
        },
        "outputId": "9a688a56-568c-4879-f332-6b21f3dab44e"
      },
      "source": [
        "from google.colab import drive\n",
        "import pickle\n",
        "drive.mount('/content/drive')\n",
        "DATA_PATH = \"/content/drive/My Drive/Colab Notebooks/Internship/Tweet Data/Thane\"\n",
        "real_tweets6=open(DATA_PATH+'/j2.pickle','rb')\n",
        "real_tweets7=pickle.load(real_tweets6)\n",
        "print(len(real_tweets7))"
      ],
      "execution_count": 200,
      "outputs": [
        {
          "output_type": "stream",
          "text": [
            "Drive already mounted at /content/drive; to attempt to forcibly remount, call drive.mount(\"/content/drive\", force_remount=True).\n",
            "274\n"
          ],
          "name": "stdout"
        }
      ]
    },
    {
      "cell_type": "code",
      "metadata": {
        "id": "KQcJOqpdLjaR",
        "colab_type": "code",
        "colab": {
          "base_uri": "https://localhost:8080/",
          "height": 35
        },
        "outputId": "9400ca08-547b-4df4-f8cc-ff6037781dc5"
      },
      "source": [
        "real_tweets7.extend(real_tweets5)\n",
        "print(len(real_tweets7))"
      ],
      "execution_count": 201,
      "outputs": [
        {
          "output_type": "stream",
          "text": [
            "701\n"
          ],
          "name": "stdout"
        }
      ]
    },
    {
      "cell_type": "code",
      "metadata": {
        "id": "CMpYW5bFMT52",
        "colab_type": "code",
        "colab": {
          "base_uri": "https://localhost:8080/",
          "height": 35
        },
        "outputId": "0f995fb4-964f-4462-9bc3-35f912c295c6"
      },
      "source": [
        "real_tweets9.extend(real_tweets11)\n",
        "print(len(real_tweets9))"
      ],
      "execution_count": 190,
      "outputs": [
        {
          "output_type": "stream",
          "text": [
            "73\n"
          ],
          "name": "stdout"
        }
      ]
    },
    {
      "cell_type": "code",
      "metadata": {
        "id": "7okjfcGbMT2z",
        "colab_type": "code",
        "colab": {
          "base_uri": "https://localhost:8080/",
          "height": 35
        },
        "outputId": "b7e84453-bf57-4c08-cb88-ead85702ee36"
      },
      "source": [
        "real_tweets9.extend(real_tweets7)\n",
        "print(len(real_tweets9))"
      ],
      "execution_count": 191,
      "outputs": [
        {
          "output_type": "stream",
          "text": [
            "196\n"
          ],
          "name": "stdout"
        }
      ]
    },
    {
      "cell_type": "code",
      "metadata": {
        "id": "DJ2I0feK5sUE",
        "colab_type": "code",
        "outputId": "ae59a462-d8f2-4196-8c0e-482bb78fe6c9",
        "colab": {
          "base_uri": "https://localhost:8080/",
          "height": 35
        }
      },
      "source": [
        "users=set()\n",
        "for i in real_tweets5:\n",
        "  users.add(i.username)\n",
        "print(len(users))"
      ],
      "execution_count": 210,
      "outputs": [
        {
          "output_type": "stream",
          "text": [
            "77\n"
          ],
          "name": "stdout"
        }
      ]
    },
    {
      "cell_type": "code",
      "metadata": {
        "id": "GdtGjupxz3Bq",
        "colab_type": "code",
        "outputId": "944bab2e-10a5-4517-8369-582a5ba16067",
        "colab": {
          "base_uri": "https://localhost:8080/",
          "height": 54
        }
      },
      "source": [
        "from google.colab import drive\n",
        "import pickle\n",
        "drive.mount('/content/drive')\n",
        "DATA_PATH = \"/content/drive/My Drive/Colab Notebooks/Internship/Usernames/Mumbai/iters\"\n",
        "users2=open(DATA_PATH+'/iter1.pickle','rb')\n",
        "users1=pickle.load(users2)\n",
        "print(len(users1))"
      ],
      "execution_count": 90,
      "outputs": [
        {
          "output_type": "stream",
          "text": [
            "Drive already mounted at /content/drive; to attempt to forcibly remount, call drive.mount(\"/content/drive\", force_remount=True).\n",
            "1255\n"
          ],
          "name": "stdout"
        }
      ]
    },
    {
      "cell_type": "code",
      "metadata": {
        "id": "CLOYQcXe0V60",
        "colab_type": "code",
        "colab": {
          "base_uri": "https://localhost:8080/",
          "height": 35
        },
        "outputId": "516c3f4a-f979-4c8c-e9ea-6ac65906c469"
      },
      "source": [
        "for i in users:\n",
        "  users1.add(i)\n",
        "print(len(users1))"
      ],
      "execution_count": 91,
      "outputs": [
        {
          "output_type": "stream",
          "text": [
            "1858\n"
          ],
          "name": "stdout"
        }
      ]
    },
    {
      "cell_type": "code",
      "metadata": {
        "id": "JkslXkba5Pep",
        "colab_type": "code",
        "outputId": "c4a998c8-8ae3-4ef7-a4d6-dc24eb5aeeb6",
        "colab": {
          "base_uri": "https://localhost:8080/",
          "height": 35
        }
      },
      "source": [
        "from google.colab import drive\n",
        "import pickle\n",
        "drive.mount('/content/drive')\n",
        "DATA_PATH = \"/content/drive/My Drive/Colab Notebooks/Internship/Usernames/Navi Mumbai\"\n",
        "users4=open(DATA_PATH+'/slot3.pickle','wb')\n",
        "real_tweets3=pickle.dump(real_tweets5,users4)\n",
        "users4.close()\n"
      ],
      "execution_count": 163,
      "outputs": [
        {
          "output_type": "stream",
          "text": [
            "Drive already mounted at /content/drive; to attempt to forcibly remount, call drive.mount(\"/content/drive\", force_remount=True).\n"
          ],
          "name": "stdout"
        }
      ]
    },
    {
      "cell_type": "code",
      "metadata": {
        "id": "AAJN8_ze5sRC",
        "colab_type": "code",
        "colab": {}
      },
      "source": [
        "no=['decor','realt','digi','acre','resid','stock','group','article','project','commerc','brick','india','guru','new','market', \\\n",
        "    'enterp','vastu','astro','estate','mall','hous','mumbai','sky','room','home','flat','design','interior','furniture','trend', \\\n",
        "    'pack','build','work','propert','vastu','gym','loan','luxury','bloomberg','business','direct','time',\\\n",
        "    'revenue','day','bank','agen','job','minis','corpo','tech' \\\n",
        "    'boss','nation','associat','developer','broth','invest','people','dna','media','break','bombay','lodha','hiranandani']\n",
        "# se1=set()\n",
        "# for i in users1:\n",
        "#    if (i.username).lower() not in no:\n",
        "#     se1.add(i.username)\n",
        "# print(len(se1))\n"
      ],
      "execution_count": 0,
      "outputs": []
    },
    {
      "cell_type": "code",
      "metadata": {
        "id": "uR6d4D1Y9piC",
        "colab_type": "code",
        "colab": {}
      },
      "source": [
        "finalset=set()\n",
        "for i in users:\n",
        "  for j in no:\n",
        "     if j in i.lower():\n",
        "       finalset.add(i)\n",
        "     \n",
        "       \n"
      ],
      "execution_count": 0,
      "outputs": []
    },
    {
      "cell_type": "code",
      "metadata": {
        "id": "ZxcEDLAdCweO",
        "colab_type": "code",
        "colab": {}
      },
      "source": [
        "for i in finalset:\n",
        "  print(i)\n",
        "print(len(finalset))"
      ],
      "execution_count": 0,
      "outputs": []
    },
    {
      "cell_type": "code",
      "metadata": {
        "id": "_dts2lRh7xu0",
        "colab_type": "code",
        "colab": {
          "base_uri": "https://localhost:8080/",
          "height": 977
        },
        "outputId": "016f3b2f-17a6-4a34-ed61-909e2b8ba929"
      },
      "source": [
        "h=users-finalset\n",
        "print(len(h))\n",
        "\n",
        "for i in h:\n",
        "  print(i)"
      ],
      "execution_count": 214,
      "outputs": [
        {
          "output_type": "stream",
          "text": [
            "51\n",
            "careacter\n",
            "KamlakarKetan\n",
            "ssachinparhad\n",
            "anoop82215147\n",
            "ArunThakkar7\n",
            "KaithwasRitesh\n",
            "GodrejN\n",
            "LivNest\n",
            "shapoorjipallo4\n",
            "MayurNaharOffcl\n",
            "AzzianoUrbania\n",
            "KonarkSolitaire\n",
            "76DdaIr4A0nt4yv\n",
            "propinn\n",
            "manishk9910\n",
            "wolfmomz\n",
            "damjishamjishah\n",
            "spenta_corp\n",
            "shreemhyundai\n",
            "RegalSquare\n",
            "shubhpravesh01\n",
            "Mac_Max_25\n",
            "ashaicon\n",
            "JahnviPanchal\n",
            "ashson09\n",
            "Sagargole13\n",
            "Mauble1\n",
            "vijayrnair\n",
            "ronny_williams\n",
            "m_sherkar\n",
            "MurtiShree\n",
            "Online5Pinky\n",
            "Arunrythmdivine\n",
            "ElevatorWorld\n",
            "bapatvaibhav\n",
            "ketaneel\n",
            "RunwalDev\n",
            "OutlookMoney\n",
            "NehaSin49196696\n",
            "SureshG82953106\n",
            "rameezshaikh9\n",
            "jackaltventures\n",
            "GharJunction\n",
            "Raju12781594\n",
            "RustomjeeSpaces\n",
            "Pravinkumar78\n",
            "shreevidhatte\n",
            "NilFrando\n",
            "CraftLuso\n",
            "Sammypedia\n",
            "PatilOmi27\n"
          ],
          "name": "stdout"
        }
      ]
    },
    {
      "cell_type": "code",
      "metadata": {
        "id": "KV0A6qFTgwcj",
        "colab_type": "code",
        "colab": {
          "base_uri": "https://localhost:8080/",
          "height": 35
        },
        "outputId": "443fbc5a-af69-494f-fb5a-4c0b4050f386"
      },
      "source": [
        "from google.colab import drive\n",
        "import pickle\n",
        "drive.mount('/content/drive')\n",
        "DATA_PATH = \"/content/drive/My Drive/Colab Notebooks/Internship/Usernames/Thane\"\n",
        "users4=open(DATA_PATH+'/slot3.pickle','wb')\n",
        "real_tweets3=pickle.dump(h,users4)\n",
        "users4.close()\n",
        "\n",
        "#print(len(real_tweets3))"
      ],
      "execution_count": 215,
      "outputs": [
        {
          "output_type": "stream",
          "text": [
            "Drive already mounted at /content/drive; to attempt to forcibly remount, call drive.mount(\"/content/drive\", force_remount=True).\n"
          ],
          "name": "stdout"
        }
      ]
    },
    {
      "cell_type": "code",
      "metadata": {
        "id": "p3dA3de7_V02",
        "colab_type": "code",
        "colab": {
          "base_uri": "https://localhost:8080/",
          "height": 35
        },
        "outputId": "3fcd1e20-2535-4d54-b1be-938151f1ab5a"
      },
      "source": [
        "users4=open(DATA_PATH+'/slot2.pickle','rb')\n",
        "real_tweets3=pickle.load(users4)\n",
        "users4.close()\n",
        "\n",
        "print(len(real_tweets3))"
      ],
      "execution_count": 100,
      "outputs": [
        {
          "output_type": "stream",
          "text": [
            "1425\n"
          ],
          "name": "stdout"
        }
      ]
    }
  ]
}