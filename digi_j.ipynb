{
  "nbformat": 4,
  "nbformat_minor": 0,
  "metadata": {
    "colab": {
      "name": "digi_j.ipynb",
      "provenance": [],
      "collapsed_sections": []
    },
    "kernelspec": {
      "name": "python3",
      "display_name": "Python 3"
    },
    "accelerator": "TPU"
  },
  "cells": [
    {
      "cell_type": "code",
      "metadata": {
        "id": "4_DAdXYFsbme",
        "colab_type": "code",
        "colab": {}
      },
      "source": [
        "!pip install GetOldTweets3"
      ],
      "execution_count": 0,
      "outputs": []
    },
    {
      "cell_type": "code",
      "metadata": {
        "id": "6ds9YW6-44B8",
        "colab_type": "code",
        "outputId": "fa00f02f-4358-4126-d20f-4b76e8c6d92b",
        "colab": {
          "base_uri": "https://localhost:8080/",
          "height": 35
        }
      },
      "source": [
        "import GetOldTweets3 as got\n",
        "tweetCriteria = got.manager.TweetCriteria().setQuerySearch('(luxury homes mumbai) OR (modern homes mumbai) OR  (spacious homes mumbai) OR (clubhouse facilit mumbai) OR (gym facilit mumbai) OR  (township buidler mumbai) OR (premium builders in mumbai) OR (latest constructions mumbai) OR  (latest development mumbai) OR (fast construction mumbai) OR (quality builder mumbai) ').setSince(\"2019-01-01\").setUntil(\"2019-12-31\")\n",
        "\n",
        "tweets = got.manager.TweetManager.getTweets(tweetCriteria)\n",
        "print(len(tweets))\n"
      ],
      "execution_count": 0,
      "outputs": [
        {
          "output_type": "stream",
          "text": [
            "1296\n"
          ],
          "name": "stdout"
        }
      ]
    },
    {
      "cell_type": "code",
      "metadata": {
        "id": "vsl1ymJv13EO",
        "colab_type": "code",
        "colab": {}
      },
      "source": [
        ""
      ],
      "execution_count": 0,
      "outputs": []
    },
    {
      "cell_type": "code",
      "metadata": {
        "id": "UnkjoX6541rD",
        "colab_type": "code",
        "colab": {}
      },
      "source": [
        "#############################################################################################"
      ],
      "execution_count": 0,
      "outputs": []
    },
    {
      "cell_type": "code",
      "metadata": {
        "id": "VqS6F51ThlEj",
        "colab_type": "code",
        "colab": {}
      },
      "source": [
        ""
      ],
      "execution_count": 0,
      "outputs": []
    },
    {
      "cell_type": "code",
      "metadata": {
        "id": "FRYwWKOGhlBT",
        "colab_type": "code",
        "colab": {}
      },
      "source": [
        ""
      ],
      "execution_count": 0,
      "outputs": []
    },
    {
      "cell_type": "code",
      "metadata": {
        "id": "AAJN8_ze5sRC",
        "colab_type": "code",
        "colab": {}
      },
      "source": [
        "no=['decor','realt','digi','acre','resid','stock','group','article','project','commerc','brick','india','guru','new','market', \\\n",
        "    'enterp','vastu','astro','estate','mall','hous','mumbai','sky','room','home','flat','design','interior','furniture','trend', \\\n",
        "    'pack','build','work','propert','vastu','gym','loan','luxury','bloomberg','business','direct','time',\\\n",
        "    'revenue','day','bank','agen','job','minis','corpo','tech', \\\n",
        "    'boss','nation','associat','developer','broth','invest','people','dna','media','break','bombay','lodha','hiranandani']\n",
        "# se1=set()\n",
        "# for i in users1:\n",
        "#    if (i.username).lower() not in no:\n",
        "#     se1.add(i.username)\n",
        "# print(len(se1))\n"
      ],
      "execution_count": 0,
      "outputs": []
    },
    {
      "cell_type": "code",
      "metadata": {
        "id": "uR6d4D1Y9piC",
        "colab_type": "code",
        "colab": {}
      },
      "source": [
        "finalset=set()\n",
        "for i in users:\n",
        "  for j in no:\n",
        "     if j in i.lower():\n",
        "       finalset.add(i)\n",
        "     \n",
        "       \n"
      ],
      "execution_count": 0,
      "outputs": []
    },
    {
      "cell_type": "code",
      "metadata": {
        "id": "ZxcEDLAdCweO",
        "colab_type": "code",
        "colab": {}
      },
      "source": [
        "for i in finalset:\n",
        "  print(i)\n",
        "print(len(finalset))"
      ],
      "execution_count": 0,
      "outputs": []
    },
    {
      "cell_type": "code",
      "metadata": {
        "id": "_dts2lRh7xu0",
        "colab_type": "code",
        "colab": {}
      },
      "source": [
        "h=users-finalset\n",
        "print(len(h))\n",
        "\n",
        "for i in h:\n",
        "  print(i)"
      ],
      "execution_count": 0,
      "outputs": []
    },
    {
      "cell_type": "code",
      "metadata": {
        "id": "KV0A6qFTgwcj",
        "colab_type": "code",
        "outputId": "443fbc5a-af69-494f-fb5a-4c0b4050f386",
        "colab": {
          "base_uri": "https://localhost:8080/",
          "height": 35
        }
      },
      "source": [
        "from google.colab import drive\n",
        "import pickle\n",
        "drive.mount('/content/drive')\n",
        "DATA_PATH = \"/content/drive/My Drive/Colab Notebooks/Internship/Usernames/Thane\"\n",
        "users4=open(DATA_PATH+'/slot3.pickle','wb')\n",
        "real_tweets3=pickle.dump(h,users4)\n",
        "users4.close()\n",
        "\n",
        "#print(len(real_tweets3))"
      ],
      "execution_count": 0,
      "outputs": [
        {
          "output_type": "stream",
          "text": [
            "Drive already mounted at /content/drive; to attempt to forcibly remount, call drive.mount(\"/content/drive\", force_remount=True).\n"
          ],
          "name": "stdout"
        }
      ]
    },
    {
      "cell_type": "code",
      "metadata": {
        "id": "p3dA3de7_V02",
        "colab_type": "code",
        "outputId": "3fcd1e20-2535-4d54-b1be-938151f1ab5a",
        "colab": {
          "base_uri": "https://localhost:8080/",
          "height": 35
        }
      },
      "source": [
        "users4=open(DATA_PATH+'/slot2.pickle','rb')\n",
        "real_tweets3=pickle.load(users4)\n",
        "users4.close()\n",
        "\n",
        "print(len(real_tweets3))"
      ],
      "execution_count": 0,
      "outputs": [
        {
          "output_type": "stream",
          "text": [
            "1425\n"
          ],
          "name": "stdout"
        }
      ]
    }
  ]
}