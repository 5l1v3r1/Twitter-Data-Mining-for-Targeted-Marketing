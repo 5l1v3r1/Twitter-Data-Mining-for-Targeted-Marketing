{
  "nbformat": 4,
  "nbformat_minor": 0,
  "metadata": {
    "colab": {
      "name": "final",
      "provenance": [],
      "authorship_tag": "ABX9TyMeayUXrARPWslxMYgiD417",
      "include_colab_link": true
    },
    "kernelspec": {
      "name": "python3",
      "display_name": "Python 3"
    }
  },
  "cells": [
    {
      "cell_type": "markdown",
      "metadata": {
        "id": "view-in-github",
        "colab_type": "text"
      },
      "source": [
        "<a href=\"https://colab.research.google.com/github/VirtualGoat/Twitter-Data-Mining/blob/master/final.ipynb\" target=\"_parent\"><img src=\"https://colab.research.google.com/assets/colab-badge.svg\" alt=\"Open In Colab\"/></a>"
      ]
    },
    {
      "cell_type": "code",
      "metadata": {
        "id": "nowAVUAA7Ciz",
        "colab_type": "code",
        "outputId": "fac4aec1-144e-456f-a1c5-c9315e1a0401",
        "colab": {
          "base_uri": "https://localhost:8080/",
          "height": 87
        }
      },
      "source": [
        "#Accessing the data that has been stored. \n",
        "from google.colab import drive\n",
        "import pickle\n",
        "drive.mount('/content/drive')\n",
        "DATA_PATH = \"/content/drive/My Drive/Colab Notebooks/Internship/Tweet Data/New/Thane/Active\"\n",
        "users4=open(DATA_PATH+'/activefull.pickle','rb')\n",
        "dict1=pickle.load(users4)\n",
        "users4.close()\n",
        "print(len(dict1))\n",
        "print(dict1)\n",
        "\n",
        "\n"
      ],
      "execution_count": 123,
      "outputs": [
        {
          "output_type": "stream",
          "text": [
            "Drive already mounted at /content/drive; to attempt to forcibly remount, call drive.mount(\"/content/drive\", force_remount=True).\n",
            "189\n",
            "{'Rohitsh29731902': 350, 'beachhasaliens': 198, 'dailyvruttmitra': 191, 'ieMilind': 164, 'mrsubramani': 143, 'DeepikaBhardwaj': 131, 'PropToq': 124, 'Arunrythmdivine': 106, 'YazdJBilimoria': 101, 'DDSez': 93, 'NayyarSanjeev': 80, 'JAGAHA_CRE': 75, 'RaviSharma210': 72, 'prfeedin': 70, 'quidtask': 70, 'aditya_twister': 68, 'AditiYagnikCNBC': 57, 'vivekanandg': 52, 'adspostinghere': 52, 'ajitwrites': 51, 'ronny_williams': 51, '_raja': 48, 'boogerworm': 46, 'MamuraCo': 45, 'JahnviPanchal': 41, 'MeetModi1': 39, 'krdpravin': 37, 'politicalnaveen': 34, 'rocket_soup': 32, 'tweetsvirat': 30, 'meetdheeraj': 30, 'JoganiMUFC': 30, 'Bhabtosh2': 27, 'SaurabhMerh': 26, 'ashuleo3': 26, 'SadikPatel07': 25, 'FaNearMe': 25, 'DikshaBhoomi': 24, 'rohitg1181': 23, 'NehaSin49196696': 22, 'liyer': 20, 'JoshuaMischke': 20, 'elitelandbase': 20, 'BrijHindustani': 19, 'GharJunction': 17, 'RunwalOfficial': 17, 'powerofmouse': 17, 'Bhargavdesai84': 17, 'lejagah': 16, 'raj_ind76': 16, 'ashishbir77': 14, 'NMHreality': 13, 'hodlurg': 13, 'PHMPL': 13, 'mrmishra_007': 13, 'ambimgp': 12, 'QCIndependent': 12, 'SurakshaAnd': 12, 'RustomjeeSpaces': 11, 'ChinmayPatnaik': 11, 'PiramalMuseum': 11, 'dabrai_sushil': 11, 'MakaanSmart': 11, 'neelesh_korade': 10, 'dawre_sachin': 10, 'SyouG': 10, 'NilFrando': 9, 'shikhadesai1990': 9, '123aviraj': 9, 'BenWaren': 9, 'Meenachandren': 9, 'espnjohnsy': 9, 'SeekerProfit': 8, 'SSanyal': 8, 'MayurNaharOffcl': 8, 'ameyamhatre': 7, 'rubble1973': 7, 'saura_21': 7, 'JaySShah19': 7, 'uchiha_buzz': 7, 'Michelephohl': 7, 'DVBhanushaliRe1': 6, 'yashlovesu86': 6, 'thisisrammishra': 6, 'pankazzzz': 6, 'careacter': 6, 'SANDEEPSAXENA36': 6, 'amoljvm': 5, 'vijaysi50745501': 5, 'HiraliF': 5, 'commonm05516922': 5, 'lindasm60841466': 5, 'suniljparekh': 5, 'vinitas73694437': 5, 'chickyrax': 5, 'hopegovind': 5, 'Mangesh95459869': 5, 'charlot04310463': 5, 'kdinesh8221': 5, 'Thomas_Seq': 4, 'RupaliS56622876': 4, 'propinn': 4, 'AnuragJagia': 4, 'eragas': 4, 'badera_vivek': 4, 'prakash7dec': 4, 'ajmeria': 4, 'GeneralZPatton': 4, 'fairoriana': 4, 'Vakil_shohaib_M': 4, 'Online5Pinky': 4, 'DharmendraDYad1': 4, 'AdvDeepakMore1': 4, 'dudec856': 3, 'ChitnisNobin': 3, 'p_viren': 3, 'DsouzaMerry': 3, 'AarefaJohari': 3, 'funkyskj': 3, 'KapilYash2': 3, 'poosoul': 3, 'OutlookMoney': 3, 'BhattAmbika': 3, 'RunwalDev': 3, 'ashishkrujuta1': 3, 'KonnectHR': 3, 'rassawatti': 3, 'tamu20': 3, 'sid_dwar': 3, 'siyasharma_1992': 3, 'SRamachandani': 2, 'sharon12_22': 2, 'KonarkSolitaire': 2, 'basis12886': 2, 'Ricky_twits': 2, 'MurtiShree': 2, 'VikramLad': 2, 'SushilJ69116654': 2, 'IPCpune': 2, 'PublicInteres18': 2, 'Christi77413202': 2, 'shrikant_jangam': 2, 'gopigupt': 2, 'ninadrane007': 2, 'Fact_Check19': 2, 'prabhakar1989pd': 2, 'DivineOmi': 2, 'SoniaKapoor25': 2, 'Sach_in71': 2, 'rajashrio': 1, 'ParliamentWSea': 1, 'Deltasquare1': 1, 'ShreedhaG': 1, 'gauravmukadam': 1, 'gharcool': 1, 'atharvasandy': 1, 'ChandniMerwani': 1, 'DhirajIngole': 1, 'Advertisemant1': 1, 'aksarode': 1, 'aniljayapujita': 1, 'Fahad09036255': 1, '6amitjain': 1, 'DevendraDate1': 1, 'additya20': 1, 'vpriyadarsh': 1, 'DedhShaana': 1, 'Sneh4pals': 1, 'jackaltventures': 1, 'DeepakK38476192': 1, 'SatyamCards': 1, 'rachitvora81': 1, 'more_orji': 1, 'DeepakSharma_': 1, 'Chandan99728474': 1, 'LivNest': 1, 'dineshdh_hegde': 1, 'RajanSi52072059': 1, 'anish_sapre': 1, 'Ashwin_Adi': 1, 'satodia': 1, 'capital_cow': 1, 'hussain_c_0512': 1, 'Aadi97251885': 1, 'rehankazi10': 1, 'sunil_e_patil': 1, 'MadhavBadade': 1, 'AmolKol24900101': 1, 'JagritShiksha': 1}\n"
          ],
          "name": "stdout"
        }
      ]
    },
    {
      "cell_type": "code",
      "metadata": {
        "id": "C2StZoqE904S",
        "colab_type": "code",
        "colab": {
          "base_uri": "https://localhost:8080/",
          "height": 70
        },
        "outputId": "85f49df9-e0da-49bc-b9de-4eaa77ae8202"
      },
      "source": [
        "users5=open(DATA_PATH+'/qualified201to491.pickle','rb')\n",
        "dict2=pickle.load(users5)\n",
        "users5.close()\n",
        "print(len(dict2))\n",
        "print(dict2)\n"
      ],
      "execution_count": 115,
      "outputs": [
        {
          "output_type": "stream",
          "text": [
            "122\n",
            "{'dudec856': 3, 'DeepikaBhardwaj': 131, 'grace_thane': 2, 'SRamachandani': 2, 'RustomjeeSpaces': 11, 'ambimgp': 12, 'rajashrio': 1, 'Thomas_Seq': 4, 'ParliamentWSea': 1, 'sharon12_22': 2, 'Deltasquare1': 1, 'neelesh_korade': 10, 'LocalPressCo': 203, 'SadikPatel07': 25, 'amoljvm': 5, 'ShreedhaG': 1, 'MamuraCo': 45, 'RupaliS56622876': 4, 'NilFrando': 9, 'ameyamhatre': 7, 'propinn': 4, 'MeetModi1': 39, 'DVBhanushaliRe1': 6, 'NMHreality': 13, 'politicalnaveen': 34, 'dawre_sachin': 10, 'ChitnisNobin': 3, 'Anna_M_Thane': 28, 'p_viren': 3, 'ajitwrites': 51, 'AnuragJagia': 4, 'vivekanandg': 52, 'KonarkSolitaire': 2, 'gauravmukadam': 1, 'QCIndependent': 12, 'ronny_williams': 51, 'vijaysi50745501': 5, 'basis12886': 2, 'gharcool': 1, 'rohitg1181': 23, 'DsouzaMerry': 3, 'atharvasandy': 1, 'tweetsvirat': 30, 'ChandniMerwani': 1, 'AarefaJohari': 3, 'ChinmayPatnaik': 11, 'shikhadesai1990': 9, 'DhirajIngole': 1, 'propimumbai': 127, 'rubble1973': 7, 'NehaSin49196696': 22, 'hodlurg': 13, 'saura_21': 7, 'Advertisemant1': 1, 'Ricky_twits': 2, 'eragas': 4, 'PropToq': 124, 'badera_vivek': 4, 'MurtiShree': 2, 'aksarode': 1, 'ashishbir77': 14, 'funkyskj': 3, 'RLSMumbai': 1, 'aniljayapujita': 1, 'niksglobal': 4, 'JaySShah19': 7, 'beachhasaliens': 198, 'GharJunction': 17, 'Fahad09036255': 1, 'PiramalMuseum': 11, 'HiraliF': 5, '6amitjain': 1, 'DevendraDate1': 1, '123aviraj': 9, 'BenWaren': 9, 'ElevatorWorld': 17, 'PHMPL': 13, 'additya20': 1, 'uchiha_buzz': 7, 'mrsubramani': 143, 'vpriyadarsh': 1, 'KapilYash2': 3, 'SeekerProfit': 8, 'liyer': 20, 'VikramLad': 2, 'prakash7dec': 4, 'meetdheeraj': 30, 'DedhShaana': 1, 'aditya_twister': 68, 'poosoul': 3, 'Sneh4pals': 1, 'commonm05516922': 5, 'Rohitsh29731902': 350, 'jackaltventures': 1, 'Bhabtosh2': 27, 'Arunrythmdivine': 106, 'SushilJ69116654': 2, 'DeepakK38476192': 1, 'Mumbaikhabar9': 241, 'IPCpune': 2, 'ajmeria': 4, 'DDSez': 93, 'lindasm60841466': 5, 'PublicInteres18': 2, 'Christi77413202': 2, 'OutlookMoney': 3, 'SatyamCards': 1, 'BhattAmbika': 3, 'thanesarkar1': 2, 'GeneralZPatton': 4, 'suniljparekh': 5, 'ember_thane': 29, 'dabrai_sushil': 11, 'shrikant_jangam': 2, 'RunwalOfficial': 17, 'DikshaBhoomi': 24, 'RunwalDev': 3, 'ashishkrujuta1': 3, 'prfeedin': 70, 'BrijHindustani': 19, 'ieMilind': 164, 'rachitvora81': 1}\n"
          ],
          "name": "stdout"
        }
      ]
    },
    {
      "cell_type": "code",
      "metadata": {
        "id": "Xg5QUn-p7Jqn",
        "colab_type": "code",
        "outputId": "3e8889d6-64e7-4943-b53e-8c31d593969c",
        "colab": {
          "base_uri": "https://localhost:8080/",
          "height": 70
        }
      },
      "source": [
        "def Merge(dict1, dict2): \n",
        "\treturn(dict2.update(dict1)) \n",
        "Merge(dict1, dict2) \n",
        "print(len(dict2)) \n",
        "print(dict2) \n",
        "\n"
      ],
      "execution_count": 116,
      "outputs": [
        {
          "output_type": "stream",
          "text": [
            "205\n",
            "{'dudec856': 3, 'DeepikaBhardwaj': 131, 'grace_thane': 2, 'SRamachandani': 2, 'RustomjeeSpaces': 11, 'ambimgp': 12, 'rajashrio': 1, 'Thomas_Seq': 4, 'ParliamentWSea': 1, 'sharon12_22': 2, 'Deltasquare1': 1, 'neelesh_korade': 10, 'LocalPressCo': 203, 'SadikPatel07': 25, 'amoljvm': 5, 'ShreedhaG': 1, 'MamuraCo': 45, 'RupaliS56622876': 4, 'NilFrando': 9, 'ameyamhatre': 7, 'propinn': 4, 'MeetModi1': 39, 'DVBhanushaliRe1': 6, 'NMHreality': 13, 'politicalnaveen': 34, 'dawre_sachin': 10, 'ChitnisNobin': 3, 'Anna_M_Thane': 28, 'p_viren': 3, 'ajitwrites': 51, 'AnuragJagia': 4, 'vivekanandg': 52, 'KonarkSolitaire': 2, 'gauravmukadam': 1, 'QCIndependent': 12, 'ronny_williams': 51, 'vijaysi50745501': 5, 'basis12886': 2, 'gharcool': 1, 'rohitg1181': 23, 'DsouzaMerry': 3, 'atharvasandy': 1, 'tweetsvirat': 30, 'ChandniMerwani': 1, 'AarefaJohari': 3, 'ChinmayPatnaik': 11, 'shikhadesai1990': 9, 'DhirajIngole': 1, 'propimumbai': 127, 'rubble1973': 7, 'NehaSin49196696': 22, 'hodlurg': 13, 'saura_21': 7, 'Advertisemant1': 1, 'Ricky_twits': 2, 'eragas': 4, 'PropToq': 124, 'badera_vivek': 4, 'MurtiShree': 2, 'aksarode': 1, 'ashishbir77': 14, 'funkyskj': 3, 'RLSMumbai': 1, 'aniljayapujita': 1, 'niksglobal': 4, 'JaySShah19': 7, 'beachhasaliens': 198, 'GharJunction': 17, 'Fahad09036255': 1, 'PiramalMuseum': 11, 'HiraliF': 5, '6amitjain': 1, 'DevendraDate1': 1, '123aviraj': 9, 'BenWaren': 9, 'ElevatorWorld': 17, 'PHMPL': 13, 'additya20': 1, 'uchiha_buzz': 7, 'mrsubramani': 143, 'vpriyadarsh': 1, 'KapilYash2': 3, 'SeekerProfit': 8, 'liyer': 20, 'VikramLad': 2, 'prakash7dec': 4, 'meetdheeraj': 30, 'DedhShaana': 1, 'aditya_twister': 68, 'poosoul': 3, 'Sneh4pals': 1, 'commonm05516922': 5, 'Rohitsh29731902': 350, 'jackaltventures': 1, 'Bhabtosh2': 27, 'Arunrythmdivine': 106, 'SushilJ69116654': 2, 'DeepakK38476192': 1, 'Mumbaikhabar9': 241, 'IPCpune': 2, 'ajmeria': 4, 'DDSez': 93, 'lindasm60841466': 5, 'PublicInteres18': 2, 'Christi77413202': 2, 'OutlookMoney': 3, 'SatyamCards': 1, 'BhattAmbika': 3, 'thanesarkar1': 2, 'GeneralZPatton': 4, 'suniljparekh': 5, 'ember_thane': 29, 'dabrai_sushil': 11, 'shrikant_jangam': 2, 'RunwalOfficial': 17, 'DikshaBhoomi': 24, 'RunwalDev': 3, 'ashishkrujuta1': 3, 'prfeedin': 70, 'BrijHindustani': 19, 'ieMilind': 164, 'rachitvora81': 1, 'RaviSharma210': 72, 'SyouG': 10, 'gopigupt': 2, 'vinitas73694437': 5, 'yashlovesu86': 6, 'chickyrax': 5, 'fairoriana': 4, 'JahnviPanchal': 41, 'SaurabhMerh': 26, 'KonnectHR': 3, 'more_orji': 1, 'SSanyal': 8, 'MayurNaharOffcl': 8, 'thisisrammishra': 6, 'Vakil_shohaib_M': 4, 'thaneliving': 7, 'ninadrane007': 2, 'YazdJBilimoria': 101, 'DeepakSharma_': 1, 'Chandan99728474': 1, 'mrmishra_007': 13, 'LivNest': 1, 'rocket_soup': 32, 'pankazzzz': 6, 'Fact_Check19': 2, 'Online5Pinky': 4, 'dailyvruttmitra': 191, 'dineshdh_hegde': 1, 'RajanSi52072059': 1, 'DharmendraDYad1': 4, 'JoshuaMischke': 20, 'TheWeaversThane': 7, 'AditiYagnikCNBC': 57, 'anish_sapre': 1, 'elitelandbase': 20, 'rassawatti': 3, 'NayyarSanjeev': 80, 'careacter': 6, 'JAGAHA_CRE': 75, 'boogerworm': 46, 'MakaanSmart': 11, 'FaNearMe': 25, 'ashuleo3': 26, 'Ashwin_Adi': 1, 'adspostinghere': 52, 'krdpravin': 37, 'TOINaviMumbai': 31, 'satodia': 1, 'hopegovind': 5, 'Mangesh95459869': 5, 'prabhakar1989pd': 2, 'thewalkthane': 4, 'tamu20': 3, 'capital_cow': 1, 'lejagah': 16, 'sid_dwar': 3, 'raj_ind76': 16, 'hussain_c_0512': 1, 'Meenachandren': 9, 'mumbaimatterz': 381, 'quidtask': 70, 'JoganiMUFC': 30, 'Aadi97251885': 1, '_raja': 48, 'charlot04310463': 5, 'Balan_salem': 2, 'SANDEEPSAXENA36': 6, 'rehankazi10': 1, 'powerofmouse': 17, 'DivineOmi': 2, 'sunil_e_patil': 1, 'kdinesh8221': 5, 'SoniaKapoor25': 2, 'MadhavBadade': 1, 'AmolKol24900101': 1, 'Michelephohl': 7, 'JagritShiksha': 1, 'Bhargavdesai84': 17, 'SurakshaAnd': 12, 'AdvDeepakMore1': 4, 'siyasharma_1992': 3, 'espnjohnsy': 9, 'Sach_in71': 2}\n"
          ],
          "name": "stdout"
        }
      ]
    },
    {
      "cell_type": "code",
      "metadata": {
        "id": "7womY8dZ_dKd",
        "colab_type": "code",
        "outputId": "9881aeeb-b559-46e3-b841-8aec943ba1be",
        "colab": {
          "base_uri": "https://localhost:8080/",
          "height": 54
        }
      },
      "source": [
        "desc={k: v for k, v in sorted(dict2.items(), key=lambda item: item[1],reverse=True)}\n",
        "print(desc)"
      ],
      "execution_count": 117,
      "outputs": [
        {
          "output_type": "stream",
          "text": [
            "{'mumbaimatterz': 381, 'Rohitsh29731902': 350, 'Mumbaikhabar9': 241, 'LocalPressCo': 203, 'beachhasaliens': 198, 'dailyvruttmitra': 191, 'ieMilind': 164, 'mrsubramani': 143, 'DeepikaBhardwaj': 131, 'propimumbai': 127, 'PropToq': 124, 'Arunrythmdivine': 106, 'YazdJBilimoria': 101, 'DDSez': 93, 'NayyarSanjeev': 80, 'JAGAHA_CRE': 75, 'RaviSharma210': 72, 'prfeedin': 70, 'quidtask': 70, 'aditya_twister': 68, 'AditiYagnikCNBC': 57, 'vivekanandg': 52, 'adspostinghere': 52, 'ajitwrites': 51, 'ronny_williams': 51, '_raja': 48, 'boogerworm': 46, 'MamuraCo': 45, 'JahnviPanchal': 41, 'MeetModi1': 39, 'krdpravin': 37, 'politicalnaveen': 34, 'rocket_soup': 32, 'TOINaviMumbai': 31, 'tweetsvirat': 30, 'meetdheeraj': 30, 'JoganiMUFC': 30, 'ember_thane': 29, 'Anna_M_Thane': 28, 'Bhabtosh2': 27, 'SaurabhMerh': 26, 'ashuleo3': 26, 'SadikPatel07': 25, 'FaNearMe': 25, 'DikshaBhoomi': 24, 'rohitg1181': 23, 'NehaSin49196696': 22, 'liyer': 20, 'JoshuaMischke': 20, 'elitelandbase': 20, 'BrijHindustani': 19, 'GharJunction': 17, 'ElevatorWorld': 17, 'RunwalOfficial': 17, 'powerofmouse': 17, 'Bhargavdesai84': 17, 'lejagah': 16, 'raj_ind76': 16, 'ashishbir77': 14, 'NMHreality': 13, 'hodlurg': 13, 'PHMPL': 13, 'mrmishra_007': 13, 'ambimgp': 12, 'QCIndependent': 12, 'SurakshaAnd': 12, 'RustomjeeSpaces': 11, 'ChinmayPatnaik': 11, 'PiramalMuseum': 11, 'dabrai_sushil': 11, 'MakaanSmart': 11, 'neelesh_korade': 10, 'dawre_sachin': 10, 'SyouG': 10, 'NilFrando': 9, 'shikhadesai1990': 9, '123aviraj': 9, 'BenWaren': 9, 'Meenachandren': 9, 'espnjohnsy': 9, 'SeekerProfit': 8, 'SSanyal': 8, 'MayurNaharOffcl': 8, 'ameyamhatre': 7, 'rubble1973': 7, 'saura_21': 7, 'JaySShah19': 7, 'uchiha_buzz': 7, 'thaneliving': 7, 'TheWeaversThane': 7, 'Michelephohl': 7, 'DVBhanushaliRe1': 6, 'yashlovesu86': 6, 'thisisrammishra': 6, 'pankazzzz': 6, 'careacter': 6, 'SANDEEPSAXENA36': 6, 'amoljvm': 5, 'vijaysi50745501': 5, 'HiraliF': 5, 'commonm05516922': 5, 'lindasm60841466': 5, 'suniljparekh': 5, 'vinitas73694437': 5, 'chickyrax': 5, 'hopegovind': 5, 'Mangesh95459869': 5, 'charlot04310463': 5, 'kdinesh8221': 5, 'Thomas_Seq': 4, 'RupaliS56622876': 4, 'propinn': 4, 'AnuragJagia': 4, 'eragas': 4, 'badera_vivek': 4, 'niksglobal': 4, 'prakash7dec': 4, 'ajmeria': 4, 'GeneralZPatton': 4, 'fairoriana': 4, 'Vakil_shohaib_M': 4, 'Online5Pinky': 4, 'DharmendraDYad1': 4, 'thewalkthane': 4, 'AdvDeepakMore1': 4, 'dudec856': 3, 'ChitnisNobin': 3, 'p_viren': 3, 'DsouzaMerry': 3, 'AarefaJohari': 3, 'funkyskj': 3, 'KapilYash2': 3, 'poosoul': 3, 'OutlookMoney': 3, 'BhattAmbika': 3, 'RunwalDev': 3, 'ashishkrujuta1': 3, 'KonnectHR': 3, 'rassawatti': 3, 'tamu20': 3, 'sid_dwar': 3, 'siyasharma_1992': 3, 'grace_thane': 2, 'SRamachandani': 2, 'sharon12_22': 2, 'KonarkSolitaire': 2, 'basis12886': 2, 'Ricky_twits': 2, 'MurtiShree': 2, 'VikramLad': 2, 'SushilJ69116654': 2, 'IPCpune': 2, 'PublicInteres18': 2, 'Christi77413202': 2, 'thanesarkar1': 2, 'shrikant_jangam': 2, 'gopigupt': 2, 'ninadrane007': 2, 'Fact_Check19': 2, 'prabhakar1989pd': 2, 'Balan_salem': 2, 'DivineOmi': 2, 'SoniaKapoor25': 2, 'Sach_in71': 2, 'rajashrio': 1, 'ParliamentWSea': 1, 'Deltasquare1': 1, 'ShreedhaG': 1, 'gauravmukadam': 1, 'gharcool': 1, 'atharvasandy': 1, 'ChandniMerwani': 1, 'DhirajIngole': 1, 'Advertisemant1': 1, 'aksarode': 1, 'RLSMumbai': 1, 'aniljayapujita': 1, 'Fahad09036255': 1, '6amitjain': 1, 'DevendraDate1': 1, 'additya20': 1, 'vpriyadarsh': 1, 'DedhShaana': 1, 'Sneh4pals': 1, 'jackaltventures': 1, 'DeepakK38476192': 1, 'SatyamCards': 1, 'rachitvora81': 1, 'more_orji': 1, 'DeepakSharma_': 1, 'Chandan99728474': 1, 'LivNest': 1, 'dineshdh_hegde': 1, 'RajanSi52072059': 1, 'anish_sapre': 1, 'Ashwin_Adi': 1, 'satodia': 1, 'capital_cow': 1, 'hussain_c_0512': 1, 'Aadi97251885': 1, 'rehankazi10': 1, 'sunil_e_patil': 1, 'MadhavBadade': 1, 'AmolKol24900101': 1, 'JagritShiksha': 1}\n"
          ],
          "name": "stdout"
        }
      ]
    },
    {
      "cell_type": "code",
      "metadata": {
        "id": "GJVZypFjACCl",
        "colab_type": "code",
        "colab": {}
      },
      "source": [
        "for k,v in desc.items():\n",
        "  print(k.lower())"
      ],
      "execution_count": 0,
      "outputs": []
    },
    {
      "cell_type": "code",
      "metadata": {
        "id": "ZSQm6qfNEcP3",
        "colab_type": "code",
        "colab": {
          "base_uri": "https://localhost:8080/",
          "height": 70
        },
        "outputId": "77d650c8-0e22-4621-9f27-319a5e5552ae"
      },
      "source": [
        "no=['decor','realt','digi','acre','resid','stock','group','article','project','commerc','brick','india','guru','new','market', \\\n",
        "    'enterp','vastu','astro','estate','mall','hous','Thane','sky','room','home','flat','design','interior','furniture','trend', \\\n",
        "    'pack','build','work','propert','vastu','gym','loan','luxury','bloomberg','business','direct','time',\\\n",
        "    'revenue','day','bank','agen','job','minis','corpo','tech', \\\n",
        "    'boss','nation','associat','develop','broth','invest','people','dna','media','break','bombay','mumbai','thane','lodha','hiranandani','world','estate','logis','team', \\\n",
        "    'consul','connec','school','tour','finan','asia','multi','apart','hospi','floor','repor','fashion','exhibition','trip','classif','wall','football','cricket',\\\n",
        "    'welfare','history','income','shop','global','hotel','restaurant','office','environ','proje','wood','rent','deal','sale','press','craig']\n",
        "from copy import deepcopy\n",
        "desc1=deepcopy(desc)\n",
        "k=0\n",
        "jo=['wood']\n",
        "for i,j in desc1.items():\n",
        "    if any(word in i.lower() for word in no) == True:\n",
        "        # print(i)\n",
        "        del desc[i]\n",
        "        # print(k)\n",
        "print(len(desc))\n",
        "print(desc)\n",
        "\n",
        "\n"
      ],
      "execution_count": 118,
      "outputs": [
        {
          "output_type": "stream",
          "text": [
            "189\n",
            "{'Rohitsh29731902': 350, 'beachhasaliens': 198, 'dailyvruttmitra': 191, 'ieMilind': 164, 'mrsubramani': 143, 'DeepikaBhardwaj': 131, 'PropToq': 124, 'Arunrythmdivine': 106, 'YazdJBilimoria': 101, 'DDSez': 93, 'NayyarSanjeev': 80, 'JAGAHA_CRE': 75, 'RaviSharma210': 72, 'prfeedin': 70, 'quidtask': 70, 'aditya_twister': 68, 'AditiYagnikCNBC': 57, 'vivekanandg': 52, 'adspostinghere': 52, 'ajitwrites': 51, 'ronny_williams': 51, '_raja': 48, 'boogerworm': 46, 'MamuraCo': 45, 'JahnviPanchal': 41, 'MeetModi1': 39, 'krdpravin': 37, 'politicalnaveen': 34, 'rocket_soup': 32, 'tweetsvirat': 30, 'meetdheeraj': 30, 'JoganiMUFC': 30, 'Bhabtosh2': 27, 'SaurabhMerh': 26, 'ashuleo3': 26, 'SadikPatel07': 25, 'FaNearMe': 25, 'DikshaBhoomi': 24, 'rohitg1181': 23, 'NehaSin49196696': 22, 'liyer': 20, 'JoshuaMischke': 20, 'elitelandbase': 20, 'BrijHindustani': 19, 'GharJunction': 17, 'RunwalOfficial': 17, 'powerofmouse': 17, 'Bhargavdesai84': 17, 'lejagah': 16, 'raj_ind76': 16, 'ashishbir77': 14, 'NMHreality': 13, 'hodlurg': 13, 'PHMPL': 13, 'mrmishra_007': 13, 'ambimgp': 12, 'QCIndependent': 12, 'SurakshaAnd': 12, 'RustomjeeSpaces': 11, 'ChinmayPatnaik': 11, 'PiramalMuseum': 11, 'dabrai_sushil': 11, 'MakaanSmart': 11, 'neelesh_korade': 10, 'dawre_sachin': 10, 'SyouG': 10, 'NilFrando': 9, 'shikhadesai1990': 9, '123aviraj': 9, 'BenWaren': 9, 'Meenachandren': 9, 'espnjohnsy': 9, 'SeekerProfit': 8, 'SSanyal': 8, 'MayurNaharOffcl': 8, 'ameyamhatre': 7, 'rubble1973': 7, 'saura_21': 7, 'JaySShah19': 7, 'uchiha_buzz': 7, 'Michelephohl': 7, 'DVBhanushaliRe1': 6, 'yashlovesu86': 6, 'thisisrammishra': 6, 'pankazzzz': 6, 'careacter': 6, 'SANDEEPSAXENA36': 6, 'amoljvm': 5, 'vijaysi50745501': 5, 'HiraliF': 5, 'commonm05516922': 5, 'lindasm60841466': 5, 'suniljparekh': 5, 'vinitas73694437': 5, 'chickyrax': 5, 'hopegovind': 5, 'Mangesh95459869': 5, 'charlot04310463': 5, 'kdinesh8221': 5, 'Thomas_Seq': 4, 'RupaliS56622876': 4, 'propinn': 4, 'AnuragJagia': 4, 'eragas': 4, 'badera_vivek': 4, 'prakash7dec': 4, 'ajmeria': 4, 'GeneralZPatton': 4, 'fairoriana': 4, 'Vakil_shohaib_M': 4, 'Online5Pinky': 4, 'DharmendraDYad1': 4, 'AdvDeepakMore1': 4, 'dudec856': 3, 'ChitnisNobin': 3, 'p_viren': 3, 'DsouzaMerry': 3, 'AarefaJohari': 3, 'funkyskj': 3, 'KapilYash2': 3, 'poosoul': 3, 'OutlookMoney': 3, 'BhattAmbika': 3, 'RunwalDev': 3, 'ashishkrujuta1': 3, 'KonnectHR': 3, 'rassawatti': 3, 'tamu20': 3, 'sid_dwar': 3, 'siyasharma_1992': 3, 'SRamachandani': 2, 'sharon12_22': 2, 'KonarkSolitaire': 2, 'basis12886': 2, 'Ricky_twits': 2, 'MurtiShree': 2, 'VikramLad': 2, 'SushilJ69116654': 2, 'IPCpune': 2, 'PublicInteres18': 2, 'Christi77413202': 2, 'shrikant_jangam': 2, 'gopigupt': 2, 'ninadrane007': 2, 'Fact_Check19': 2, 'prabhakar1989pd': 2, 'DivineOmi': 2, 'SoniaKapoor25': 2, 'Sach_in71': 2, 'rajashrio': 1, 'ParliamentWSea': 1, 'Deltasquare1': 1, 'ShreedhaG': 1, 'gauravmukadam': 1, 'gharcool': 1, 'atharvasandy': 1, 'ChandniMerwani': 1, 'DhirajIngole': 1, 'Advertisemant1': 1, 'aksarode': 1, 'aniljayapujita': 1, 'Fahad09036255': 1, '6amitjain': 1, 'DevendraDate1': 1, 'additya20': 1, 'vpriyadarsh': 1, 'DedhShaana': 1, 'Sneh4pals': 1, 'jackaltventures': 1, 'DeepakK38476192': 1, 'SatyamCards': 1, 'rachitvora81': 1, 'more_orji': 1, 'DeepakSharma_': 1, 'Chandan99728474': 1, 'LivNest': 1, 'dineshdh_hegde': 1, 'RajanSi52072059': 1, 'anish_sapre': 1, 'Ashwin_Adi': 1, 'satodia': 1, 'capital_cow': 1, 'hussain_c_0512': 1, 'Aadi97251885': 1, 'rehankazi10': 1, 'sunil_e_patil': 1, 'MadhavBadade': 1, 'AmolKol24900101': 1, 'JagritShiksha': 1}\n"
          ],
          "name": "stdout"
        }
      ]
    },
    {
      "cell_type": "code",
      "metadata": {
        "id": "pMqdbiY9Odum",
        "colab_type": "code",
        "colab": {}
      },
      "source": [
        "del desc['OniSing']"
      ],
      "execution_count": 0,
      "outputs": []
    },
    {
      "cell_type": "code",
      "metadata": {
        "id": "hk-AoDM2OQlO",
        "colab_type": "code",
        "colab": {}
      },
      "source": [
        "users5=open(DATA_PATH+'/activefull.pickle','wb')\n",
        "real_tweets4=pickle.dump(desc,users5)\n",
        "users5.close()\n"
      ],
      "execution_count": 0,
      "outputs": []
    },
    {
      "cell_type": "code",
      "metadata": {
        "id": "SSGvtvvcHJsE",
        "colab_type": "code",
        "colab": {
          "base_uri": "https://localhost:8080/",
          "height": 538
        },
        "outputId": "51ef5d12-ee89-43ac-d4f9-b66bd73ab28e"
      },
      "source": [
        "\n",
        "u=0\n",
        "for k,v in desc.items():\n",
        "  if u<=30:\n",
        "    u=u+1\n",
        "    print(k)\n"
      ],
      "execution_count": 91,
      "outputs": [
        {
          "output_type": "stream",
          "text": [
            "alisonmccaffer2\n",
            "MoodyBlx\n",
            "OniSing\n",
            "HobanGirl\n",
            "mmharjani633\n",
            "MylesDGooding\n",
            "IAMLIAMROBERTS\n",
            "namanas\n",
            "lawyerhakim\n",
            "KishoreVaid\n",
            "chai2kul\n",
            "Jabalpursafety\n",
            "am_i_anup\n",
            "rigattieredada\n",
            "amarbheenick\n",
            "KetPan\n",
            "Mj180Shiva\n",
            "Sporty_Baba\n",
            "odmag\n",
            "manojgjha\n",
            "mamarahimsalim\n",
            "beachhasaliens\n",
            "rituparnasarm10\n",
            "RuchikaJain89\n",
            "maakaachar\n",
            "AruSharmaTweets\n",
            "CitizenKamran\n",
            "HimjaParekh\n",
            "ishwarsha27\n",
            "Halfthree\n",
            "health_z_wealth\n"
          ],
          "name": "stdout"
        }
      ]
    }
  ]
}