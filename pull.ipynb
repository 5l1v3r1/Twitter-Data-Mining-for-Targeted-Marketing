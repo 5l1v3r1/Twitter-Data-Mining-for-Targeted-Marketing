{
  "nbformat": 4,
  "nbformat_minor": 0,
  "metadata": {
    "colab": {
      "name": "pull.ipynb",
      "provenance": [],
      "authorship_tag": "ABX9TyNue+lSjQs6I8aPVY+KW6xG",
      "include_colab_link": true
    },
    "kernelspec": {
      "name": "python3",
      "display_name": "Python 3"
    },
    "accelerator": "TPU"
  },
  "cells": [
    {
      "cell_type": "markdown",
      "metadata": {
        "id": "view-in-github",
        "colab_type": "text"
      },
      "source": [
        "<a href=\"https://colab.research.google.com/github/VirtualGoat/Twitter-Data-Mining/blob/master/pull.ipynb\" target=\"_parent\"><img src=\"https://colab.research.google.com/assets/colab-badge.svg\" alt=\"Open In Colab\"/></a>"
      ]
    },
    {
      "cell_type": "code",
      "metadata": {
        "id": "M7rAaTYnjZX2",
        "colab_type": "code",
        "outputId": "9275021a-b06d-4166-a452-6bb3d1551ca7",
        "colab": {
          "base_uri": "https://localhost:8080/",
          "height": 203
        }
      },
      "source": [
        "!pip install GetOldTweets3"
      ],
      "execution_count": 1,
      "outputs": [
        {
          "output_type": "stream",
          "text": [
            "Collecting GetOldTweets3\n",
            "  Downloading https://files.pythonhosted.org/packages/ed/f4/a00c2a7c90801abc875325bb5416ce9090ac86d06a00cc887131bd73ba45/GetOldTweets3-0.0.11-py3-none-any.whl\n",
            "Collecting pyquery>=1.2.10\n",
            "  Downloading https://files.pythonhosted.org/packages/78/43/95d42e386c61cb639d1a0b94f0c0b9f0b7d6b981ad3c043a836c8b5bc68b/pyquery-1.4.1-py2.py3-none-any.whl\n",
            "Requirement already satisfied: lxml>=3.5.0 in /usr/local/lib/python3.6/dist-packages (from GetOldTweets3) (4.2.6)\n",
            "Collecting cssselect>0.7.9\n",
            "  Downloading https://files.pythonhosted.org/packages/3b/d4/3b5c17f00cce85b9a1e6f91096e1cc8e8ede2e1be8e96b87ce1ed09e92c5/cssselect-1.1.0-py2.py3-none-any.whl\n",
            "Installing collected packages: cssselect, pyquery, GetOldTweets3\n",
            "Successfully installed GetOldTweets3-0.0.11 cssselect-1.1.0 pyquery-1.4.1\n"
          ],
          "name": "stdout"
        }
      ]
    },
    {
      "cell_type": "code",
      "metadata": {
        "id": "UFy5Uq10j2CD",
        "colab_type": "code",
        "outputId": "1163d90f-e990-4009-ad6d-902d459ce576",
        "colab": {
          "base_uri": "https://localhost:8080/",
          "height": 35
        }
      },
      "source": [
        "import GetOldTweets3\n",
        "from google.colab import drive\n",
        "import pickle\n",
        "import GetOldTweets3 as got\n",
        "drive.mount('/content/drive')\n",
        "DATA_PATH = \"/content/drive/My Drive/Colab Notebooks/Internship/Tweet Data/New/Thane\"\n"
      ],
      "execution_count": 133,
      "outputs": [
        {
          "output_type": "stream",
          "text": [
            "Drive already mounted at /content/drive; to attempt to forcibly remount, call drive.mount(\"/content/drive\", force_remount=True).\n"
          ],
          "name": "stdout"
        }
      ]
    },
    {
      "cell_type": "code",
      "metadata": {
        "id": "Kb44sArZkVbD",
        "colab_type": "code",
        "outputId": "aaa9f19f-e6ae-4485-d7f2-57d333a30afb",
        "colab": {
          "base_uri": "https://localhost:8080/",
          "height": 35
        }
      },
      "source": [
        "tweetCriteria = got.manager.TweetCriteria().setQuerySearch('(buying New Bombay flat) OR (buying New Bombay property) OR (buying New Bombay real estate) OR (purchasing New Bombay flat) OR (purchasing New Bombay property) OR (purchasing real estate New Bombay) OR (buy New Bombay flat) OR (buy New Bombay property) OR (buy New Bombay real estate) OR (purchase New Bombay flat) OR (purchase New Bombay property)')\\\n",
        "                                           .setSince(\"2019-01-01\")\\\n",
        "                                           .setUntil(\"2020-03-01\")\n",
        "tweet = got.manager.TweetManager.getTweets(tweetCriteria)\n",
        "print(len(tweet))"
      ],
      "execution_count": 64,
      "outputs": [
        {
          "output_type": "stream",
          "text": [
            "3\n"
          ],
          "name": "stdout"
        }
      ]
    },
    {
      "cell_type": "code",
      "metadata": {
        "id": "NTJXBeMS3ycV",
        "colab_type": "code",
        "outputId": "55d0155e-c7d7-45c2-c27d-2cbfdc115942",
        "colab": {
          "base_uri": "https://localhost:8080/",
          "height": 35
        }
      },
      "source": [
        "tweetCriteria = got.manager.TweetCriteria().setQuerySearch('(sell home New Bombay) OR (sell property New Bombay) OR (sell house New Bombay) OR (sell flat New Bombay) OR (interior designer New Bombay) OR (house for sale New Bombay) OR (flat for sale New Bombay) OR (home appliance New Bombay) OR (vastu New Bombay) OR (home decorator New Bombay)')\\\n",
        "                                           .setSince(\"2019-01-01\")\\\n",
        "                                           .setUntil(\"2020-03-01\")\n",
        "tweet1 = got.manager.TweetManager.getTweets(tweetCriteria)\n",
        "print(len(tweet1))"
      ],
      "execution_count": 65,
      "outputs": [
        {
          "output_type": "stream",
          "text": [
            "3\n"
          ],
          "name": "stdout"
        }
      ]
    },
    {
      "cell_type": "code",
      "metadata": {
        "id": "KIupGzjK35od",
        "colab_type": "code",
        "outputId": "2ce85e19-3831-458c-90d7-58d9f3af7363",
        "colab": {
          "base_uri": "https://localhost:8080/",
          "height": 35
        }
      },
      "source": [
        "tweetCriteria = got.manager.TweetCriteria().setQuerySearch('(interior decorator New Bombay) OR (ac purchase New Bombay) OR (tv purchase New Bombay) OR (99acres New Bombay) OR (housing.com New Bombay) OR (magicbricks New Bombay) OR (nobroker New Bombay) OR (luxury homes New Bombay) OR (modern homes New Bombay) OR (spacious homes New Bombay) OR (clubhouse facilit New Bombay)')\\\n",
        "                                           .setSince(\"2019-01-01\")\\\n",
        "                                           .setUntil(\"2020-03-01\")\n",
        "tweet2 = got.manager.TweetManager.getTweets(tweetCriteria)\n",
        "print(len(tweet2))"
      ],
      "execution_count": 55,
      "outputs": [
        {
          "output_type": "stream",
          "text": [
            "19\n"
          ],
          "name": "stdout"
        }
      ]
    },
    {
      "cell_type": "code",
      "metadata": {
        "id": "hyKUhN8E4WUl",
        "colab_type": "code",
        "outputId": "6f139487-90c4-41c7-b171-c12eecf365d7",
        "colab": {
          "base_uri": "https://localhost:8080/",
          "height": 35
        }
      },
      "source": [
        "tweetCriteria = got.manager.TweetCriteria().setQuerySearch('(1 BHK in New Bombay) OR (2 BHK in New Bombay) OR (3 BHK in New Bombay) OR (New Bombay Residency)')\\\n",
        "                                           .setSince(\"2019-01-01\")\\\n",
        "                                           .setUntil(\"2020-03-01\")\n",
        "tweet3 = got.manager.TweetManager.getTweets(tweetCriteria)\n",
        "print(len(tweet3))"
      ],
      "execution_count": 60,
      "outputs": [
        {
          "output_type": "stream",
          "text": [
            "72\n"
          ],
          "name": "stdout"
        }
      ]
    },
    {
      "cell_type": "code",
      "metadata": {
        "id": "0tcjwKB75E7c",
        "colab_type": "code",
        "colab": {}
      },
      "source": [
        "slota=list()"
      ],
      "execution_count": 0,
      "outputs": []
    },
    {
      "cell_type": "code",
      "metadata": {
        "id": "x7aIxfkb4heA",
        "colab_type": "code",
        "outputId": "e1036bb1-5522-437d-f2de-d8036805da63",
        "colab": {
          "base_uri": "https://localhost:8080/",
          "height": 35
        }
      },
      "source": [
        "\n",
        "slota.extend(tweet3)\n",
        "print(len(slota))"
      ],
      "execution_count": 61,
      "outputs": [
        {
          "output_type": "stream",
          "text": [
            "789\n"
          ],
          "name": "stdout"
        }
      ]
    },
    {
      "cell_type": "code",
      "metadata": {
        "id": "pzHGqvUp_72m",
        "colab_type": "code",
        "colab": {
          "base_uri": "https://localhost:8080/",
          "height": 35
        },
        "outputId": "97924e3d-18d1-447f-b012-789b38741fd5"
      },
      "source": [
        "users4=open(DATA_PATH+'/slota.pickle','rb')\n",
        "users=pickle.load(users4)\n",
        "users4.close()\n",
        "print(len(users))"
      ],
      "execution_count": 149,
      "outputs": [
        {
          "output_type": "stream",
          "text": [
            "336\n"
          ],
          "name": "stdout"
        }
      ]
    },
    {
      "cell_type": "code",
      "metadata": {
        "id": "df_OZR7JAZC4",
        "colab_type": "code",
        "colab": {}
      },
      "source": [
        "gen=set()"
      ],
      "execution_count": 0,
      "outputs": []
    },
    {
      "cell_type": "code",
      "metadata": {
        "id": "CFB--XCaCG3R",
        "colab_type": "code",
        "colab": {
          "base_uri": "https://localhost:8080/",
          "height": 35
        },
        "outputId": "249e1456-53db-4be3-c241-0d5a43616686"
      },
      "source": [
        "\n",
        "print(len(gen))\n"
      ],
      "execution_count": 139,
      "outputs": [
        {
          "output_type": "stream",
          "text": [
            "187\n"
          ],
          "name": "stdout"
        }
      ]
    },
    {
      "cell_type": "code",
      "metadata": {
        "id": "FcXCzLbF4wto",
        "colab_type": "code",
        "colab": {
          "base_uri": "https://localhost:8080/",
          "height": 35
        },
        "outputId": "fddbb1c9-5be1-450b-9e13-36518ee51b8f"
      },
      "source": [
        "no=['decor','realt','digi','acre','resid','stock','group','article','project','commerc','brick','india','guru','new','market', \\\n",
        "    'enterp','vastu','astro','estate','mall','hous','Thane','sky','room','home','flat','design','interior','furniture','trend', \\\n",
        "    'pack','build','work','propert','vastu','gym','loan','luxury','bloomberg','business','direct','time',\\\n",
        "    'revenue','day','bank','agen','job','minis','corpo','tech', \\\n",
        "    'boss','nation','associat','developer','broth','invest','people','dna','media','break','New','lodha','hiranandani']\n",
        "\n",
        "for i in users:\n",
        "    if any(word in i.username.lower() for word in no) == False:\n",
        "        gen.add(i.username)\n",
        "print(len(gen))"
      ],
      "execution_count": 148,
      "outputs": [
        {
          "output_type": "stream",
          "text": [
            "492\n"
          ],
          "name": "stdout"
        }
      ]
    },
    {
      "cell_type": "code",
      "metadata": {
        "id": "Ilcy5H9zCW9Y",
        "colab_type": "code",
        "colab": {
          "base_uri": "https://localhost:8080/",
          "height": 55
        },
        "outputId": "f12b03ec-9412-4b39-efd4-2ac5adf3e922"
      },
      "source": [
        "print(gen)"
      ],
      "execution_count": 111,
      "outputs": [
        {
          "output_type": "stream",
          "text": [
            "{'JitendrPanwar', 'apanicke', 'DrSujit_IITB', 'SudIndus', 'MedicalBlogger', 'witstwits', 'ChanakyaNeeti77', 'Alcovestudio_in', 'plotankar499', 'zoinxy', 'sharadgump', 'neha_bobde', 'VinodVadher', 'nayaprop', 'Chinnuvinay1', 'farhanzaheer5', 'prakashperuvamb', 'tushar', 'hthmthane', 'srini_bala', 'amyrjones1990', 'jay2978ms', 'Jeevan_Desai29', 'bapnajignesh', 'recnitka', 'kathiyawadibapu', 'G_Kumar41', 'proptiger', 'MohmdAlly', 'mitsumechair', 'Me_Saleel', 'ninadrane007', 'shkavitash', 'FinanzLinksAsia', 'advanikanchan', 'bitcoinnormie', 'moneycontrolcom', 'Janki52307882', 'Somvanshi76', 'rabaqi', 'amolpawar10', 'MudPaintUSA', 'farbacktrading', 'expo_smart', 'SaritaTanwar', 'Ashish_shah72', 'deep22293', 'RustomjeeSpaces', 'beringorca', 'soundingline', 'shivankkansal', 'Ravindr06342678', 'GarlicChild10', 'im_jgautam', 'priyashmita', 'deepesh289', 'iVKapoor', 'SOHINI47247141', 'avnikapoor679', 'GaryHua65293629', 'ArjunR28932528', 'oceanof_joy', 'ajoydasgupta', 'kapil_vinayak_', 'prachia12605768', 'Hakicat', 'Aaprkehrd', 'NikhilAsthana', 'jethirajesh', 'thecpshah', 'LinaSCC', 'JRavichandran', 'S_M_MMB', 'flirtingshadows', 'Vijay_Kandhari', 'rohitdpandey', 'BangOnWrong', 'Shahana00655671', 'KapilYash2', 'sandunesmusic', 'OfficeAt_Mumbai', 'RealVinduSingh', 'KitchenBetter', 'muralipiyer', 'PrimaTerraBT', 'sachaniyay', 'VishalW21380324', 'rahulostwal', 'raymondgonsalv1', 'navinspy786', 'gouse7558', 'prachifying', 'SunitaG1962', 'KSBHospital', 'AshVerma111', 'zubinkapadia', 'Traluk', 'world_yash1', 'sunnyfernandes', 'Madan_R_Darade', 'Kvr_Chowdhary', 'SureshM29305322', 'amorosoarts', 'Lian_Suantak', 'GujaratHistory', 'pal_codes', 'satyapr04865459', 'bak_bak_mat_kar', 'PHMPL', 'alltalk', 'databaaz', 'TheMornStandard', 'dezeen', 'BhagwaanUvacha', 'Shehnaz17195806', 'bharatMeraki', 'arjunmodhwadia', 'nitinmd123', 'kspsraipur', 'JustMariner', 'aamirburney2', 'StuffaboutMpls', 'yogendralalwani', 'multiplymyleads', 'NATRAJSHETTY', 'azad_J_raunaq', 'KrishnaKathe', 'Shaheer1122', 'kidszonemumbai', 'santoshoak', 'channa_fc', 'Mumbaiactor1', 'NidhiSo66461749', 'nareshkbothra', 'HunnySh76686863', 'talentleads', 'i_am_asimkhan', 'ambimgp', 'Ravindr90865672', 'tomar_anamika', 'mrtjay0', 'GarimaRathi51', 'maru_pankaj', 'V_Anawalikar', 'WalaNitin', 'arifmunnaRaza2', 'chetanstructwel', 'Bright_Angles', '10antsRent', 'Pavan96150278', 'pnavadgi', 'tsurendar', 'vivekpandey564', 'b50', 'sportseskwkm', 'Domo_Danko21', 'ArvindV10040791', 'MouthShut', 'Dmkt1', 'parna71', 'sdsmumbai', 'tweets_sunil', 'shailesh505', 'rafik_lodhi', 'aparnajsharma', 'Adventinternat2', 'anasAhm98137246', 'amitspithadia', 'rajushekhar', 'tiwa_ro', 'FoodCupid', 'tweet4feeling', 'pkgurgaoninc', 'fortunemodular', 'LexiCrowley', 'jessikashah', 'JayashreeShet12', 'shivsdutta', 'TheAxiom1', 'JerrooB', 'Sheetukankariy1', 'Prashant_Kapoor', 'Dev__sun', 'RealitySunteck', 'rajeshp55', 'IAmTrillian', 'subjudiced', 'opusipuk', 'end_ead', 'iNehaBhambri', 'LittleKnown11', 'rahul85438855', 'b2btradefairs', 'morekirti786', 'vigneshsan', 'vipulsunny10', 'AshwinR94', 'toi_john_sarkar', 'apoorvc2005', 'alpesh287', 'prasadjt1', 'BrainandMoney', 'jeonkookieandme', 'harishmahto_', 'KushDesai591', 'wandering_monk', 'Kotianakshayy', 'SHARADBJOSHI2', 'Root036', 'ShridharMuscle', 'iamamitjangid', 'hansraj_somani', 'AtmospheraH', 'VisariaUmang', 'Jain_Bandana', 'shettyharish123', 'VoiceOfAxom', 'drmilan1984', 'craftatoz', 'coool_kashish', 'ViralChheda10', 'mickeysood', 'RjRasika1', 'DoRA_IITK', 'art_tty', 'Pavani_b', 'thekedar_sb', 'Velvetyvirgo', 'shirishindore', 'KriniLtd', 'Roaringbrains', 'taoprophet420', 'bulldogvalencia', 'Cashew28229331', 'priya_lakkol', 'Nicks103', 'SushmaStudio', 'ChugliBollywood', 'anaggh', 'VishKVarma', 'Namitishere', 'Equiideas09', 'Prashan01116203', 'Muskurahatein', 'Sukanta25031975', 'itzlahori', 'satish_fin', 'AyshaAziz5', 'dhyaanesh_7356', 'tridentenginee2', 'yellowtrace', 'HimjaParekh', 'SumanSh26624962', 'OniSing', 'KM7869', 'Tailwind3', 'sandeepananda', 'fuchkush', 'Only_PRAGATRI', 'isGezgini', 'UDRI_Mumbai', 'HusainChhassa', 'Limraevent', 'MWTConsultancy', 'Kroshan619', 'HandleOfVikrant', 'samir_dagli', 'tea_n_see', 'muralikumarje', 'rigattieredada', 'NishasKhan', '5thVed', 'DeepikaBhardwaj', 'EktaWorld', 'miten', 'PotteryGaia', 'reality45325068', 'Tarungo59455999', 'shrikanth_krish', 'nobrokercom', 'ItsAjayShah', 'MurtiShree', 'sfharper', 'FinCoachAditya', 'rahul983904591', 'VinayMuley3', 'rajgopal88', 'story_tellers_', 'vyasshruti', 'Piyul', 'sandeepvarma15', '51a1bee9b7c14ef', 'doctr_pro', 'ooga_bogga', 'MiralParmar2', 'Samar_varshney', 'TheSouravM', 'tamilnaadulive', 'KapurBhawna', 'Afrozkh92624741', 'HindolSengupta', 'airsunita', 'EmfiSecurities', 'Manvend03129323', 'rohitkadecha0', 'muthushiv', 'MahiBalan7', 'madeyemooby', 'Sagar1raut', 'abacusconsultan', 'JSChauhanBJP', 'Vidyut', 'AnthonyKKarugu', 'gitahari', 'DevOpsSchools', 'UnnatiAgarwal_', 'kiran_mestry', 'ejzbal', 'kaillashtweets', 'clothing_bombay', 'mrmukarjee', 'ShreyaKakkar3', 'Anirudhgargi', 'BspurohitB', 'rama2091', 'KohinoorSquare', 'GauravSaha', 'DinkarMangleek', 'priyankaghatak', 'Deval_Mavani', 'TweetsOfKG', 'pratiksalve9404', 'Vishwaj93728150', 'sahilwagh02', 'sanketrao', 'MehekMahtani', 'aatishn', 'absoluteforyou', 'gobiglist', 'nalayak_munim', 'JunoonTheatre', 'ChankyaBihar', 'gauravi_pal', 'Nitish_nix', 'bharat24283', 'SandeepNehate', 'Suchindranath', 'Ample_Logic', 'anavilshukla', 'blockinspect18', 'arpatna', 'PropCheckup', 'DilipraoM1', 'S_E_Mirza', 'cautsavshah', 'find_bilal', 'arnab9385', 'ConfuseForever', 'Preety638', 'manojkumar0802', 'GreenCubicles', 'Mufti_Talha', 'DreamZZMagazine', 'RahulRajput169', 'kanakia_spaces', 'SheheryarNasirK', 'Abhay73g', 'PathanDilshad', 'allthingssofeez', 'propimumbai', 'BombayCloth', 'TonyStern7', 'NikitaBobade3', 'robmacthor', 'waqar_petarian', 'SureshN11034090', 'CitizenKamran', 'anshu_bee', 'Spotboye', 'VyomaNandi', 'KrishnaShanbha5', 'madan_kumar', 'CaraExports', 'avishalmodi', 'social_ketchup', 'ret2indnri', 'TVABlogger', 'iam100rabhs', 'Shimographer', 'BrandMavenz', 'piyushpuri12', 'MeanWebHost', 'UddalakSengupt1', 'catchmeattwitte', 'akulibra_09', 'ankibn', 'panky1972', 'mahitiamanch', 'alihusnainsajja', 'MirAjmalHamid', 'raazrajeshyadav', 'Kumargovind_a', 'rajeshirke_d', 'IAMLIAMROBERTS', 'ravikantbhat', 'rohitashram', 'sashayub', 'KhushalS_', 'prashantDocean', 'IamanODIA', 'SwarajyaMag', 'DecentFurnitur1', 'Sanjeev07620028', 'Rootsandleisure', 'rohitkh29716613', 'ZahidBhatkar', 'Krypton_Global', 'Chai_cheeni', 'Aashar_G', 'ThrillingTravel', 'n_pantvaidya', 'akshatak_86', 'sanjaymira', 'PeekandTweet90', 'chaanakya41', 'FarziLogic', 'SanchittC1', 'Parizaa2', 'nibupraju', 'JnsPatel', 'adinarayanapp', 'Dgstudio6', 'ArmaniAlxndr', 'TheKreativeToli', 'MahavirMehetre', 'aeproductionsUK', 'softkidblues', 'drsachinbodake', 'dsfashionhub', 'kevalkarani0512', 'vishthecomic', 'SathayePP', 'hardikshah143', 'Slea_Zilla', 'getsnigdha', 'gupta_pratyush', 'AhlamGaladari', 'HitmanCricket', 'asimit_hoon', 'aldo_hub', 'KarinaShah9', 'NITINKML', 'meera_ganapathi', 'Qadeer_Palijo', 'Bimal11677204', 'Assrinivasasas2', 'zeshan_pmlQ', 'Xenohadi', 'helpsufferrer', 'manish_fic', 'jayshreemehta83', 'TannaDevesh', 'matthewcookekf', 'AviGhodke3', 'merikahanisunle', 'MehHarshil', 'nam_indocen', 'riteshmathur29', 'abhidevmumbai', 'MycocoonS', 'AbhayAgaste', 'theinfhra', 'OwnistYash', 'rakeshcamin', '0larity', 'Yaminigupta', 'vidyathapa76', 'Vinayak60502845', 'VaibhavChaugu10', 'click_in', 'clicbrics', 'aparajitaz', 'saransh2334', 'Colliersintlind', 'UrbanFeat', 'Kamal0309', 'rakkanchat1', 'JAGAHA_CRE', 'hindujedi', 'sanoc720', 'sumeets2904', 'sanjibpaul68', 'htviews', 'solvdinbox', 'smartmoney_in', 'Your_Levodopa', 'prabhuBhati1', 'dealbase', 'JvPrasanna', 'aizhark', 'epatrakaar', 'rnbhaskar1', 'CoachRajeshD', 'jenitajose90', 'azharkhanlive', 'Adendarson', 'Silento43157068', 'luxurionworld', 'ali105hassan', 'heysristi', 'SwitchMe_IN', 'space_zer0', 'BombayHeadlines', 'Priyank64722024', 'nauzerbTOI', 'SandipC32297192', 'vikasF22', 'prabhak25156959', 'krunal_555', 'Aloleu1', 'Shahsaheb001', 'tax_scan', 'Shor_Sharabaa', 'nekkantitsayz', 'CallSignMujahid', 'RohitttL', 'Film_Freakk', 'khevnasharma090', 'basrur', 'SujeetSingh82', 'pinkvilla', 'hellovivek786', 'LorenLaPointe', 'nishantsahai1', 'phdece', 'knotsandfigures', 'Intellepedia', 'borawat_deelip', 'ravichintan', 'MoversOmdeo', 'shailendrah', 'CongzhouMachine', 'TopCashBackIn', 'rmgoldman1', 'ravirajpoot29', 'sss1987', 'propinn', 'SrSrinivasamu', 'hellohealthplus', 'charlieraj123', 'Fashion37633779', 'ascentworld', 'AjayJKrishnan', 'SK_rewa', 'AnikBanik14', 'ShareYaarNow', 'SPrabhaker', 'mumbaichamulgaa', 'riteshp10', '14vs12', 'Saad_777x', 'alien_mafia07', 'mdomale_MDA', 'RaveendraSreer1', 'PrimeOneSid', 'namanas', 'FlyAzhar', 'pratikmukane', 'DehliaDsouza', 'CredaiPunemetro', 'durgeshjk', 'sanketdhende', 'oharajules', 'ak_DON_', 'IshitaJ59306', 'NashikBatmya', 'utpalupadhy', 'Hirav_25', 'Jasmin97731876', 'IyerAvin', 'am_i_anup', 'praveenpune', 'VijayarajanBui1', 'oxelsiolim', 'itszahxra', 'harassmentaxis1', 'vmnair126', 'Subrata37606833', 'sumitmalviya123', 'ad47a9ba04404cb', 'patel_tapana', 'pooja3000rdj', 'DreamPointed', 'Mj180Shiva', 'keithtauro', 'aditheesh', 'IntegratedServ7', 'nasirshah121', 'TheWoodOfArts2', 'sanjayrb12', 'hafizhhhhhhhh', 'mrchavan43', 'tfarcdrow', 'triptiarya10', 'BeingViral1', 'sukanyashantha', 'Skephneil', 'Cleanz_up', 'Hedwig534', 'Sporty_Baba', 'cuteushakumari', 'budholiyakrish3', 'khengar73', 'MB_Rashid', 'abhishekroy83', 'mumbai24X7', 'TiEMumbai', 'ourclassifieds', 'J67481904', 'ZafarKh96826759', 'asim900', 'accountantvarun', 'GenericMulga', 'SarcasticRide', 'sivakumarbabuji', 'guptabhuvan99', 'FfscIn', 'soni70d715', 'vigil_nte', 'taxknowledge_in', 'neverdepressed', 'Sneeha_', 'Getdpg', 'MHossai55126639', 'Rohith8977', 'prathameshkodre', 'voPAtrader', 'nimeshscnbc', 'gauravs09', 'PhoenixMCtyPune', 'CricketBoyss', 'cool_aims', 'zindashahid', 'AskTeak', 'androidapkgk', 'rajb2b', 'ShainaArora1', 'Deb05810220', 'MrCloudMakerAD', 'jencyjac', 'kumarr_raj', 'nazani14', 'YourRanjith', 'R_Bradpitt', 'OnesiteR', 'Rakku_99', 'KasayRadhika', 'begum7181', 'LawstreetJ', 'iamAbuBakarRana', 'RandallMance10', 'Faysalsatti', 'utkarsh_aanand', 'AnveshiSatya', 'MoiAmara', 'ShreedhaG', 'GabbarSinggg', 'marculenta', 'namoetlegamo', 'iAmarsingh9', 'adilabbasabdi', 'dhaval241086', 'oct1964j', 'MarietteClermo1', 'AnkushKanodia', 'Chinmayi', 'TheChakravartin', 'lilly_cichon', 'gauravprad', 'Jr_Shrrehman', 'pbhushan1', 'morpheusgulf', 'NoopsTweets', '_Nasha__', 'lindasm60841466', 'safri_moiz', 'AjitBhaskar8', 'Rajeshshen', 'KAMESH_RAIPUR', 'SunriseFinserve', 'AffanViews', 'more_orji', 'dsa_charles', 'nileshmcom', 'CA_Bagai', 'Tradila_Ecom', 'shubhamp_nashik', 'kuldipmishra9', 'sukanyaiyer2', 'humanpower12', 'mrugesh123', 'Amandee56708128', 'talktosanjai', 'aakuraj', 'tonyaranha', 'NeetaKalpesh', 'avinashasks', 'pavangaulkar14', 'JoharAmmar', 'AvantInfra', 'manishgopi1', '8087144664', 'DoneyBaby', 'YMYEZDI', 'hardeeppuri2', 'th_druidsgarden', 'VivekAN4', 'mumbaipropexch', 'HusainRif', 'scroll_in', 'Rushk_australia', 'imran_cheulkar', 'MyVirar', 'adityakambli46', 'Mint_Lounge', 'nowwins', 'Punishe39696428', 'Sarcasm_Tanay', 'Raut_Cool_Fit', 'saxenavipul64', '2NMPConcept', 'nandtara', 'Dibagoswami', 'JuiDutta08', 'Raahi_supergirl', 'PawanSp85071', 'nalinidesai', 'Lawyer2CA', 'baxijayant459', 'yogital', 'taxtmi', 'anishmohanty', 'Soumyadipta', 'js_infra', 'rahulb_bhartiya', 'aa10860303424b1', 'HinduPaksh', 'sameerghazi11', '_jayesh_mhatre', 'pradeep534444', 'MaheshKhatri', 'Fidmorrison', 'Team_ArtiSingh', 'shah_muddasser', 'platinumcorp_in', 'BenWaren', 'pranav_naik', 'simmy65406472', 'sundar_iyer0490', 'yadavsuresh8212', 'ZafarsOfficial', 'VipulV2304', 'deepakpatil31', 'qaisershaami', 'knightlash', 'DevendraSanghv1', 'Indexia_Finance', 'Joydas', 'imThakurSahab', 'jayahuja666', 'GharPravesh', 'nlb_bajaj', 'livemint', 'barai_vinod', 'yashgandhi66', 'aab1dh', 'ArtsElites', 'SuchitNanda', 'wpimaharashtra', 'shikham48645411', 'oarhtanirs', 'SiMiLater', 'amitvibhute', 'Bombay_valah', 'libswan', 'Ketul20616565', 'VilasVinayakCh1', 'vedbharat47', 'MakkarSanjiv', 'AnjKreations', 'MalhotraArchana', 'NirmalaPatekar', 'HLXPCapital', 'Sunil2587', 'FINTConsulting', '247natw', 'asimkfarooq', 'oom_rajendra', 'ruchikapatil14', 'riddhisiddhi22', 'AAltaf2010', 'intrdsgn_addict', 'GobindramBang3', 'PhalinShah', 'kellyinhope', 'adspostinghere', 'sunilrsingh', 'mumbaiescortss4', 'deyabhi311', 'VenuSpeak', 'rmodi7', 'AndyBelfast', 'Vikasvraut2', 'Sawaizkhan211', 'flockstation', 'AchalMunshi', 'HorizonsCottage', 'bharatpages', 'sahiljakhar999', 'ronakpw', 'nikudoshi2002', 'mithilakulkarni', 'ramsun2015', 'WallEmpire8887', 'DrDebM', 'GodrejN', 'Riveriaglobal', 'notdoxxed', 'AwakenedMuslim', 'BayraGarak', 'mumbai_ads', 'preeti47981232', 'SudevanManickan', 'docmaulek', 'chims45', 'ajaybhai', 'mishraharish0', 'GoLLLion', 'GonsalvesRen', 'Sagar9_', 'manugarg25', 'UrbanZameendar', 'MeMMumbaikar', 'ManojKumhar', 'fayda_finserv', 'Faisal_A_Latif', 'shrikantkhopkar', 'vishy972', 'snjpatwardhan', 'RoadsOfMumbai', 'irreverent_bai', 'UmarKamran96', 'BombayDyeing_In', 'mghnaa', 'goohutch', 'bhattar_aditya', 'Avni9876', 'Horizon_proper', '74Pawar', 'rayofash73', 'planet_arian', 'magicaldairie', 'AapkiTanu', 'irisfragrances', 'SbhjitDs', 'Hemagrounded', '1406Samir', 'sridharkswamy', 'Chandansahoo378', 'SanjayC06687837', 'makkarhs', 'RazzaKhan20', 'longterm_greedy', 'Rioga_Premium', 'JeVee_Infra', 'iam_chandni', 'TheOfficialSBI', 'N21chak', 'theeclassifieds', 'slightlyTall', 'sunilsa29576521', 'arifkhan7', 'hamalik34', 'theteefactory', 'PWNeha', 'MWaseem28', 'BajajYashika', 'ImmanuelRajanN1', 'nein______', 'kdsalunke', 'vaibhavsghodke1', 'spaceplus0003', 'chrisparker9991', 'JotinderS', 'srivatsan_sruti', 'guddu_kujur', 'sshetty9825', 'spokenatlast', 'shri222322', 'kkundrra', 'MukulSharmaSP', 'shwetathakur9', 'DeathEndsFun', 'RustandRosesTx', 'emNishant', 'haresh0277', 'NEERMAANtweets', 'Jabalpursafety', 'aristodev', 'c_amrendra', 'SP_from_Satara', 'all_101', 'WhirlingDervesh', 'zerohomz', 'mehul_mahant', 'simo67uk', 'manusmritihater', 'MayIPeeNow', 'NBSDL', 'gurmeetsgujral', 'Mumbai_Citi', 'goldleafing', 'GreaterFool_IN', 'fiona465', 'AarefaJohari', 'robinsandlo', 'TheRanjitShinde', 'ravikuruppath', 'MadhwaraoJ', 'vipul_kp', 'trulysunil_', 'dr_jyotiish', 'makemychairs', 'Aaliyababi', 'pankeshsethi', 'ncubeplanning', 'ramnikkariagma1', 'sumitma', 'GodrejRks', 'hSHIGRI', 'anishelar1', 'Producer_Josh', 'seriousarchitec', 'itzzmesowju', 'Blahblaholic_', 'nandkis23799031', 'arifalikazmi', 'myadvtcorner1', 'Chaai_Garam', 'being_sarthak', 'MWAnsari15', 'KonbacB', 'darshandesai05', 'Er_NirajTiwari', 'irockstarfan', 'sainivijaykuma2', 'BhartendraSingh', 'Narens_tweet', 'RajivSh36357875', 'ANAROCK', 'DhanashreeJad15', 'Rohan28800011', 'MahetaNishedh', 'Ampkmailbox', 'saket_k_sinha', 'ig88285', 'AbhishekDsai', 'officesnapshots', 'TheAzharSabri', 'DBTVLive', 'tutatiki', 'abhay005', 'Vahura', 'sueisvip', 'aiktcofficial', 'SidMalhotraFC_', 'Dreamerland17', 'sagalime', 'ippatel', 'Deltasquare1', 'Antoniniml', 'VividAlerts', 'VENTIngout2', 'Abbu_J', 'xavi3131', 'NilFrando', 'RaviBhandari83', 'doniii3', 'mukundraichur', 'jrdta', 'patroitic12', 'raulpr0', 'AnasMagnificent', 'TweetsLively', 'Amitroy878', 'ravijha71', 'kamlesm', 'AmCuriousNJ', 'VKGopalan', 'gargrajesh3', 'Sahawalks', 'do_jeeney', 'joygossain', 'chandavenkatai1', 'pravinbghadge', 'PGPardeshi1', 'reenag00091', 'Focus_mumbai', 'SultanMd29', 'didbijckidas', 'shahchandresh', 'niravstoons', 'AirlineGuy3', 'AAPVora', 'idealpatna', 'foreverfine4u', 'grabonrent', 'abhisheksood7', 'Sandeep76266245', 'AlpeshKumar5757', 'ramlax62', 'Hkulkarni19', 'VasaiCity', 'ravimoon64', 'SurakshaAnd', 'ANAMIKAKHANNA16', 'DrWongz', 'FaisalTanwir', 'DCubeExhibition', 'sceneawwn', 'cleviic', 'GeorgeM42699485', 'arunavaguin', 'rg_gupta92', 'suma991', 'dr42shav', 'Dharmen05425565', 'MikeDesai', 'AzureconceptsR', 're_publicspace', 'shiwanisukanth', 'Krimager', 'ronny_williams', 'ahamaaditya', 'smarbkr', 'maac18h_ali', 'akhileshdk', 'seojjinist', 'imbraveking', 'futuredottv', 'muskanrajani_', 'gaurik_shah', 'shehnaazshineFC', 'YourStoryCo', 'anticastecat', 'Iam_ankitparmar', 'sherry71759', 'HarshBisaria', 'DebashisMukher3', 'prafulla02', 'Indextradefairs', 'CSManiar', 'd_boy_818', 'atlancelot', 'srivastava_neh', 'fearlesssardar', 'IrfanLeMirage', 'saraswatiirugs', 'nishurao', 'wallpapermag', 'chryselled', 'mobilemagzter', 'Rajabab01173002', 'sunitakatyal', 'Mangesh95459869', 'ameertarin', 'Amit_A_Teli', 'AshleyG55236789', 'KCAirForce21', 'cheerscobberta', 'thakkernirav', 'itznamra', 'MoneyhealthF', 'kwt_sandeep', 'rafflesmumbai', 'Mahesh81756552', 'AKAINSLEY', 'KVJNMURTY1', 'KJVchaitanya', 'BrandYouYear', 'Bhaukalipandey', 'amitmehra', 'D_Shah_Company', 'DikshaBhoomi', 'mrkfaipl', 'theSchantanu', 'cleverlion', 'anaghpal', 'Bombay_wale', 'Raivat_', 'Shoppingdeals18', 'eramit_ranjan', 'Sunil_Deodhar', 'yogesh2165', 'BlessPvtLtd', 'NIRAVMISTRY7', 'poonam_216', 'CenterRender', 'jackhitesh278', 'EB5IIUSA', 'JahnviPanchal', 'AmitSin76766851', 'LanishaBSmith', 'SanthoshANAROCK', 'priyankbhilai', 'weirocracy', 'mystery0725', 'SanjayP51821008', 'vidhikarya', 'coffeetonin', 'sarapaxton116', 'FarishtaKhuda', 'Sassy_Kat17', 'IMRANKH36092467', 'silverjoydotin', 'corpsuitesnyc', 'baapoffers', 'NishaantAsawa', 'SirYuzvendra', 'iamsujoy14', 'Mumbaikaralways', 'anunay22', 'rrbudhkar', 'urooj_q', 'clocate', 'aapli_mumbai_', 'enjayworld', 'priyankawriting', 'spenta_corp', 'Tiger_on_Wheels', 'hbhqbs', 'sachinseosk', 'KarriLuvi', 'Aar_Ae_Jae', 'ajtalukdar', 'ClarenceWhitti5', 'harshanand6', 'KatiraVaidehi', 'sivadasz', 'KernigKrafts', 'PGaibi', 'Morris77', 'jagy_rav', 'jatinjkothari', 'meme_veda', 'Ghatkopar4Right', 'Javed2k', 'Rahulrahs', 'jamespmcleod', 'JaanJee_', 'nehapawar451', 'SidrahDP', 'bharatfloors', 'wafa1024', 'i_captainzak', 'itsmessbisht', 'YOGESHRAMDASPA3', 'meerabhat', 'AnkushD65021363', 'agangamohan', 'SushantSinghRat', 'yourspacedoctor', 'JivendraSingh25', 'RS_dilli', 'mada_vinay', 'PossibleBuddy', 'MadSaps', 'BombaywallaBlog', 'abhuwalka1', 'ArunimaDey17', 'bradmeacham', 'amsrkk', 'uptopfurnishing', 'TheMantallBwoy', 'Farzaan_31', 'Evora09', 'Sachin98250387', 'krdpravin', 'kar_mumbai', 'USFreedomCap', 'gauravgpsster', 'DeepKap38157342', 'Anupbhatia7', '123456Shree', 'mytreasurebox_', 'vipul2777', 'rdkriplani', 'arian_earthling', 'ysrash95', 'Siya81612350', 'BurntOutCase', 'Aishhwaryaa1', 'Venki_Shastry', 'johnsin51234594', 'rajeev579', 'Luxe_Scarlet', 'iserveFinancial', 'ganeshpp', 'abhieo_', 'mumbaimatterz', 'chawdaAnil', 'CEOMagazineIN', 'parzmulla', 'M_MaverickAward', 'savychops', 'desimarthastew', 'MyGeorgeApp', 'evablon', 'josephsantos', 'VidhyaNaik2', 'akm_startingUp', 'talent_stack', 'Sobeeerrrr', 'InifdGhatkopar', 'PriyankaYudkbh', 'prakash7dec', 'rajupu', 'IKWarriors1992', 'sarvaria1', 'rsrikanth05', 'BabaGlocal', 'VeduVada', 'sinjain', 'Ravi08410222', 'rizwan236', 'AnneDuffield1', 'TintzS', 'TRINETR70224574', 'uptothepoint', 'Engihumor', 'Berlin_Marina', 'iam_cgacademy', 'kiranshaw', 'parthyban', 'vijaysardana', 'Fairwhisker1', 'Mohini0105', 'Prach82', 'sheenltd', 'Airwind1988S', 'ras22', 'aswingirijan', 'Stephan67231196', 'purushajaya', 'get2lalitsingh', 'VasudevanNair30', 'RishirajDevelo1', 'meapplet', 'anks2579', 'Azmatalli', 'SoniaKapoor25', 'JoyAndLife', 'syedimran_g', 'RahulWarrierr', 'LullaAjay', 'koolbrijesh92', 'MumbaiMirror', 'harpalsokhi', 'Chairsbazaar', 'SuB8u', 'Hr_Hd_Connect', 'deepakkutty', 'Siddhes62331067', 'rajansen6', 'IronMan81351940', 'AAamireta', 'FekuBuster', 'creaticitypune', 'sandeep_447', 'vm285', 'NishithShetty1', 'vividshubham', 'anoop82215147', 'ClaponiServiced', 'MNCDFbombay', 'firstpost', 'kaps_kool', 'aatankwadiii', 'singhashish99', 'rvaidya2000', 'ravirajaINC', 'Akhileshmishras', 'BeingShamss', 'dharaputra', 'GAserkar', 'RajGupt87999322', '99MagicspaceIN', 'morevishnu28', 'v_srikanth70', 'Bacchanpandaey', 'HiGuests', 'anky755', 'Paramount_Metro', 'surenss', 'throwball', 'thanos_baba', 'bhavesh_khona', 'ShamaSrujan', 'anirudhganu', 'ManuVichare', 'Vijay60485116', 'VinodKu46430589', 'bhagatmithi', '0_aryavarta', 'ahmadziakhan1', 'Nayantweett', 'merryja30401892', 'KaximBulb', 'humara_sahara', 'Luasa12', 'mandeep_wasu', 'SuleKruttika', '_mandarck', 'NareshKarmalker', 'praduman1417', 'NANDEArvind', 'Emotionlsanyasi', 'Aaravsingh28', 'imvicky84', 'ArshiaSyed', 'carialamat', 'PatanjaliBharat', 'sarathi1627', 'IainButlerNZ', '123telugu', 'php_101', 'ChhotaRecharge', 'punitdesai1111', 'ChinooSam', 'KetkiLopez95', 'PrintsSquare', 'Mash_Tweetwani', 'link2shah', 'kcimumbai', 'GGourav927', 'Shubhangini_A', 'jholainafunk', 'shah_1972', 'ksk_nerul', '_girgit_', 'AlliDavies1', 'quidtask', 'tuxfitness', 'AanamC', 'tata_jsr13', 'MoNishReddy_007', 'bavlichhori', 'GenesisAPS', 'kumarvcs', 'MangeshKMore', 'AmitSKumar81', 'rohitsequeira', 'ambujidiot', 'b32ae0359b5d4aa', 'pkverma81', 'drcattur1', 'SAP_APJ', 'SarojKumarPatn3', 'FoodCuddle', 'renusubramaniam', 'TapooNayak', 'ValerieVoinis', 'CIIEvents', 'Alpha286329', 'MyShelterMumbai', 'ArvindVishwak10', 'InvGurInd', 'tweetingsourav', 'Prince23111246', 'JacquelineDsou4', 'WesternRly', 'paritoshsings', 'RAMPRAS76474427', 'AbhijoySarkar', 'Bernade84664579', 'MikesUsedFurni1', 'aksgunjal', 'innerhr', 'raosaveraS', 'shapoorjipallo4', 'deepakravindran', 'ThenMrASays', 'indranil_pawar', 'modispaces', 'aawaara_', 'andsomesparkle', 'LilUprising', 'ss_suryawanshi', 'Amitpagada', 'Radhanath15', 'harihar_goswami', 'kavidma', 'maheshcafe', 'ketaki_jog', 'apurva_mg', 'NarayanSrikanth', 'khan_tausif', 'myself_CDwivedi', 'priyasai2001', 'Dishasatra', 'Rain_Man25', 'Atul15649829', '3dvl_ru', 'DramaTomic', 'Shayonnita15', 'JodiyaGujarat', 'CD007_', 'MServe2grow', 'anuppandey', 'reemasharma877', 'mockingdesi', 'TajMahalMumbai', 'Channeliam', 'Welfare4Poor', 'ajeetmahale', 'JKasturiya', 'BlaqsInCricket', 'rainforestitaly', 'chaturtweets', 'CineMagik', 'CharkopWarriors', 'LiveFromALounge', 'rokul59', 'sploonker', 'sudhirgparmar', 'BTVI', 'ulfilasalphabet', 'TheFookFace', 'p00namr', 'Mustafa87883197', 'DipantoS', 'BKandhari_Prop', 'TheQuint', 'BtspopFTW', 'sanjay33194', 'FilmyMonkey', 'MouthShut_com', 'AmarMak12782348', 'Thekalal', 'imQamarunnisa', 'mahamumbaiprop', 'KoleySarathi', 'pankajsabnani', 'shubhamghosal11', 'BhawsarHemant', 'journofaizan', 'PoliceWaliPblic', 'purva9211', 'VayaFabrics', '1mNadeem', 'drsatish_kumar', 'Hardik02803301', 'MiranChannel', 'subraghavan2019', 'DipakUk', 'infurma', 'shreerealestat1', 'LemuraiWatanabe', 'randomiserrr', 'ssbsons', 'patelranjan934', 'ScrollsNInk', 'Mazharkhan98331', 'itsazeena', 'devdubey21', 'CivilLane', 'officecupboard2', 'RidlrMUM', 'iimcomic', 'Svaalbard', 'i_SouthEastern', 'sotasadhesives', 'murali_Bombay', 'rajatdawar', 'AsianPrelam', 'Neerajs41363969', 'DaArchitecture', 'Amojawala10', 'SRaj13', 'kparpiani', 'NiketanMumbai', 'DaddysInfra', 'amarmjadhav', 'manojgjha', 'thethreeofus_uk', 'dipanjanghoshal', 'lalanavarrete', 'tanushreevenkat', 'VAIBHAVIMISH02', 'manikmehra', 'prat0s', 'IamAjmeria', 'PrabhuGuptara', 'SayeedIrem', 'audiogyan', 'tituraj', 'tweetpriya01', 'shailendranrb', 'JayakrishnanN21', '3Madhvi', 'HindDaily', 'anvaya_anand', 'Sangeetha0505', 'ManShunNot', 'KritiSahu7', 'nitinsethi80', 'vishwakarmasuny', 'Revanth_raj', 'kyakarunhaye', '336c3d300c3949b', 'HyperParameters', 'DilipSi56239462', 'TweetsOfRashmi', 'navin29293239', 'bordiasanjay', 'TheAnujPuri', 'FinanceBuddha', 'Amitmidha37', 'Rohit76145573', 'naharexcalibur', 'SANDEEPSAXENA36', 'milestosail', 'ZShaherbano', 'NareshD47003473', 'sa_lil', 'waman_sandesh', 'CSSOSofficial', 'cricket_fundas', 'TweetStreet247', 'Wealthymatters', 'amitddubey', 'alister1967', 'GappistanRadio', 'PSchwiter', 'S3Proxima', 'Commonm33182832', 'def__init__e', 'bhasaby', 'Rubalsandhu5', 'yukihiko1953', 'rish_mal', 'mann_ka_radio', 'CatherineDatui4', 'adt007ad', 'surinde20592097', 'geet_manraj', 'Virtumente', 'AJOYKUMARSARKA2', 'KiranManral', 'AbhijitDalvi29', 'DCP_CCC_Delhi', 'shishirjha07', 'psusanta', 'aravapallinaren', 'doney37311626', '_AKJaiswal_', 'BrandingRed', 'appnomy', 'ojhabawa', 'the_nailstory', 'TonyBodyFit', 'Halfthree', 'IamAfreenMemon', 'jojosevn', 'CraftLuso', 'the_zakirah', 'NandwanaPratik', 'hookfish', 'gv9195', 'AshawadiP', 'calm_admi', 'konork', 'mrsksr25', 'AREAMumbai', '_natashacann_', 'Shashi2Mishra', 'GharJunction', 'shambhu2005', 'high5musketeers', 'BALDEV_SIDDHU', 'AtikaAhmed7', 'ilalitb', 'kiranpkarle', 'MrVVIPAK', 'khemka_nidhi', 'winwaycreators', 'SritikaDhar', 'Wooden_street', 'GUPTA_DHIRAJ', 'Testrisha', 'SharmiliChudail', 'MovingSolutio11', 'KonarkSolitaire', 'TeJasBasate', 'MikasaFloors', 'HarshSohan', 'luvpaliwal', 'arey_waah', 'naashonomics', 'VimalParmar99', 'thewildcity', 'AviBLOT', 'Subhasis_Mumbai', 'aparanjape', 'shreethakurji', 'FRCP9', 'anitabagwe', 'VishwajeetAshok', 'IIncrediblebulk', 'porwal_sarika', 'archimags', 'Verendraverma2', 'charlot04310463', 'vinnykhullar', 'NMHreality', 'SuvrasmitaRout', 'OscarUKTour', 'adwaita_one', 'kurmi_anurag', 'zee_mo2', 'JeanDmello', 'akramzkhan', 'thewire_in', 'ashfaqueismail', 'IL_AmbienteInd', 'ranaalikash', 'grajkr', 'djmoolya', 'RoyalFlora4', 'mehra_nath', 'jitengajaria', 'DivineDrinks', 'Rhianna__m', 'jerryrajrod1', 'BiryaniWalaa', 'THMumbai', 'bidkar_prasanna', 'siya_ratti', 'Goddamittt', 'Stugotts222', 'ritthicca', 'harry_sehmby', 'rehanak55', 'JamwalNidhi', 'IMCLadiesWing', 'Tintin38245119', 'NandwaniDeepali', 'kshitij_ghevde', 'piyushmagarwal', 'birendr78749206', 'Ritikathapar1', 'AnuragJagia', '18AKGOYAL', 'TheBigFloor', 'ButImCold', 'ihsanullah189', 'TheYsrWarraich', 'randomWhiz', 'KesariDhwaj', 'Chaitanya66689', 'VijayMovers', 'asadali934', 'ANAROCKResearch', 'GaneshSP47', 'jatingupta3591', 'prince_man11', 'learning_pt', 'Bilalktk', 'partha_niyogi', 'ritwijmahant', 'Highonstudy', 'amitaf2105', 'rais_shk', 'Sajadv14', 'shairon_indic', 'BilayPrasad', 'shaswat_doctor', 'hemanthnayak5', 'RiseMiles', 'BniMagic', 'Nadeemalimukada', 'sunder_barange', 'nealecastelino', 'ashishshrivast8', 'equityinfo1', 'iAashishMJ', 'AhmaedWaqas', 'me_shveta', 'Pnsdg', 'anika_gupta', 'EleyDemetrius', 'KishoreVaid', 'manojshahpm', 'VAMulund', 'navmi_foods', 'AmolKol24900101', 'vkrpoet', 'pcjain0001', 'threadreaderapp', 'ushanayak79', 'Raj_Anand_Ingle', 'BrajeshjhaM', 'shreejisbless', 'ideasingh', 'ShekhawatiProp1', 'Aniruddha_0', 'mkgangola', 'Sffurni', 'mayaindraneel', 'krantikumarSahr', 'AtulKrIn', 'AbbakkaHypatia', 'ankit_ranade', 'WaqasSh66986937', 'tarniputra', 'AasifSh38911490', 'Surenthakur', 'Wilson_7oves', 'Brewkenstein', 'shankasur', 'InayatKhan1', 'Rakeshjeeinc', 'aryan_545', 'Chandu_264', 'mpamumbai', 'geetaseshu', 'premnath321', 'sid58883181', 'Tiwarimanojkum1', 'CANitinSharma_N', 'KayZee825', 'XyzTweeter', 'erikm_cta', 'VORdotcom', 'aurajavafurnit1', 'umashankar400', 'ashutosh2586', 'Right2Walk_Ind', 'MananJhaveris', 'hvalecha', 'Sammypedia', 'PravinP75446537', 'archinterind', 'NagpurKaRajini', 'Abbas_Emblaze', 'MoneygrowthPlus', 'Zah_79', 'cool_bindra', 'mumbairailusers', 'Rajesh39218708', 'ffd5409fe234457', 'SucharitaS1990', 'EsamBedoon', 'Adityasahni8497', 'Showbizarrefest', 'Christi77413202', 'apurba_s', 'suniil1988', 'hotelnaukri', 'shahidiqbal042', 'DVBhanushaliRe1', 'DreamZZAsianTV', 'VKLalco', 'lavonnasplace', 'rajnitandan', 'ConsumexPro', 'DrKalania', 'BaruaSimi', 'IshantG83119200', 'kharikhotii', 'parteek44', 'indiebim', 'papps_gunner', 'sonya_the_bear', 'ImFear_Less', 'anilsangeeta', 'KhelawanKumar1', 'Amit_sinha726', 'MadhuriQuote', 'rohitg1181', 'aptenco', 'wishkarma', 'sjain_13', 'bachPunn', 'MohitPropbuzz', 'faizsiddiqui201', 'AishaniCompany', 'hanif4all', 'rajeshchingath', 'GmaGdm', 'poojari_d', 'AmmarAshraf', 'SilverbCinemas', 'Manan84442797', 'BrentDPayne', 'goswamimukesh5', 'IncorruptibleCo', 'amarbheenick', 'AYAZYKHAN2', 'MukeshS36228721', 'BhaveshVShah2', 'srini256', 'shasvathi', 'ravi141090', 'bhartendu2206', 'paarthshah26', 'Louismarcusa1', 'lucidillusions_', 'Diya54329525', 'shreyashsharad', 'BharatTulyani', 'SuryaKeAlfaz', 'iqras1450', 'nilanjananana', 'tweettovikki', 'meee_mumbaikar', 'bhahoo001', 'parikshitbuid', 'MirrorNow', 'ArpitJustprop', 'AMARCHANDRAKAN3', 'tweetmusmaximus', 'NishitChokshi', 'hazratbilli', 'ShernaKhambatta', 'searchresume', 'Khanna10Vikram', 'awaissaleempak', 'PRSundar64', 'aazaadee', 'goa_niz', 'immymalik2010', 'MyraMittal', 'enthahotness', 'FitNSbyNishant', 'Darpan_Furnish', 'MANOJ9006', 'KalaTanush', 'Ratinsharma76', 'Harihar77890579', 'Chandra88389517', 'vegan_mumbai', 'NavarkarSantosh', 'MuthrejaS', 'sakshii2', 'preet1203', 'thepacificminds', 'LALITJA54300370', 'iBajajGal', 'ssharma68', 'Koimoi', 'IndurChhugani', 'Abhishe_6', 'abhinav_gkp', 'HemanshuJoshi3', 'mnoman88', 'tapan17409572', 'orishtha', 'aVeLoN10', 'Praecursator007', 'cvprasadrao', 'SpeedCargo', 'artgallery42', 'prasca', 'sujatawde', 'amitn1204gmail1', 'ProGulfShelving', 'REMAG_MAGAZINES', 'Aradhya_Jha', 'Harindr48180812', 'RobinPa52131710', 'RamD72819870', 'kittu_25', 'p_viren', 'asrkanth', 'KhaleejMag', 'pqjiggy', 'abhijitc4', 'iMGTOW', 'draashay', 'banerjee1993', 'Bhawani00732835', 'kartik73', 'cdlspanda', 'PRANIL4U', 'sanchetd', 'Equityboxx', 'DappPopp', 'sidharthbhutra', 'MarkYMarK1383', 'chatpatidiary', 'thezhbinge', 'RodriguesDeanne', 'loku_bhatt', 'Hasan_Akber', 'sachinkothari24', 'IndradeepKhan', 'acsrujan', 'MumtazRahebar', 'RAJESHK23_', 'sssaaagar', 'INCMumbai', 'NagpalManoj', 'moebelmarkt', 'Agniveshzikar1', 'Yasirdj', 'DasNaiz', 'Bizofit', 'kaykay_1974', 'vartak_sneha', 'sagarkamra24', 'SatishJoshi_1', 'irelandinmumbai', 'ttl3003', 'Treniq', 'SBUT_Mumbai', 'NimrodPunch', 'yasir1112', 'vandu', 'quinoa_biryani', 'phoenix_saffron', '_JoelR7', 'Guineverelondon', 'ak1408', 'awesome_ark', 'Tazeen_11', 'SelfRedevelop', 'yyyraj', 'anilsathe', 'princemehrajbjp', 'pearlalexsays', 'ErRajkumarMeena', '56perumal', 'manashfrmmumbai', 'navycapital', 'vshnv_c', 'rajneesh1315', 'saura_21', 'VHetal', 'chai2kul', 'natmkrishna', 'OmarKhan3738', 'Xtraordi1', 'The_HighTea', 'shalabhdhingra', 'KakadNiraj', 'SwamyBhakt', 'dev_discourse', 'riteshravanak', 'TheBombayBombil', 'patil_bhushan21', 'russell_vine', 'sethia_b', 'BOIncome', 'gauravtmusic', 'BytesEcom', 'valuesearcher', 'pednekargaurav', 'DeepakB95077242', 'rachit_g2', 'fabrento', 'Mubaric5', 'anuragpsharma', 'TheGoldenMile2', 'thinkingspacesy', 'ajm9890', 'Sarfara80049450', 'DenzDejz', 'UiTV_Connect', 'shucutiepie', 'mrsubramani', 'aniruddhasnaik1', 'gopesh80', 'Okodi_KOD', 'romeldias', 'MarineTreasury', 'sempre_sid', 'garvsingh0715', 'Sohilkh36220968', 'AhmedPoonawala2', 'riaz_rashid1276', 'BharatParyatan', 'Sortiwa', 'rachit_tyagi10', 'BhawanaOswal', 'uvexhibits', 'sheems_', 'AmjadAq2315', 'ParveenKader', 'Sunna5V', 'MZakiSyed', 'Suresh_Mathew_', 'capankaj2', 'tollywood', 'raina_ali1', 'sanchayan_maity', 'renderimage1', 'Patilabhi28', 'mihirm123', 'TheVKHarjai', 'VickramChat', 'redkapildev', 'Amberma89476055', 'Propomania19', 'TOIAhmedabad', 'rocxwrangler', 'dw_environment', 'SecondFlingInc', 'carlos04667', 'HARESHVYAS6', 'krushitshah', 'Maggiesdad34', 'flaneur_a', 'mohammadanwar', 'Tradepassglobal', 'SalKhan1975', 'CellVss', 'Rakesh74259483', 'ajaylaad75', 'SubodhTiwari1', 'jdmello', 'PvtWindows', 'ZiadKha55028836', 'Enlighten_9', 'Maneoi_', 'metromoghli', 'GoingOffensive', 'smrutibombay', 'kamnabhardwaj21', 'meDeepu1', 'ravi7410', 'SafSyam', 'Bob77123662', 'dalvi_ridwan', 'ashwin_kedia', 'ragways', 'aloks07', 'rashidbastvi', 'aneesinha', 'rituparnasarm10', 'TeamUpNC', 'UndisputedNeal', 'BalakrishnanR', 'ankush_thorat', 'AikFangirlThi', 'Riba34831848', 'unikbeautychair', 'LittleHummingb8', 'darshanik1', 'FloraHeights', 'bhushi121', 'srivastav17b', 'AliIrtu', 'ImadBilgrami', 'OACOutdoorAsia', 'surendra_panda', 'ManuelaBaumgar2', 'ButVaii', 'iHammadMehmood', 'khalidhyder48', 'WickedChip', 'schawla13', 'ThinkRenta_LLP', 'SirjiWAAHIDHas1', 'MakaanSmart', 'preeti112019', 'TheHollyBollyN1', 'saadqadri', 'bkkrish1', 'assetfinltd', 'AllianceMumbai', 'vaarishag', 'sure99', 'WaysBright', 'mumbai39', 'NHHealth2', 'Maninde81972597', 'diptakirti', 'SUSHEEL75068852', 'mahavenk', 'WengerYears', 'drzain73', 'anil60192075', 'PRbySarahF', 'labdhilife', 'rajanish_dass', 'Nainaa58', 'SahirSamual', 'richaaagarwal', 'lejagah', 'AnshulG59149670', 'Trust_TheLion', 'sudeepbanerji', 'jokesapaat', 'UniqueInterioss', 'ajmerakaran', 'SpacesJvm', 'jainayush10', 'fenil_seta', 'manedarshan', 'VidhiLikhitDESI', 'GoodwinJFernan1', 'lionbhai', 'TheAveranger', 'SJFindlay', 'arthurhanry', 'iamshinerk', 'bharatax_in', 'rentofficemum', 'DV99999', 'sudhirsawant09', 'arekalyan', 'PoojaSh75920323', 'uttamvfp', 'beachhasaliens', 'sharmavikash', 'foramkaur', 'RaghuSripada', 'mipphillips', 'GulmoharLane', 'iprakhar136', 'Mubarik55192484', 'teodranik', 'parmarkishan88', 'samirmokashi', 'RAAMAZ_INT', 'RajeevPuri08', 'Avtar_Madan', 'fibre2fashion', 'vishwajitk', 'teatattler', 'raveena25790171', 'skaz1e', 'kuldeepvkolekar', 'loncha5215', 'patilomprakash3', 'Royalist_1013', 'MAAKALADLARAHUL', 'TahirZuhair', '9762238548', 'mysocietyclub', 'alidar89', 'GreatIn58317225', 'aceanindita', 'charlestornros', 'ravithakkar92', 'Robin824', 'Imabhi36772248', 'bandrarentals', 'gupta__jii', 'HuseiniP', 'KadamAmeya', 'samirrsirr', 'hashmirwp', 'marathishikvan', 'Sumeet3017123', 'prasadkathe', 'Shrutikoorichh1', 'Mahendra400055', 'rao_nava', 'Dharmen56254066', 'Kulvind51839100', 'SookieSh', 'casteless24', 'AvanishPanchal', 'snow_man_14', 'nomanwaghu', 'RegalSquare', 'mayurkchheda', 'sahil03b', 'KhalilK62516602', 'rahulrzen', 'Sanjiv_34', 'aroranitin15', 'abhica_92', 'MohrajThe', 'jestme', 'RuchikaJain89', 'Kamal_destiny', 'Hardik_Gada', 'souluble', 'Mandar_Salkade', 'ZboinskiSandy', 'scalpelsandchef', 'jatinbhatt4u', 'khanAR1985', 'Muhamma44697658', 'redundantmotifs', 'nirmalapairtel', 'spotools', 'MayurTolia', 'anandku21485365', 'adityabagri93', 'PlanetStone1', 'GauravKPaul', 'girishkuber', 'TurkishCGMumbai', 'NadeyahN', 'senbaravi', 'ApsaraConsulta1', 'NzrLv', 'RKSharma99', 'ThePolanator', 'Iffidel', 'varshasinghs', 'ishaastudio', 'cbdhage', 'RAHULSK13', 'Pepperfry', 'jaideep1patel', 'waqarahmedhy', 'MiniRib', 'UmeshPatil670', 'vg31011976', 'milindshah2006', 'lawyerhakim', 'Iflauntme', 'odmag', 'bilimaganaveen', 'moueller1961', 'SudhirSarnobat', 'kartik1886', 'GYANPRAKASHSAX2', '2030Hours', 'cvc26', 'KetPan', 'raomnit', 'Agashutosh', 'mmharjani633', 'AdityaA39143640', 'ABalanceView', 'thakur_shivangi', 'SMZKhan', 'brumbyoz', 'lalchakor', 'bsaras', 'andysanghvi', 'ramchandrapal', 'seshaiah_g', 'ravikanthbs', 'CentrumREMA', 'jangidnitin', 'saralshaadi', 'milindpai', 'SutejaChalla', 'sanjeev_mahto_', 'RemaxV21', 'ashishkrujuta1', 'akmsafar', 'tisaiyan', 'suhanijais011', 'neeluyin', 'aniartist', 'ClaventEvents', 'rishabhm', 'lakshitaarya1', 'sri9011', 'howbza', 'BeingRauf', 'LogisticMart', 'Monish_Ahuja', 'its_Yogendra', 'JuergenMorhard', 'hareshsep269', 'deccanplastind', 'WeirdoWizard', 'CulturalGutter', 'prashpatel_', 'greensoulergo', 'kaszona', 'suvendukayal', 'AnjaliT90192543', 'John071912', 'NITINDA89289941', 'Ramprasad43', 'starkumud', 'TheFrontierPost', 'Shail_Shell', 'paranoid230448', 'avs_mohan', 'LaVeils', 'tadbitlooney', 'Stardom22ent', 'suta_bombay', 'shettykishor4u', 'mySTUDIOPURPLE', 'sudha_vja', 'Hariram208Ram', 'litlivemumbai', 'Premr79', 'Rentalwaala2', 'linkezee1', 'bose_bibu', 'reinforce_qstpl', 'DP_Mumbai', 'ANI', 'Flexifloor', 'SunnyShines_', 'xephyrmania', 'LambertKamps', 'shirsekar2016', 'Littleshrimpcat', 'Dangerouslytal', 'AnilJai84498698', 'AllenWaker3', 'nishadkulkarni', 'jayjain2585', 'DeHaTiGuY', 'ahmedaliTOI', 'drjagdishsingh', 'pawzonpiano', 'Subhaje45125665', 'SRoykashyap2', 'roxmiaen', 'astralkru', 'Dipesh13', 'PunIntended8', 'anuchat73', 'HarishMurthy7', 'crypticrajiv', 'NuruKarim', 'suremithas', 'SohamY22', 'SaakshiChawla', 'Rich_Prince07', 'theabhijoshi', 'coolkavs', 'vvipdomains', 'veiloffaithpak', 'gordonmax', 'SakibSajid', 'JoshuaKeckley', 'HobanGirl', 'hanifmadnikhi', 'ranikhet', 'CupCure', 'SujoyGh96286506', 'ShreyanshOswal', 'Kannadanammamma', 'KhannaSamaksh', 'ReedExhibitions', 'alaya_singh', 'shri7473', 'VenzoWood', 'd_trilokinath', 'abhilashp28645', 'hospertzInd', 'Kat_Bombay', 'dvgandhi', 'Samba9Firmino', 'sarkararita', 'aristopro', 'bharat_patel3', 'latestly', 'patilshrikant', 'naresham', 'tttabrez', 'Sanshojag1', 'Adekoya42975623', 'sagarajput24', 'kiritsshah55', 'Phat_phati_wala', 'shreebor', 'hktdc', 'shreevidhatte', 'alisonmccaffer2', 'richieraghu', 'shakti2112', 'HotelKdm', 'Batla_G', 'mister_whistler', 'rudreshpandey06', 'Aminfromkent', 'wolfofnifty', 'RizwanNawab11', 'rahul_cool01', 'Akash30993037', 'UrbanLadder', 'Falooly', 'DiwakarSharmaa', 'murtuzi', 'getmeroof', 'ParmeetSodhi', 'farooqui_ahmed', 'MeRanjanSingh', 'ultra_instincts', 'HumairaAbbasi6', 'lskrish', 'ashishanecha11', 'OnlyVimal_', 'BhupendraKoli4', 'imouttapocket78', 'FashioItzy', 'pratikzart', 'bnikhilgoud', 'Usha_Srivastava', 'MWCnola', 'shikhadesai1990', 'manojkrs29', 'dhavalg2006', 'arpas', 'shravan_THADANI', 'jigar_patel_108', 'UKoundinye', 'PotholeWarriors', 'lisha230792', 'shivkumarssingh', 'priyanka_shah31', 'Rohina_Anand', 'ContextUSAcom', 'RajeshMukundan2', 'ar_rujuta', 'chiragpoonia260', 'carsNbikelane', 'Me_Mumbaiker', 'prabhakar1989pd', 'magaxiom', 'jeszCca', 'Mudasir41123352', 'cvrane', 'amitpolekar', 'mukulsharma36', 'PrasadChavan83', 'beep_roadrunner', 'Subhash_ati9', 'tryanonysaurus', 'alphaideas', 'gsrana4580', 'GorwayGlobal', 'officespaces11', 'madhavsamant', 'Niva64732295', 'maneesh_bhatia', 'vishalkmumbai', 'CurvesnCarvings', 'yogeshtalwar4', 'amit_nishad145', 'BryanLe32178010', 'rahuljkas', 'KamalJoshi108', 'ie_mumbai', '75SWARUPGHOSH', 'xybur', 'TenFathom', 'ayushpadukone', 'VaziVinod', 'RAJEEVSAAM', 'Amit_Supe', 'johndavidjohnn1', 'FamcyI', 'TripAdvisorInd', 'dipesh26289708', 'usmanzafar_02', 'KakaniShyam', 'ZulfikarYakub', 'Dombivali_BST', 'loonylovegood04', 'AvnishG48730437', 'Spacemaxin', 'stumpblogcom', 'kirti_sd', 'SalmanK96369644', 'Sharad9Dubey', 'salonistasays', 'sajnanig', 'DDSez', 'kiranruma', 'filmibaby', 'rahulrohit', 'SachinP20277934', 'BesuraTaansane', 'Hosalikar_KS', 'hazel22614617', 'gautamsatpathy', 'baxiabhishek', 'avianlifestyles', 'divyarunpai', 'BangadAnuj', 'harry_chadha', 'Damru_', 'nnnnasim', 'DildaarSid', 'sachinjos', 'Alhamza64558969', 'KonnectHR', 'KULKARN94613191', 'atoztrader_a', 'naftee', 'SVK1956', 'United_Pakistan', 'puravankara', 'SushrutDeo', 'suchitr50072921', 'KapurMeenakshi', 'uttamkaul', 'BoondealL', 'vivekraju93', 'AvidLearning', 'Lylaaccessories', 'PDIVEKAR', 'NiteshV06663915', 'drkkr', 'jtiku', 'gsagare', 'kamlesh07', 'FAS4U2', 'SindhiChokroVB', 'BharatG67005315', 'RupaliS56622876', 'RupsaChak', 'EwallSquare', 'Pratz2106', 'Emme30598562', 'Thechairman_tcm', 'BetalaJain', 'Prof_CallumYork', 'narendrakale', 'dhanashree0110', 'MyWallCladding', 'neildsilva', 'tinabali22', 'simbasimbu', 'AuthorBench', 'ananyachopra7', 'sumeetnmehta', 'AtifRajput5', 'parveen_adv', 'SISTERSINCHARGE', 'Mahesh68603340', 'selfsantosh', 'pulakkk', 'RaghavBatra1997', 'nishant506', 'QCAResale', 'vijaymirani', 'ThatBigWhy', 'dreamashu2004', 'MHashirFazal', 'NehaSin39839068', 'jancvok', 'ayushbagri', 'sisofvoldy', 'ATHREYAG', 'sanjayj1975', 'PremleelaH', 'kcds40', 'sanjaymanjrekar', 'isvjain', 'AneraoKailash', 'adithyav0405', 'creativeirfan', 'bpbmumbai', 'tomejones13', 'centriobymjshah', 'Navyavegi', 'bhayanidinesh', 'Tanraj58', 'Yashodhara', 'mukesh33857296', 'dineshkorgaonkr', 'vineetparolia', 'OnlyNamofor2019', 'PinkyDholakia', 'AnilRustom', 'Deepali49960847', 'riyarsawant', 'DivineOmi', 'OutlookMoney', 'hasedwisdom', 'ljj92042351', 'littleramstudio', 'shibadurani', 'matharuarts', 'pradeepjain7975', 'HardikGDesai2', 'Er_ASP', 'abhishek2047', 'desi_casanova', 'saurabh', 'MarathiRebel', 'simranpundeer1', 'SandeepLoyalka', 'ramprasad_c', 'anushasomething', 'Nisarg_M_Mehta', 'AmoghIN', 'RunwalOfficial', 'Rhowland01', 'Araaish', 'sen_rohini', 'persqftpropmum', 'hutabhuk', 'amitanjuaarush', 'VOAStevenson', 'makaan', 'shah_himanshu27', 'bholekebhai', 'AnjaliJ33', 'Pujamahajan14', 'landacez', 'finddipankar', 'thathappydad', 'ParikshaShekhar', '4aAbraham', 'ninadgogate6781', 'IFJmagazine', 'Mohdbhat2420', 'SaketSurbhi', 'Pscripturient', 'The_Wa_Na', 'Gup_gup_gup04', 'VikasJain78', 'ContArts', 'KapoorNaina010', 'VISHALM1979', 'TOIMumbai', 'SajidKh61779750', 'ByZeroTeam', 'v_swetha', 'Schummie', 'surbhi2406', 'MarinePlaza', 'CoconutEvent', 'hemalitanna', 'Prince_polo000', 'LifePortug', 'vineet_rai', 'SatieshPatelBJP', 'vijyantjoshi', 'elitelandbase', 'acidkidrock', 'RAJNEESHAGRAWA1', 'mine_n_yours', '4SamSaidSo', 'FundManagerMonk', 'Vasim78289823', 'Vaibhvtweets', 'MoodyBlx', 'RizoKhalifa', 'RealSairama', 'Habbash', 'FashionFrappes', 'improdigal__son', 'Chhoti_Farmer', 'Gubomaster', 'atuladevlekar', 'vysh_T', 'editorji', 'Sraboni2014', 'Sana_Tokre', 'AbhilashRout08', 'Mohamma63765098', 'gopalshinde81', 'M_Islam_Monitor', 'satya_toi', 'chits85', 'pyarasaparth', 'atherenergy', 'ayush18_93', 'safartraveluae', 'sonalmehra18', 'RajeshAdvani13', 'lalgudiram', 'shipmagstar1', 'KhanShahbaz771', 'Ra_shmi_Tweets', 'Rahul98390459', '_dealsmagnet', 'thatmaidengirl', 'Mahendrasingh_S', 'yyateen', 'Issuewired', 'Sanjana_04', 'Ashwani12589', 'alman_sheikh', 'uroojusman', 'trance_is_lif3', 'rrainss', 'LekhakAnurag', 'anil_anl2', 'gujratsamachar', 'clerean_pereira', 'Fight4Right16', 'MUNNURURAVINDER', 'UrslanH', 'RajamArya', 'MrSarcastobeat', 'health_z_wealth', 'souravmishra1', 'AapduBazar', 'kottapuram', 'Avinash75442351', 'rahul_zaware', 'mpsharma56', 'hobihobi_98', 'swapniljain1975', 'Har00nY0unis', 'HinduComrade', 'IndegeniousHub', '2ndpassportIn', 'imharshasajnani', 'ra2006a', 'RestnSleepin', 'kb5006', 'farpavillians', 'ByronAmit', 'PrezzVerde', 'MoveOnLifee', 'prashant778866', 'Krish70579577', 'ravihanda', 'SunBunAurPun', 'tanmaykr11480', 'tikakarr', 'SaraNaik1', 'careertips1', 'caldipen', 'somethingonevir', 'DevChau63740719', 'bittlrrealestat', 'Binisha81384302', 'FilmAndPixels', 'Aapkabazar_in', 'BikashBranwal', 'KHimansshu', 'sonali31104', 'specybrowneyes', 'hamidsanaPTI', 'raj_remo', 'SujNaik', 'KnottyMonk', 'Divyesh_kothari', 'anuragrao', 'DEnotDB_search', 'Shreeka00584014', 'chairsmumbai', 'sanghvinikita5', 'PrinceMunjal777', 'beinsomniacs', 'krish_IN', 'Mateen_Hafeez', 'anamikaverma07', 'ashwinidamani', 'enhancedahf', 'DuttRajnish', '18_yash', 'tejas_01', 'ss2167khw', 'abhisheksrg', 'Deepakkumavat', 'thebayacompany', 'Aditya_K_Gupta', 'tejasbaldev', 'a_sandhan', 'jayantugra', 'Thelullz', 'VVK29', 'kaziazra3', 'BalajiE52504581', 'atlantarajesh', 'AvocaTravels', 'apartmentandco', 'SunilMu92358394', 'Rapper85686667', 'themaheshkhuman', 'engrizharulhaq', 'Homaxe1', 'mukulbazaar', 'HafizshaikhQ', 'Hitesh80497355', 'iTuner2', 'ItikaNaik10', 'ChandaPuja', 'mnprasad1958', 'rbatra01', 'azatrump', 'kjain9825', 'madhu202', 'anilsshelar1', 'Mysuru_Infra', 'hasanainshikari', 'ETNOWlive', 'TracyHamming', 'RealSquareValue', 'ajaysahoo1981', 'MahalaxmiCompa1', 'officechairsma1', 'krishnakatwe', 'SamconLtd', 'katranjeet', 'ivleb', 'Akka05338246', 'MayurMa46334426', 'TCDesk', 'monica_mystic', 'RRichieRRich', 'Cheatedbuyer', 'DabralVilas', 'skvandor', 'sakshi0392', 'harishbhist', 'LaxmiReal', 'RVO_Int_Ond', 'SandipTarkas', 'Cricket_GIF', 'KitchenDesire', 'suraj_centaur', 'ilikasrivastava', 'frydeals', 'Sue2716', 'umesh97705207', 'shrutiahuja110', 'prasanto', 'CommonM68843491', 'AmarJai19866798', 'MissMini18', 'tweetsvirat', 'nearmeads', 'anilkb1961', 'MeghnaJ46032597', 'panfusine', 'simplere', 'nitinflywidus', 'Bombay_Company', 'hamzaa348', 'maxmumsonia', 'timhudson233', 'mahendivya3', 'aviralmagan', 'Allhereinfo', 'rohshah07', 'pratik1357', 'angelinadsouza9', 'GChaubey48', 'shanilamaqsood', 'ShamGurav21', 'Haleg2016', 'Paklesbian', 'ManavDevSingh', 'urbanplan_RGB', 'IamShajanSamuel', 'vishald47297062', 'sushant_kumar1', 'neetasharma0', 'BharatBhakth', 'AmitSax38299109', 'DrDinosaur2', 'siyasharma_1992', 'abbhikeabbhi', 'kandpalromaa', 'CNBCTV18Live', 'prasad_perla', 'AkshayKhot80', 'sneha_jagiasi', 'PromostylParis', 'bombay_chic', 'Savitritvs', 'e3d5dc7100fc4a0', 'kpsingh93074076', 'Salil69585521', 'dhanuka_saloni', 'sahilj191', 'kpinsafian', 'ermbates', 'neutral_always', 'PopularKonkan', 'dfcgfc', 'vivekpunjabi', 'atul292', 'thehellomumbai', 'niyutkhare', 'dr_bombay', 'roottruss', 'RoseBoy83593187', 'sheth0594', 'MasoodMustang', 'pranays18', 'MazghanB', 'halalatan', 'saurabhpande9', 'BASF', 'ashu_logic', '2611rachna', 'BoarderSwag', 'DSugarcoated', 'ssachinparhad', 'sankkash', 'BOXMOVECITY', 'RehanKh60082212', 'CSGlobalPtnrs', 'modistadxb', '1955mahesh', 'Krupa2010', 'propmarshal', 'jkd18', 'BChemcorp', 'RamSatpal1', 'theesmaarkhan', 'gentl_reminder', 'TilleyEsquire', 'pabloriverogom', 'Firstnaukri', 'chander27181273', 'alemustafa11', 'vinitbhavi', 'hemanshu20', 'vickeevish', 'DreamZZRadioBBC', 'mtdecided', 'BabulalSonkar', 'Khushnaaz26', 'apy_fiz', 'imAJSri', 'Inaam_a', 'YBhondekar', 'brijeshkumar_in', 'JaamAadmi', 'VISHALN01362084', 'karanpal456', 'ashuleo3', 'placementggn', 'RSThakkar', 'simplysud', 'iKarachiwala', 'NandiniRajeshA', 'sahilrs_', 'rewati_m', 'yug57535370', 'tahirrasheed92', 'ambareeshbaliga', 'CMadaiah', 'framball', 'sunitpanna', 'RahulHalder2', 'minicnair', 'MylesDGooding', 'IPCpune', 'mysticashi', 'MOULABUX', 'pavankorde', 'wickedhruv', 'harveensachdeva', 'raj_sharma58', 'puneet917', 'JANHEART1', 'Heritage_Mill', 'undinokapyaar', 'mrgnk', 'Arvind865522', 'arjula1', 'cutieRjni', 'pankajsengar12', 'ehran8', 'FashionatingW', 'SANJAYRAJAK79', 'KAMALAPRASAD59', 'anksumads', 'akanksha10singh', 'iamglamgulshan', 'Padiram', 'thyshb', 'JoganiMUFC', 'ShutUpShashank', 'desaipankaj1', 'p_r', 'YoSwaroop', 'CorruptConcrete', 'rdsouzas', 'wowwallart', 'SarveshLahoti5', 'ConsumerWoke', 'KumarIngale', 'Obione_knobi', 'ontariocraigsl1', 'HimanshuB71', 'urbanhermit7', 'rathirathi2001', 'ranjitrana4u', 'bajajworld9311', 'BarishLover', 'JonathanKennedy', 'Dwelloin', 'maakaachar', 'viratcricket908', 'kushkatakia', 'PriyangshuG', 'auctionninja', 'Obeevee', 'AashishLimaye', 'tahirhattar73', 'ClintonWFerns', '_man1979_', 'bdchairs', 'TheWeaversThane', 'anonymous_yar', 'naveenjangir', 'Khaki_Tours', 'SobhaLtd', 'Litemy_Fire', 'KarikaalanArima', 'ashwindoke', 'psdwordpress', 'rvp', 'MidfieldMessi', 'LivNest', 'gunducci', 'frontierin', 'SugunaDew', 'babamurshid', 'mysterioussu', 'soowoodofficial', 'Nidhimehta89', 'NaiefMemon', 'Fliers_High', 'iLabMaking', 'RRAMPlc', 'KoinageHR', 'jagadesh_R', 'NehaSin49196696', 'GadhwalVirendra', 'azibsaeen', 'ritujuleja', 'Barrier_S_D', 'tushjain15', 'janakinagaraj', 'Dhaval34332539', 'bilalbari0322', 'Manu85520299', 'PATCHNYCSHOP', 'parienda', 'kleansite', 'MMDrapes', 'PawanMThakur', 'WaqarAhmedWaq12', 'AmjFinance', 'mazii1000', 'JMehta65', 'VickyCh281090', 'Ashapanchal8', 'Aniketw1551', 'biswalsk22', 'priyanka1112', 'reddymadhavan', 'GoyalPradeepCA', 'PatrickPmathias', 'RAMAKRI96902652', 'RutikaMalaviya', 'firozeshakir', 'Osamak_1', 'BigkartDeal', 'Dheerendra_DT', 'AruSharmaTweets', 'llltttppp', 'StillGoode', 'The_Sanrachana', '3DRz_Studio', 'BhattAmbika', 'MKULDEEP666', 'bangera_shamita', 'nikenayyar', 'WingsFour', 'pari0275', 'saurabhrathore', 'sanju24', 'WagleNarendra', 'prashantpnarkar', 'shuklavikas22', 'BeingMojo', 'budh80', 'RationalRishi', 'SmartKate21', 'manishanataraj', 'AamarDhillon5', 'kanchi30385', 'zuniSpeaks', 'DhirajB69792395', 'TeluguReporter', 'anubha_13', 'Cebuinformer', 'sydneyroy2', 'Hritambhara1', 'pihuecreations', 'dkandapal', 'Jay_parmar17', 'ZeedMalik', 'DrRay_tweets', 'ET_Wealth', 'Nagrika', 'Ajay_Dhawan', 'drchetanshah', 'Ameet50154145', 'Itsup2meKt', 'bshaikh_6', 'Stweeder', 'Sonali_AdAge', 'Archanagori', '7wdGg', 'ABC_Farms', 'salimbhoraniya', 'spotlightevent_', 'sss26888', 'NirikshanBilla', 'Bhiku_mahtre', 'Dhyani1811', 'indu_19__', 'Suresh05516541', 'srathorTOI', 'go_mohan', 'usmannghani', 'NiravPa99962620', 'geetv79', 'mikerexta', 'ArifNoorani1', 'theupdaterpost', 'PROCODEGIRL', 'bhs7rocks', 'akadud', 'Jigs2704', 'cugwmui', 'madhurchopra', 'MrinMrinmoy', 'sarfarazoffice', 'NalavadeUlhas', 'bollywood_life', 'gasoomro53', 'DevDighe3', 'BiggDeals4U', 'PropToq', 'anishteli', 'nalandacapital', 'DMareea', 'KailashBabarET', 'i_love_bnssp', 'khaInayak', 'NikSB9', 'TahmoorNazeer', 'Ideal_Ravi', 'deepak_bombay', 'Jayesh774507870', 'verticalmotors', 'goddamnsee', '3_ravindra', 'SomasekharS', 'WithRitesh', 'SaketGokhale', 'arihant_mattres', 'KailashMJadhav1', 'shirishrrao', 'AnilUmeshMathu1', 'shashi_70', 'miclandts', 'kshetragnya', 'bigbrokerdeals', 'ShormiWrites', 'ddpthorat', 'drgeetanjali_s', 'cvrlifescience', 'Crafthues1', 'Faridmansuri884', 'ajay_jhang', 'seematrivedi6', 'GSZaib', 'BhairaviAshar', 'rdcarrington', 'bhavatoshsingh', 'mansikoul', 'vivekmathur4', 'UgleAmruta', 'vishwagreenreal', 'fahad_zaidi786', 'domyprojekty', 'irecms', 'kalmooa', 'WIMGlobal', 'jmcoloton', 'Kidchaos_Creed', 'kamleshy834', 'RLSMumbai', 'kazimtweets', 'vivaciousjimmy', 'THEPOST24', 'official_3f', 'fizaabrar5', 'VMVMVM999', 'Hostwriter', 'Relocatiomumbai', 'kareenas1210', 'Genie2all', 'ammies99', 'adornisadorable', 'Online5Pinky', 'aggarwal__mohit', 'hiyer', 'Rambhimani1', 'RAJESHUMBARKAR', 'Encore_mumbai', 'mesachinjawale', 'darthsierra', 'govindrai80', 'Jago_Bharati', 'kunfuponda', 'mamarahimsalim', 'MowingtheLaw', 'Hitman0191', 'powaleamol', 'its4u12', 'dreams_icey', 'BloggingPaid', 'DhankeBhushan', 'JatinGarg187', 'myworldmyviews', 'DH_W_3', 'aruns89', 'Vinit_pn', 'nikster007', 'negative_pixels', 'KreateCube', 'politicalnaveen', 'sujoydhar2016', 'RanchKinjal', '1SH4N', 'witty_vishal', 'BorahBedabrata', 'dudec856', 'hifrom_vinit', 'PeppiWomaniYo', 'shubhpravesh01', 'mudistha', 'sourabhmutha9', 'changu065', 'VazzupK', 'rvom_finance', 'SujnanNayak', 'rajaqaiserahmed', 'sonaliranade', 'khan2004usa', 'vividBharati', 'RRWagh3', 'ishwarsha27', 'prasanu202', 'maha_mumbai', 'critiqu_k', 'FoolishApathy', 'telescopehealth', 'jonsonbill', 'yaarterakarlega', 'Minervity', 'budbukbum1', 'TezaRock', 'JollyyAshish', 'Bharti_land', 'GangRg42', 'Anonymoustribe', 'nusiyaanu', 'savetps6', 'haridaskc', 'Chal_Rehn_Dy', 'itsAayushgoel', 'rajpatil2222', 'Shubhanshu_BJP', 'AptSach', 'nextbigwhat', 'Omaxer', 'igramghat', 'jaz_joze', 'nimsaw', 'goldpillar99', 'Diwakar22242464', 'Inc42', 'Swaraj_e', 'SanjaymishraEr', 'Hiranyareta', 'doctor_bombay', 'SMFAHADANWAR', 'AdhavSaknure', 'zoogyoofficial', 'Manojafrika', 'djofwinterfell', 'm_hassan_aziz', 'Aadillkhaan', 'pranayj0189', 'babaji_sharma', 'Touch_Diemme', 'ieMilind', 'iamnitinsea', 'aceupdatemag', 'PSD_XHTML', 'shagun__jain', 'mumbai_land', 'marvelmachine', 'jigishushah', 'SuyashParakh', 'Chinglenthoi', 'raghu19957', 'richardkamei', 'nikhilchhajar', 'pilot77718', 'ElyasLucK', 'pksrivastava6', 'Jayatiib', 'SpeakUpMumbai', 'shankar334', 'zoyakhus', 'kamlesh11012897', 'semubhatt', 'vishal1250', 'ArpitoGope', 'Electro__Fusion', 'yashvirana1', 'rohitnand1972', 'Fortune107', 'nehanagpal', 'trueARYAN2', 'wintersockss', 'Arumita_Mitra', 'DestinyPromote1', 'Nipubdit', 'menakadoshi', 'cloudaxishost', 'cruisingheights', 'pratikpanchal06', 'Kemu_Shroff', 'luckyfresh', 'Riverdale_Pune', 'Pri_Borpujari', 'SekarVivita', 'DiHuang', 'jatin_chonkar', 'gopeshkalia', 'dastgeerikariw', 'purohitvaibhav', 'mansijani16', 'funkyskj', 'dryuvaraj108', 'wi_key', 'AiyoobAshraf', 'Godgeez', 'buynuse3', 'sudip_joshi_eng', 'Ankitind18', 'PS_yeah', 'SHIVLINK_RE', 'ccredited_', 'drycbhatt', 'careativo', 'sandeep16176581', 'rohitawasthi', 'hhajhkdhalmashy', 'SupraBo_', 'rahulbhasker84', 'FunPupil', 'JenilParikh', 'eazydiner', 'Vandana45086528', 'DrVishnumodi4', 'ZeeMa1ik', 'FilmSchoolWTF', 'godrejalive', 'Anil31122829', 'virendradube1', 'SanshilM', 'NbzF', 'thebeardedhost', 'Shalki26', 'EnggNaseem', 'micreation_', 'Ankita_Mishra91', 'AAIandILE_mmi', 'ajmeria', 'LasaniLogistics', 'edmundmichael77', 'ZarthostiKomDin', 'brentwpeterson', 'bisprad', 'MoneyXpressIn', 'priranjank', 'Sharda48725708', 'SurfacesMagzin', 'indominus_rex81', 'TerraformR', 'abhijit_adkar', 'Clubinterio', 'vagabond_sid', 'ZeroAppeasement', 'aristo7464', 'EccentricSachin', 'JeonLA', 'shoegal_momo', 'watsupasia', 'samreedhicrafts', 'NayyarSanjeev', 'AmitDas_2k', 'mumbaispace', 'DidoDav', 'DeepakK38476192', 'naazash', 'prafulmaru', 'chezrebellion', 'ArVijaypathak', 'Kishan561', 'ramnathanandk', 'anvitanath', 'utshabmukherjee', 'Byshweta', 'naturaltorque', 'Kumar53878099', 'ruqaya_bano', 'mumbaihy', 'ANAROCKRetail', 'vccircle', 'rekha49', 'Neeti_D'}\n"
          ],
          "name": "stdout"
        }
      ]
    },
    {
      "cell_type": "code",
      "metadata": {
        "id": "0Sc3lHSiwd_v",
        "colab_type": "code",
        "colab": {}
      },
      "source": [
        "file= '/content/drive/My Drive/Colab Notebooks/Internship/Tweet Data/New/Thane/usernames.pickle'\n",
        "with open(file,'wb') as f:\n",
        "    pickle.dump(gen,f)\n",
        "f.close()"
      ],
      "execution_count": 0,
      "outputs": []
    }
  ]
}