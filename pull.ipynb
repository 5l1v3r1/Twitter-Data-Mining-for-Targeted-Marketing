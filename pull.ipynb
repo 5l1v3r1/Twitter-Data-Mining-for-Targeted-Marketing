{
 "cells": [
  {
   "cell_type": "code",
   "execution_count": 3,
   "metadata": {
    "scrolled": false
   },
   "outputs": [],
   "source": [
    "import os\n",
    "from nltk.tag import StanfordNERTagger\n",
    "import pandas as pd\n",
    "from nltk.tag import StanfordNERTagger\n",
    "from nltk.tokenize import word_tokenize\n",
    "import GetOldTweets3 as got\n",
    "import active\n",
    "from textblob import TextBlob\n",
    "\n",
    "tweetCriteria = got.manager.TweetCriteria().setUsername(\"@N_Hiranandani\")\\\n",
    "                                           .setMaxTweets(1000)\n",
    "tweet = got.manager.TweetManager.getTweets(tweetCriteria)\n"
   ]
  },
  {
   "cell_type": "code",
   "execution_count": 9,
   "metadata": {},
   "outputs": [
    {
     "ename": "NameError",
     "evalue": "name 'clear' is not defined",
     "output_type": "error",
     "traceback": [
      "\u001b[1;31m---------------------------------------------------------------------------\u001b[0m",
      "\u001b[1;31mNameError\u001b[0m                                 Traceback (most recent call last)",
      "\u001b[1;32m<ipython-input-9-90d839eefce1>\u001b[0m in \u001b[0;36m<module>\u001b[1;34m\u001b[0m\n\u001b[0;32m     16\u001b[0m \u001b[1;31m# active.wordcloud(li1)\u001b[0m\u001b[1;33m\u001b[0m\u001b[1;33m\u001b[0m\u001b[1;33m\u001b[0m\u001b[0m\n\u001b[0;32m     17\u001b[0m \u001b[1;33m\u001b[0m\u001b[0m\n\u001b[1;32m---> 18\u001b[1;33m \u001b[0mclear\u001b[0m\u001b[1;33m(\u001b[0m\u001b[1;33m)\u001b[0m\u001b[1;33m\u001b[0m\u001b[1;33m\u001b[0m\u001b[0m\n\u001b[0m",
      "\u001b[1;31mNameError\u001b[0m: name 'clear' is not defined"
     ]
    }
   ],
   "source": [
    "\n",
    "nounlist=list()\n",
    "clean=list()\n",
    "for i in tweet:\n",
    "    try:\n",
    "        text1 = active.deEmojify(i.text) \n",
    "#         print(text1)\n",
    "        text=active.clean_tweet(text1)\n",
    "        clean.append(text)\n",
    "        blob = TextBlob(text)\n",
    "        for nouns in blob.noun_phrases:\n",
    "            nounlist.append(nouns)\n",
    "    except:\n",
    "        continue\n",
    "li1=pd.Series(nounlist)\n",
    "\n",
    "active.wordcloud(li1)\n"
   ]
  },
  {
   "cell_type": "code",
   "execution_count": 20,
   "metadata": {
    "scrolled": false
   },
   "outputs": [
    {
     "data": {
      "image/png": "[encoded data removed]",
      "text/plain": [
       "<Figure size 720x720 with 1 Axes>"
      ]
     },
     "metadata": {
      "needs_background": "light"
     },
     "output_type": "display_data"
    }
   ],
   "source": [
    "from nltk import word_tokenize\n",
    "import nltk\n",
    "nounlist=list()\n",
    "for i in tweet:\n",
    "    try:\n",
    "        text1 = active.deEmojify(i.text) \n",
    "        text2=active.clean_tweet(text1)\n",
    "        text=word_tokenize(text2)\n",
    "        hello=nltk.pos_tag(text)\n",
    "        #print(hello)\n",
    "        is_noun = lambda pos: pos[:2] == 'NN'\n",
    "        nouns = [word for (word, pos) in hello if is_noun(pos)] \n",
    "        nounlist.extend(nouns)\n",
    "    except Exception as e:\n",
    "        continue\n",
    "        \n",
    "        \n",
    "li1=pd.Series(nounlist)\n",
    "\n",
    "active.wordcloud(li1)\n",
    "\n",
    "\n",
    "\n",
    "\n"
   ]
  },
  {
   "cell_type": "code",
   "execution_count": null,
   "metadata": {},
   "outputs": [],
   "source": []
  },
  {
   "cell_type": "code",
   "execution_count": null,
   "metadata": {},
   "outputs": [],
   "source": [
    "import os\n",
    "st = StanfordNERTagger('C:/Users/Parth/Contacts/Downloads/New Stanford/stanford-english-corenlp-2018-10-05-models/edu/stanford/nlp/models/ner/english.all.3class.caseless.distsim.crf.ser.gz','C:/Users/Parth/Contacts/Downloads/stanford-ner-2015-04-20/stanford-ner.jar',encoding='utf-8')\n",
    "java_path = \"C:/Program Files/Java/jdk1.8.0_131/bin/java.exe\"\n",
    "os.environ['JAVAHOME'] = java_path\n",
    "\n",
    "\n",
    "tokenized_text = word_tokenize(text)\n",
    "classified_text = st.tag(tokenized_text)\n",
    "\n",
    "is_noun = lambda pos: pos[:3] == 'ORG'\n",
    "nouns = [word for (word, pos) in classified_text if is_noun(pos)] \n",
    "print(nouns)\n",
    "noun=pd.Series(nouns)\n",
    "active.wordcloud(noun)"
   ]
  }
 ],
 "metadata": {
  "kernelspec": {
   "display_name": "Python 3",
   "language": "python",
   "name": "python3"
  },
  "language_info": {
   "codemirror_mode": {
    "name": "ipython",
    "version": 3
   },
   "file_extension": ".py",
   "mimetype": "text/x-python",
   "name": "python",
   "nbconvert_exporter": "python",
   "pygments_lexer": "ipython3",
   "version": "3.7.3"
  }
 },
 "nbformat": 4,
 "nbformat_minor": 2
}
