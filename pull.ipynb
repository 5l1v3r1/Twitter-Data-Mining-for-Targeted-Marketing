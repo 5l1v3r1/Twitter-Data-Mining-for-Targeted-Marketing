{
  "nbformat": 4,
  "nbformat_minor": 0,
  "metadata": {
    "colab": {
      "name": "pull.ipynb",
      "provenance": [],
      "authorship_tag": "ABX9TyPg8GSj6kAY8EeT/S9xGH/l",
      "include_colab_link": true
    },
    "kernelspec": {
      "name": "python3",
      "display_name": "Python 3"
    },
    "accelerator": "TPU"
  },
  "cells": [
    {
      "cell_type": "markdown",
      "metadata": {
        "id": "view-in-github",
        "colab_type": "text"
      },
      "source": [
        "<a href=\"https://colab.research.google.com/github/VirtualGoat/Twitter-Data-Mining/blob/master/pull.ipynb\" target=\"_parent\"><img src=\"https://colab.research.google.com/assets/colab-badge.svg\" alt=\"Open In Colab\"/></a>"
      ]
    },
    {
      "cell_type": "code",
      "metadata": {
        "id": "M7rAaTYnjZX2",
        "colab_type": "code",
        "outputId": "7ce1c072-3574-4349-ae89-b1a05f6ef16a",
        "colab": {
          "base_uri": "https://localhost:8080/",
          "height": 203
        }
      },
      "source": [
        "!pip install GetOldTweets3"
      ],
      "execution_count": 0,
      "outputs": [
        {
          "output_type": "stream",
          "text": [
            "Collecting GetOldTweets3\n",
            "  Downloading https://files.pythonhosted.org/packages/ed/f4/a00c2a7c90801abc875325bb5416ce9090ac86d06a00cc887131bd73ba45/GetOldTweets3-0.0.11-py3-none-any.whl\n",
            "Requirement already satisfied: lxml>=3.5.0 in /usr/local/lib/python3.6/dist-packages (from GetOldTweets3) (4.2.6)\n",
            "Collecting pyquery>=1.2.10\n",
            "  Downloading https://files.pythonhosted.org/packages/78/43/95d42e386c61cb639d1a0b94f0c0b9f0b7d6b981ad3c043a836c8b5bc68b/pyquery-1.4.1-py2.py3-none-any.whl\n",
            "Collecting cssselect>0.7.9\n",
            "  Downloading https://files.pythonhosted.org/packages/3b/d4/3b5c17f00cce85b9a1e6f91096e1cc8e8ede2e1be8e96b87ce1ed09e92c5/cssselect-1.1.0-py2.py3-none-any.whl\n",
            "Installing collected packages: cssselect, pyquery, GetOldTweets3\n",
            "Successfully installed GetOldTweets3-0.0.11 cssselect-1.1.0 pyquery-1.4.1\n"
          ],
          "name": "stdout"
        }
      ]
    },
    {
      "cell_type": "code",
      "metadata": {
        "id": "UFy5Uq10j2CD",
        "colab_type": "code",
        "outputId": "d6097c02-fa91-4e8b-878c-c13ad42ea3ee",
        "colab": {
          "base_uri": "https://localhost:8080/",
          "height": 129
        }
      },
      "source": [
        "import GetOldTweets3\n",
        "from google.colab import drive\n",
        "import pickle\n",
        "import GetOldTweets3 as got\n",
        "drive.mount('/content/drive')\n",
        "DATA_PATH = \"/content/drive/My Drive/Colab Notebooks/Internship/Usernames/New/Thane\"\n"
      ],
      "execution_count": 0,
      "outputs": [
        {
          "output_type": "stream",
          "text": [
            "Go to this URL in a browser: https://accounts.google.com/o/oauth2/auth?client_id=947318989803-6bn6qk8qdgf4n4g3pfee6491hc0brc4i.apps.googleusercontent.com&redirect_uri=urn%3aietf%3awg%3aoauth%3a2.0%3aoob&response_type=code&scope=email%20https%3a%2f%2fwww.googleapis.com%2fauth%2fdocs.test%20https%3a%2f%2fwww.googleapis.com%2fauth%2fdrive%20https%3a%2f%2fwww.googleapis.com%2fauth%2fdrive.photos.readonly%20https%3a%2f%2fwww.googleapis.com%2fauth%2fpeopleapi.readonly\n",
            "\n",
            "Enter your authorization code:\n",
            "··········\n",
            "Mounted at /content/drive\n"
          ],
          "name": "stdout"
        }
      ]
    },
    {
      "cell_type": "code",
      "metadata": {
        "id": "Kb44sArZkVbD",
        "colab_type": "code",
        "outputId": "01ea3b32-8781-41d1-ebd2-d32b1f1fa3f0",
        "colab": {
          "base_uri": "https://localhost:8080/",
          "height": 35
        }
      },
      "source": [
        "tweetCriteria = got.manager.TweetCriteria().setQuerySearch('(Home decor Thane) OR (Home Loan Thane) OR (Furniture Thane) OR (property for sale Thane) OR (home for sale Thane) OR (estate agents Thane) OR (best builders Thane) OR (realtor Thane)')\\\n",
        "                                           .setSince(\"2019-01-01\")\\\n",
        "                                           .setUntil(\"2020-03-01\")\n",
        "tweet = got.manager.TweetManager.getTweets(tweetCriteria)\n",
        "print(len(tweet))"
      ],
      "execution_count": 0,
      "outputs": [
        {
          "output_type": "stream",
          "text": [
            "509\n"
          ],
          "name": "stdout"
        }
      ]
    },
    {
      "cell_type": "code",
      "metadata": {
        "id": "NTJXBeMS3ycV",
        "colab_type": "code",
        "outputId": "d18ec347-83ac-4163-dd56-f371e6e297d6",
        "colab": {
          "base_uri": "https://localhost:8080/",
          "height": 35
        }
      },
      "source": [
        "tweetCriteria = got.manager.TweetCriteria().setQuerySearch('(sell home Thane) OR (sell property Thane) OR (sell house Thane) OR (sell flat Thane) OR (interior designer Thane) OR (house for sale Thane) OR (flat for sale Thane) OR (home appliance Thane) OR (vastu Thane) OR (home decorator Thane)')\\\n",
        "                                           .setSince(\"2019-01-01\")\\\n",
        "                                           .setUntil(\"2020-03-01\")\n",
        "tweet1 = got.manager.TweetManager.getTweets(tweetCriteria)\n",
        "print(len(tweet1))"
      ],
      "execution_count": 0,
      "outputs": [
        {
          "output_type": "stream",
          "text": [
            "401\n"
          ],
          "name": "stdout"
        }
      ]
    },
    {
      "cell_type": "code",
      "metadata": {
        "id": "KIupGzjK35od",
        "colab_type": "code",
        "outputId": "a6c6f1e2-3e52-42a6-ec61-685c6c51f553",
        "colab": {
          "base_uri": "https://localhost:8080/",
          "height": 35
        }
      },
      "source": [
        "tweetCriteria = got.manager.TweetCriteria().setQuerySearch('(moving Thane property) OR (move Thane house) OR (moving Thane house) OR (looking Thane flat) OR (looking Thane property) OR (looking Thane real estate) OR (searching Thane flat) OR (searching Thane property) OR (searching real estate Thane) OR (look Thane flat) OR (look Thane property)')\\\n",
        "                                           .setSince(\"2019-01-01\")\\\n",
        "                                           .setUntil(\"2020-03-01\")\n",
        "tweet2 = got.manager.TweetManager.getTweets(tweetCriteria)\n",
        "print(len(tweet2))"
      ],
      "execution_count": 0,
      "outputs": [
        {
          "output_type": "stream",
          "text": [
            "105\n"
          ],
          "name": "stdout"
        }
      ]
    },
    {
      "cell_type": "code",
      "metadata": {
        "id": "hyKUhN8E4WUl",
        "colab_type": "code",
        "outputId": "3866e1d9-2416-4693-808c-9ac93a6b9818",
        "colab": {
          "base_uri": "https://localhost:8080/",
          "height": 35
        }
      },
      "source": [
        "tweetCriteria = got.manager.TweetCriteria().setQuerySearch('(look Mumbai real estate) OR (search Mumbai flat) OR (search Mumbai property) OR (search real estate Mumbai) OR (buying Mumbai apartment) OR (purchasing Mumbai apartment) OR (buy Mumbai apartment) OR (purchase Mumbai apartment)')\\\n",
        "                                           .setSince(\"2019-01-01\")\\\n",
        "                                           .setUntil(\"2020-03-01\")\n",
        "tweet3 = got.manager.TweetManager.getTweets(tweetCriteria)\n",
        "print(len(tweet3))"
      ],
      "execution_count": 0,
      "outputs": [
        {
          "output_type": "stream",
          "text": [
            "48\n"
          ],
          "name": "stdout"
        }
      ]
    },
    {
      "cell_type": "code",
      "metadata": {
        "id": "0tcjwKB75E7c",
        "colab_type": "code",
        "colab": {}
      },
      "source": [
        "slota=list()"
      ],
      "execution_count": 0,
      "outputs": []
    },
    {
      "cell_type": "code",
      "metadata": {
        "id": "x7aIxfkb4heA",
        "colab_type": "code",
        "outputId": "d9593602-6a5f-4c26-d305-13fe53dc128a",
        "colab": {
          "base_uri": "https://localhost:8080/",
          "height": 35
        }
      },
      "source": [
        "\n",
        "slota.extend(tweet1)\n",
        "print(len(slota))"
      ],
      "execution_count": 0,
      "outputs": [
        {
          "output_type": "stream",
          "text": [
            "910\n"
          ],
          "name": "stdout"
        }
      ]
    },
    {
      "cell_type": "code",
      "metadata": {
        "id": "FcXCzLbF4wto",
        "colab_type": "code",
        "colab": {}
      },
      "source": [
        "no=['decor','realt','digi','acre','resid','stock','group','article','project','commerc','brick','india','guru','new','market', \\\n",
        "    'enterp','vastu','astro','estate','mall','hous','Thane','sky','room','home','flat','design','interior','furniture','trend', \\\n",
        "    'pack','build','work','propert','vastu','gym','loan','luxury','bloomberg','business','direct','time',\\\n",
        "    'revenue','day','bank','agen','job','minis','corpo','tech', \\\n",
        "    'boss','nation','associat','developer','broth','invest','people','dna','media','break','bombay','lodha','hiranandani']\n",
        "finalset=set()\n",
        "for i in clean:\n",
        "    if any(word in i.lower() for word in no):\n",
        "        finalset.add(i)\n"
      ],
      "execution_count": 0,
      "outputs": []
    },
    {
      "cell_type": "code",
      "metadata": {
        "id": "0Sc3lHSiwd_v",
        "colab_type": "code",
        "colab": {}
      },
      "source": [
        "file= '/content/drive/My Drive/Colab Notebooks/Internship/Tweet Data/New/Thane/slotb.pickle'\n",
        "with open(file,'wb') as f:\n",
        "    pickle.dump(slota,f)\n",
        "f.close()"
      ],
      "execution_count": 0,
      "outputs": []
    }
  ]
}