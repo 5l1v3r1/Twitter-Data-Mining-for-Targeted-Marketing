{
 "cells": [
  {
   "cell_type": "code",
   "execution_count": 3,
   "metadata": {},
   "outputs": [],
   "source": [
    "# -*- coding: utf-8 -*-\n",
    "\"\"\"\n",
    "Created on Sun Dec 29 22:55:50 2019\n",
    "\n",
    "@author: Parth\n",
    "\"\"\"\n",
    "import urllib\n",
    "import collections\n",
    "import re\n",
    "from collections import Counter\n",
    "import pickle \n",
    "import string\n",
    "import numpy as np\n",
    "import pandas as pd\n",
    "from textblob import TextBlob\n",
    "import tweepy\n",
    "\n",
    "consumer_key='rNrnFupaEqKt0eb7hjbdHKdWg'\n",
    "consumer_secret= 'DTTMoQOrCBmngaXmOnFhrBjdjwtT54x0AbGvNwwuqyYNWwEvc7'\n",
    "access_token='1002268050513575936-gGrQUmDiMyCxO2Y88lc3ojqNzbtLGm'\n",
    "access_token_secret='G572YTe2S5TQTTaXhFvl1WyNopa8ilrkgWSlCXBZQwU4C'\n",
    "auth = tweepy.OAuthHandler(consumer_key, consumer_secret)\n",
    "auth.set_access_token(access_token, access_token_secret)\n",
    "\n",
    "api = tweepy.API(auth,wait_on_rate_limit=True)\n",
    "\n",
    "tweets=api.user_timeline('N_Hiranandani')\n"
   ]
  },
  {
   "cell_type": "code",
   "execution_count": 10,
   "metadata": {
    "scrolled": false
   },
   "outputs": [],
   "source": [
    "\n",
    "#stat=api.get_status(tweets[0].id)\n",
    "#print(stat.id)\n",
    "hello=api.favorites('N_Hiranandani')\n",
    "\n"
   ]
  },
  {
   "cell_type": "code",
   "execution_count": 14,
   "metadata": {},
   "outputs": [
    {
     "name": "stdout",
     "output_type": "stream",
     "text": [
      "https://twitter.com/BKGoenka/status/1210852875137478658\n",
      "https://twitter.com/NaredcoNational/status/1210811251133018112\n",
      "https://twitter.com/ASSOCHAM4India/status/1210081385102241793\n",
      "https://twitter.com/scpatodia/status/1210027604272533504\n",
      "https://twitter.com/RahulGa13550639/status/1209863254408908802\n",
      "https://twitter.com/krish_569/status/1209688638671347712\n",
      "https://twitter.com/h_communities/status/1209360483834195968\n",
      "https://twitter.com/ASSOCHAM4India/status/1209350557225242624\n",
      "https://twitter.com/lalitadvani/status/1209317872335376388\n",
      "https://twitter.com/NaredcoNational/status/1209064313664598016\n",
      "https://twitter.com/NaredcoWest/status/1209010551696871424\n",
      "https://twitter.com/dineshjoshi70/status/1208996908317863936\n",
      "https://twitter.com/ASHWINCHAWWLA/status/1208916163721220103\n",
      "https://twitter.com/ASSOCHAM4India/status/1207960535771168768\n",
      "https://twitter.com/MIB_India/status/1207952467402489857\n",
      "https://twitter.com/PMOIndia/status/1207915163757637632\n",
      "https://twitter.com/PMOIndia/status/1207914286028214272\n",
      "https://twitter.com/PMOIndia/status/1207912934711496704\n",
      "https://twitter.com/PMOIndia/status/1207911571705360385\n",
      "https://twitter.com/PMOIndia/status/1207910526459641857\n"
     ]
    }
   ],
   "source": [
    "for i in hello:\n",
    "#    print(i.text)\n",
    "    url='https://twitter.com/'\n",
    "    url+=i.user.screen_name+'/status/'+str(i.id)\n",
    "    print(url)"
   ]
  },
  {
   "cell_type": "code",
   "execution_count": null,
   "metadata": {},
   "outputs": [],
   "source": []
  }
 ],
 "metadata": {
  "kernelspec": {
   "display_name": "Python 3",
   "language": "python",
   "name": "python3"
  },
  "language_info": {
   "codemirror_mode": {
    "name": "ipython",
    "version": 3
   },
   "file_extension": ".py",
   "mimetype": "text/x-python",
   "name": "python",
   "nbconvert_exporter": "python",
   "pygments_lexer": "ipython3",
   "version": "3.7.3"
  }
 },
 "nbformat": 4,
 "nbformat_minor": 2
}
