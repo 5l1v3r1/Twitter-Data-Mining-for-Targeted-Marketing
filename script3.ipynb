{
 "cells": [
  {
   "cell_type": "code",
   "execution_count": 4,
   "metadata": {},
   "outputs": [
    {
     "name": "stdout",
     "output_type": "stream",
     "text": [
      "{'origin': '14.142.96.83, 14.142.96.83'}\n"
     ]
    }
   ],
   "source": [
    "\n",
    "\n",
    "# from verifier import Verifier\n",
    "\n",
    "# # Use normal SMTP to connect to the server\n",
    "# normal_verifier = Verifier(source_addr='user@example.com') # No proxy\n",
    "# results = normal_verifier.verify('nagarkarparth@gmail.com')\n",
    "\n",
    "# # Use socks proxy to connect over SMTP\n",
    "# socks_verifier =  Verifier(\n",
    "#     source_addr='user@example.com',\n",
    "#     proxy_type='socks5',\n",
    "#     proxy_addr='socks5.your-proxy-provider.com',\n",
    "#     proxy_port=1080,\n",
    "#     proxy_username='funky-username',\n",
    "#     proxy_password='crazy-password'\n",
    "# )\n",
    "# results = socks_verifier.verify('myemail@example.com')\n",
    "\n"
   ]
  },
  {
   "cell_type": "code",
   "execution_count": 5,
   "metadata": {},
   "outputs": [
    {
     "name": "stdout",
     "output_type": "stream",
     "text": [
      "{'origin': '14.142.96.83, 14.142.96.83'}\n"
     ]
    }
   ],
   "source": [
    "# import socks\n",
    "\n",
    "# s = socks.socksocket() # Same API as socket.socket in the standard lib\n",
    "# s.set_proxy(socks.HTTP, \"190.186.59.22\",52335)\n",
    "\n",
    "\n",
    "import socks\n",
    "import socket\n",
    "socks.set_default_proxy(socks.PROXY_TYPE_HTTP, \"36.89.41.26\", 38718)\n",
    "socket.socket = socks.socksocket\n",
    "\n",
    "\n",
    "\n",
    "import requests\n",
    "url = 'https://httpbin.org/ip'\n",
    "proxies = {\n",
    "    \"http\": 'http://91.190.85.97:34286', \n",
    "    \"https\": 'http://91.190.85.97:34286'\n",
    "}\n",
    "response = requests.get(url)\n",
    "print(response.json())"
   ]
  },
  {
   "cell_type": "code",
   "execution_count": null,
   "metadata": {},
   "outputs": [],
   "source": [
    "\n"
   ]
  }
 ],
 "metadata": {
  "kernelspec": {
   "display_name": "Python 3",
   "language": "python",
   "name": "python3"
  },
  "language_info": {
   "codemirror_mode": {
    "name": "ipython",
    "version": 3
   },
   "file_extension": ".py",
   "mimetype": "text/x-python",
   "name": "python",
   "nbconvert_exporter": "python",
   "pygments_lexer": "ipython3",
   "version": "3.7.3"
  }
 },
 "nbformat": 4,
 "nbformat_minor": 2
}
